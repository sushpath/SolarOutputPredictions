{
 "cells": [
  {
   "cell_type": "code",
   "execution_count": 434,
   "id": "0b6e57a0",
   "metadata": {},
   "outputs": [],
   "source": [
    "import pandas as pd\n",
    "import numpy as np\n",
    "import matplotlib.pyplot as plt\n",
    "from matplotlib import rcParams\n",
    "# apply some styling\n",
    "plt.style.use(\"ggplot\")\n",
    "rcParams['figure.figsize'] = (12, 6)"
   ]
  },
  {
   "cell_type": "code",
   "execution_count": 435,
   "id": "a05339e6",
   "metadata": {},
   "outputs": [],
   "source": [
    "weather_df = pd.read_csv('cleaned_weather.csv')\n",
    "# read the solar plant generation data\n",
    "solar_df = pd.read_csv('plant_output.csv')\n",
    "# drop unused columns\n",
    "solar_df = solar_df.drop(['Plant', 'Real-time power(kW)', 'Daily feed-in energy(kWh)', 'Energy purchased today(kWh)'], axis=1)\n",
    "\n",
    "# Both weather and solar df are date aligned\n",
    "data_df = weather_df\n",
    "data_df['output'] = solar_df['Daily yield(kWh)']\n",
    "# Remove entries with known 0 output\n",
    "data_df = data_df[~(data_df['output'] == 0)]"
   ]
  },
  {
   "cell_type": "code",
   "execution_count": 412,
   "id": "d3f0082f",
   "metadata": {},
   "outputs": [
    {
     "data": {
      "text/html": [
       "<div>\n",
       "<style scoped>\n",
       "    .dataframe tbody tr th:only-of-type {\n",
       "        vertical-align: middle;\n",
       "    }\n",
       "\n",
       "    .dataframe tbody tr th {\n",
       "        vertical-align: top;\n",
       "    }\n",
       "\n",
       "    .dataframe thead th {\n",
       "        text-align: right;\n",
       "    }\n",
       "</style>\n",
       "<table border=\"1\" class=\"dataframe\">\n",
       "  <thead>\n",
       "    <tr style=\"text-align: right;\">\n",
       "      <th></th>\n",
       "      <th>0</th>\n",
       "      <th>1</th>\n",
       "      <th>2</th>\n",
       "      <th>3</th>\n",
       "      <th>4</th>\n",
       "      <th>5</th>\n",
       "      <th>6</th>\n",
       "      <th>7</th>\n",
       "      <th>8</th>\n",
       "      <th>9</th>\n",
       "      <th>10</th>\n",
       "      <th>11</th>\n",
       "      <th>12</th>\n",
       "      <th>13</th>\n",
       "    </tr>\n",
       "  </thead>\n",
       "  <tbody>\n",
       "    <tr>\n",
       "      <th>0</th>\n",
       "      <td>-1.716355</td>\n",
       "      <td>-1.403946</td>\n",
       "      <td>-0.829721</td>\n",
       "      <td>-1.376138</td>\n",
       "      <td>0.242118</td>\n",
       "      <td>1.004365</td>\n",
       "      <td>-0.293308</td>\n",
       "      <td>-0.6003</td>\n",
       "      <td>-0.451987</td>\n",
       "      <td>-0.883851</td>\n",
       "      <td>-0.680943</td>\n",
       "      <td>-0.651917</td>\n",
       "      <td>-1.509529</td>\n",
       "      <td>-0.281256</td>\n",
       "    </tr>\n",
       "    <tr>\n",
       "      <th>1</th>\n",
       "      <td>-1.693505</td>\n",
       "      <td>-0.916350</td>\n",
       "      <td>-1.188969</td>\n",
       "      <td>-1.340224</td>\n",
       "      <td>-0.316047</td>\n",
       "      <td>0.483319</td>\n",
       "      <td>-0.293308</td>\n",
       "      <td>-0.6003</td>\n",
       "      <td>-0.451987</td>\n",
       "      <td>-0.686336</td>\n",
       "      <td>-0.583275</td>\n",
       "      <td>-0.588037</td>\n",
       "      <td>-1.502480</td>\n",
       "      <td>-0.042159</td>\n",
       "    </tr>\n",
       "    <tr>\n",
       "      <th>2</th>\n",
       "      <td>-1.670655</td>\n",
       "      <td>-1.322680</td>\n",
       "      <td>-1.787716</td>\n",
       "      <td>-1.735276</td>\n",
       "      <td>-1.127923</td>\n",
       "      <td>0.024799</td>\n",
       "      <td>-0.293308</td>\n",
       "      <td>-0.6003</td>\n",
       "      <td>-0.451987</td>\n",
       "      <td>0.044818</td>\n",
       "      <td>-0.513248</td>\n",
       "      <td>-0.502863</td>\n",
       "      <td>-1.495189</td>\n",
       "      <td>0.017616</td>\n",
       "    </tr>\n",
       "    <tr>\n",
       "      <th>3</th>\n",
       "      <td>-1.647804</td>\n",
       "      <td>-1.187236</td>\n",
       "      <td>-2.296651</td>\n",
       "      <td>-2.094413</td>\n",
       "      <td>-1.584603</td>\n",
       "      <td>-0.301724</td>\n",
       "      <td>-0.293308</td>\n",
       "      <td>-0.6003</td>\n",
       "      <td>-0.451987</td>\n",
       "      <td>-0.859595</td>\n",
       "      <td>-0.476393</td>\n",
       "      <td>-0.460277</td>\n",
       "      <td>-1.487654</td>\n",
       "      <td>-0.639903</td>\n",
       "    </tr>\n",
       "    <tr>\n",
       "      <th>4</th>\n",
       "      <td>-1.624954</td>\n",
       "      <td>-1.105970</td>\n",
       "      <td>-1.997277</td>\n",
       "      <td>-1.843017</td>\n",
       "      <td>-1.178665</td>\n",
       "      <td>-0.114147</td>\n",
       "      <td>-0.293308</td>\n",
       "      <td>-0.6003</td>\n",
       "      <td>-0.451987</td>\n",
       "      <td>-0.280909</td>\n",
       "      <td>-0.588803</td>\n",
       "      <td>-0.566744</td>\n",
       "      <td>-1.479148</td>\n",
       "      <td>-0.460580</td>\n",
       "    </tr>\n",
       "  </tbody>\n",
       "</table>\n",
       "</div>"
      ],
      "text/plain": [
       "         0         1         2         3         4         5         6   \\\n",
       "0 -1.716355 -1.403946 -0.829721 -1.376138  0.242118  1.004365 -0.293308   \n",
       "1 -1.693505 -0.916350 -1.188969 -1.340224 -0.316047  0.483319 -0.293308   \n",
       "2 -1.670655 -1.322680 -1.787716 -1.735276 -1.127923  0.024799 -0.293308   \n",
       "3 -1.647804 -1.187236 -2.296651 -2.094413 -1.584603 -0.301724 -0.293308   \n",
       "4 -1.624954 -1.105970 -1.997277 -1.843017 -1.178665 -0.114147 -0.293308   \n",
       "\n",
       "       7         8         9         10        11        12        13  \n",
       "0 -0.6003 -0.451987 -0.883851 -0.680943 -0.651917 -1.509529 -0.281256  \n",
       "1 -0.6003 -0.451987 -0.686336 -0.583275 -0.588037 -1.502480 -0.042159  \n",
       "2 -0.6003 -0.451987  0.044818 -0.513248 -0.502863 -1.495189  0.017616  \n",
       "3 -0.6003 -0.451987 -0.859595 -0.476393 -0.460277 -1.487654 -0.639903  \n",
       "4 -0.6003 -0.451987 -0.280909 -0.588803 -0.566744 -1.479148 -0.460580  "
      ]
     },
     "execution_count": 412,
     "metadata": {},
     "output_type": "execute_result"
    }
   ],
   "source": [
    "from sklearn.model_selection import train_test_split\n",
    "from sklearn.metrics import mean_squared_error, r2_score\n",
    "from sklearn.preprocessing import StandardScaler\n",
    "scaler = StandardScaler()\n",
    "numeric_cols = data_df.select_dtypes(include=[np.number]).columns\n",
    "data_df = data_df[numeric_cols]\n",
    "data_norm = pd.DataFrame(scaler.fit_transform(data_df))\n",
    "data_norm.head(5)"
   ]
  },
  {
   "cell_type": "code",
   "execution_count": null,
   "id": "16bebae0",
   "metadata": {},
   "outputs": [],
   "source": [
    "# Split data \n",
    "X = data_df.drop('output', axis=1)\n",
    "y = data_df['output']\n",
    "X_train, X_test, y_train, y_test = train_test_split(X, y, test_size=0.2, random_state=12)\n",
    "print( 'X ', X.shape)\n",
    "print( 'y ', y.shape)\n",
    "print( 'X_train ', X_train.shape)\n",
    "print( 'y_train ', y_train.shape)"
   ]
  },
  {
   "cell_type": "code",
   "execution_count": 415,
   "id": "5dc6fe7a",
   "metadata": {},
   "outputs": [],
   "source": [
    "def predict_and_eval(model, X_train, y_train, X_test, y_test):\n",
    "    y_train_pred = model.predict(X_train)\n",
    "    y_test_pred = model.predict(X_test)\n",
    "\n",
    "    tr_mse = mean_squared_error(y_train, y_train_pred)\n",
    "    tr_r2 = r2_score(y_train, y_train_pred)\n",
    "\n",
    "    mse = mean_squared_error(y_test, y_test_pred)\n",
    "    r2 = r2_score(y_test, y_test_pred)\n",
    "\n",
    "    print(f\"Train Mean Squared Error: {tr_mse}\")\n",
    "    print(f\"Train R-squared: {tr_r2}\")\n",
    "\n",
    "    print(f\"Test Mean Squared Error: {mse}\")\n",
    "    print(f\"Test R-squared: {r2}\")\n",
    "\n",
    "    metrics = {\n",
    "        'train_mse' : tr_mse,\n",
    "        'train_r2' : tr_r2,\n",
    "        'test_mse' : mse,\n",
    "        'test_r2' : r2\n",
    "        }\n",
    "\n",
    "    return metrics, y_train_pred, y_test_pred"
   ]
  },
  {
   "cell_type": "code",
   "execution_count": 416,
   "id": "a2ac3e9d",
   "metadata": {},
   "outputs": [],
   "source": [
    "import tensorflow as tf\n",
    "from tensorflow.keras import Input\n",
    "from tensorflow.keras.layers import Dense\n",
    "from tensorflow.keras.models import Sequential\n",
    "from tensorflow.keras.losses import MeanSquaredError"
   ]
  },
  {
   "cell_type": "code",
   "execution_count": 429,
   "id": "a2a27e35",
   "metadata": {},
   "outputs": [],
   "source": [
    "def build_model():\n",
    "    tf.random.set_seed(32)\n",
    "    model = Sequential([\n",
    "        Input(shape=(13,)),\n",
    "        tf.keras.layers.Normalization(axis=None),\n",
    "        #tf.keras.layers.Dropout(rate=0.1),\n",
    "        Dense(units=128, activation='relu', name='layer0'),\n",
    "        tf.keras.layers.Dropout(rate=0.1),\n",
    "        Dense(units=64, activation='relu', name='layer1'),\n",
    "        Dense(units=16, activation='relu', name='layer2'),\n",
    "        Dense(units=1, activation='linear', name='output'),\n",
    "        ])\n",
    "    model.summary()\n",
    "    return model\n",
    "\n",
    "def train_model(model, X_train, y_train, epcs = 100):\n",
    "    model.compile(optimizer=tf.keras.optimizers.Adam(0.001), loss=MeanSquaredError())\n",
    "    history = model.fit(X_train, y_train, epochs=epcs, verbose=0)\n",
    "    nn_metrics, nn_y_train_pred, nn_y_test_pred = predict_and_eval(model, X_train, y_train, X_test, y_test)\n",
    "    return nn_metrics, nn_y_test_pred\n"
   ]
  },
  {
   "cell_type": "code",
   "execution_count": 430,
   "id": "e87c7eed",
   "metadata": {},
   "outputs": [
    {
     "data": {
      "text/html": [
       "<pre style=\"white-space:pre;overflow-x:auto;line-height:normal;font-family:Menlo,'DejaVu Sans Mono',consolas,'Courier New',monospace\"><span style=\"font-weight: bold\">Model: \"sequential_73\"</span>\n",
       "</pre>\n"
      ],
      "text/plain": [
       "\u001b[1mModel: \"sequential_73\"\u001b[0m\n"
      ]
     },
     "metadata": {},
     "output_type": "display_data"
    },
    {
     "data": {
      "text/html": [
       "<pre style=\"white-space:pre;overflow-x:auto;line-height:normal;font-family:Menlo,'DejaVu Sans Mono',consolas,'Courier New',monospace\">┏━━━━━━━━━━━━━━━━━━━━━━━━━━━━━━━━━┳━━━━━━━━━━━━━━━━━━━━━━━━┳━━━━━━━━━━━━━━━┓\n",
       "┃<span style=\"font-weight: bold\"> Layer (type)                    </span>┃<span style=\"font-weight: bold\"> Output Shape           </span>┃<span style=\"font-weight: bold\">       Param # </span>┃\n",
       "┡━━━━━━━━━━━━━━━━━━━━━━━━━━━━━━━━━╇━━━━━━━━━━━━━━━━━━━━━━━━╇━━━━━━━━━━━━━━━┩\n",
       "│ normalization_3 (<span style=\"color: #0087ff; text-decoration-color: #0087ff\">Normalization</span>) │ (<span style=\"color: #00d7ff; text-decoration-color: #00d7ff\">None</span>, <span style=\"color: #00af00; text-decoration-color: #00af00\">13</span>)             │             <span style=\"color: #00af00; text-decoration-color: #00af00\">3</span> │\n",
       "├─────────────────────────────────┼────────────────────────┼───────────────┤\n",
       "│ layer0 (<span style=\"color: #0087ff; text-decoration-color: #0087ff\">Dense</span>)                  │ (<span style=\"color: #00d7ff; text-decoration-color: #00d7ff\">None</span>, <span style=\"color: #00af00; text-decoration-color: #00af00\">128</span>)            │         <span style=\"color: #00af00; text-decoration-color: #00af00\">1,792</span> │\n",
       "├─────────────────────────────────┼────────────────────────┼───────────────┤\n",
       "│ dropout_5 (<span style=\"color: #0087ff; text-decoration-color: #0087ff\">Dropout</span>)             │ (<span style=\"color: #00d7ff; text-decoration-color: #00d7ff\">None</span>, <span style=\"color: #00af00; text-decoration-color: #00af00\">128</span>)            │             <span style=\"color: #00af00; text-decoration-color: #00af00\">0</span> │\n",
       "├─────────────────────────────────┼────────────────────────┼───────────────┤\n",
       "│ layer1 (<span style=\"color: #0087ff; text-decoration-color: #0087ff\">Dense</span>)                  │ (<span style=\"color: #00d7ff; text-decoration-color: #00d7ff\">None</span>, <span style=\"color: #00af00; text-decoration-color: #00af00\">64</span>)             │         <span style=\"color: #00af00; text-decoration-color: #00af00\">8,256</span> │\n",
       "├─────────────────────────────────┼────────────────────────┼───────────────┤\n",
       "│ layer2 (<span style=\"color: #0087ff; text-decoration-color: #0087ff\">Dense</span>)                  │ (<span style=\"color: #00d7ff; text-decoration-color: #00d7ff\">None</span>, <span style=\"color: #00af00; text-decoration-color: #00af00\">16</span>)             │         <span style=\"color: #00af00; text-decoration-color: #00af00\">1,040</span> │\n",
       "├─────────────────────────────────┼────────────────────────┼───────────────┤\n",
       "│ output (<span style=\"color: #0087ff; text-decoration-color: #0087ff\">Dense</span>)                  │ (<span style=\"color: #00d7ff; text-decoration-color: #00d7ff\">None</span>, <span style=\"color: #00af00; text-decoration-color: #00af00\">1</span>)              │            <span style=\"color: #00af00; text-decoration-color: #00af00\">17</span> │\n",
       "└─────────────────────────────────┴────────────────────────┴───────────────┘\n",
       "</pre>\n"
      ],
      "text/plain": [
       "┏━━━━━━━━━━━━━━━━━━━━━━━━━━━━━━━━━┳━━━━━━━━━━━━━━━━━━━━━━━━┳━━━━━━━━━━━━━━━┓\n",
       "┃\u001b[1m \u001b[0m\u001b[1mLayer (type)                   \u001b[0m\u001b[1m \u001b[0m┃\u001b[1m \u001b[0m\u001b[1mOutput Shape          \u001b[0m\u001b[1m \u001b[0m┃\u001b[1m \u001b[0m\u001b[1m      Param #\u001b[0m\u001b[1m \u001b[0m┃\n",
       "┡━━━━━━━━━━━━━━━━━━━━━━━━━━━━━━━━━╇━━━━━━━━━━━━━━━━━━━━━━━━╇━━━━━━━━━━━━━━━┩\n",
       "│ normalization_3 (\u001b[38;5;33mNormalization\u001b[0m) │ (\u001b[38;5;45mNone\u001b[0m, \u001b[38;5;34m13\u001b[0m)             │             \u001b[38;5;34m3\u001b[0m │\n",
       "├─────────────────────────────────┼────────────────────────┼───────────────┤\n",
       "│ layer0 (\u001b[38;5;33mDense\u001b[0m)                  │ (\u001b[38;5;45mNone\u001b[0m, \u001b[38;5;34m128\u001b[0m)            │         \u001b[38;5;34m1,792\u001b[0m │\n",
       "├─────────────────────────────────┼────────────────────────┼───────────────┤\n",
       "│ dropout_5 (\u001b[38;5;33mDropout\u001b[0m)             │ (\u001b[38;5;45mNone\u001b[0m, \u001b[38;5;34m128\u001b[0m)            │             \u001b[38;5;34m0\u001b[0m │\n",
       "├─────────────────────────────────┼────────────────────────┼───────────────┤\n",
       "│ layer1 (\u001b[38;5;33mDense\u001b[0m)                  │ (\u001b[38;5;45mNone\u001b[0m, \u001b[38;5;34m64\u001b[0m)             │         \u001b[38;5;34m8,256\u001b[0m │\n",
       "├─────────────────────────────────┼────────────────────────┼───────────────┤\n",
       "│ layer2 (\u001b[38;5;33mDense\u001b[0m)                  │ (\u001b[38;5;45mNone\u001b[0m, \u001b[38;5;34m16\u001b[0m)             │         \u001b[38;5;34m1,040\u001b[0m │\n",
       "├─────────────────────────────────┼────────────────────────┼───────────────┤\n",
       "│ output (\u001b[38;5;33mDense\u001b[0m)                  │ (\u001b[38;5;45mNone\u001b[0m, \u001b[38;5;34m1\u001b[0m)              │            \u001b[38;5;34m17\u001b[0m │\n",
       "└─────────────────────────────────┴────────────────────────┴───────────────┘\n"
      ]
     },
     "metadata": {},
     "output_type": "display_data"
    },
    {
     "data": {
      "text/html": [
       "<pre style=\"white-space:pre;overflow-x:auto;line-height:normal;font-family:Menlo,'DejaVu Sans Mono',consolas,'Courier New',monospace\"><span style=\"font-weight: bold\"> Total params: </span><span style=\"color: #00af00; text-decoration-color: #00af00\">11,108</span> (43.39 KB)\n",
       "</pre>\n"
      ],
      "text/plain": [
       "\u001b[1m Total params: \u001b[0m\u001b[38;5;34m11,108\u001b[0m (43.39 KB)\n"
      ]
     },
     "metadata": {},
     "output_type": "display_data"
    },
    {
     "data": {
      "text/html": [
       "<pre style=\"white-space:pre;overflow-x:auto;line-height:normal;font-family:Menlo,'DejaVu Sans Mono',consolas,'Courier New',monospace\"><span style=\"font-weight: bold\"> Trainable params: </span><span style=\"color: #00af00; text-decoration-color: #00af00\">11,105</span> (43.38 KB)\n",
       "</pre>\n"
      ],
      "text/plain": [
       "\u001b[1m Trainable params: \u001b[0m\u001b[38;5;34m11,105\u001b[0m (43.38 KB)\n"
      ]
     },
     "metadata": {},
     "output_type": "display_data"
    },
    {
     "data": {
      "text/html": [
       "<pre style=\"white-space:pre;overflow-x:auto;line-height:normal;font-family:Menlo,'DejaVu Sans Mono',consolas,'Courier New',monospace\"><span style=\"font-weight: bold\"> Non-trainable params: </span><span style=\"color: #00af00; text-decoration-color: #00af00\">3</span> (16.00 B)\n",
       "</pre>\n"
      ],
      "text/plain": [
       "\u001b[1m Non-trainable params: \u001b[0m\u001b[38;5;34m3\u001b[0m (16.00 B)\n"
      ]
     },
     "metadata": {},
     "output_type": "display_data"
    },
    {
     "name": "stdout",
     "output_type": "stream",
     "text": [
      "\u001b[1m4/4\u001b[0m \u001b[32m━━━━━━━━━━━━━━━━━━━━\u001b[0m\u001b[37m\u001b[0m \u001b[1m0s\u001b[0m 21ms/step\n",
      "\u001b[1m1/1\u001b[0m \u001b[32m━━━━━━━━━━━━━━━━━━━━\u001b[0m\u001b[37m\u001b[0m \u001b[1m0s\u001b[0m 36ms/step\n",
      "Train Mean Squared Error: 13.071465278877458\n",
      "Train R-squared: -0.07033401265628036\n",
      "Test Mean Squared Error: 12.181212529231962\n",
      "Test R-squared: -0.7266821505513508\n",
      "==== Iter:  0 {'train_mse': 13.071465278877458, 'train_r2': -0.07033401265628036, 'test_mse': 12.181212529231962, 'test_r2': -0.7266821505513508}  ====\n",
      "\u001b[1m4/4\u001b[0m \u001b[32m━━━━━━━━━━━━━━━━━━━━\u001b[0m\u001b[37m\u001b[0m \u001b[1m0s\u001b[0m 20ms/step\n",
      "\u001b[1m1/1\u001b[0m \u001b[32m━━━━━━━━━━━━━━━━━━━━\u001b[0m\u001b[37m\u001b[0m \u001b[1m0s\u001b[0m 35ms/step\n",
      "Train Mean Squared Error: 5.541460863206323\n",
      "Train R-squared: 0.5114767050820368\n",
      "Test Mean Squared Error: 6.4176285799536785\n",
      "Test R-squared: 0.3955744160578496\n",
      "==== Iter:  1 {'train_mse': 5.541460863206323, 'train_r2': 0.5114767050820368, 'test_mse': 6.4176285799536785, 'test_r2': 0.3955744160578496}  ====\n",
      "\u001b[1m4/4\u001b[0m \u001b[32m━━━━━━━━━━━━━━━━━━━━\u001b[0m\u001b[37m\u001b[0m \u001b[1m0s\u001b[0m 20ms/step\n",
      "\u001b[1m1/1\u001b[0m \u001b[32m━━━━━━━━━━━━━━━━━━━━\u001b[0m\u001b[37m\u001b[0m \u001b[1m0s\u001b[0m 36ms/step\n",
      "Train Mean Squared Error: 3.613863866364928\n",
      "Train R-squared: 0.6806910002855948\n",
      "Test Mean Squared Error: 9.964590090524673\n",
      "Test R-squared: 0.040785656918142954\n",
      "==== Iter:  2 {'train_mse': 3.613863866364928, 'train_r2': 0.6806910002855948, 'test_mse': 9.964590090524673, 'test_r2': 0.040785656918142954}  ====\n",
      "\u001b[1m4/4\u001b[0m \u001b[32m━━━━━━━━━━━━━━━━━━━━\u001b[0m\u001b[37m\u001b[0m \u001b[1m0s\u001b[0m 21ms/step\n",
      "\u001b[1m1/1\u001b[0m \u001b[32m━━━━━━━━━━━━━━━━━━━━\u001b[0m\u001b[37m\u001b[0m \u001b[1m0s\u001b[0m 35ms/step\n",
      "Train Mean Squared Error: 4.327647422614164\n",
      "Train R-squared: 0.560378505715647\n",
      "Test Mean Squared Error: 5.693958910466545\n",
      "Test R-squared: 0.6482087673723831\n",
      "==== Iter:  3 {'train_mse': 4.327647422614164, 'train_r2': 0.560378505715647, 'test_mse': 5.693958910466545, 'test_r2': 0.6482087673723831}  ====\n",
      "\u001b[1m4/4\u001b[0m \u001b[32m━━━━━━━━━━━━━━━━━━━━\u001b[0m\u001b[37m\u001b[0m \u001b[1m0s\u001b[0m 20ms/step\n",
      "\u001b[1m1/1\u001b[0m \u001b[32m━━━━━━━━━━━━━━━━━━━━\u001b[0m\u001b[37m\u001b[0m \u001b[1m0s\u001b[0m 37ms/step\n",
      "Train Mean Squared Error: 3.8097950233689177\n",
      "Train R-squared: 0.6544836916930334\n",
      "Test Mean Squared Error: 1.614776013950917\n",
      "Test R-squared: 0.863556213002271\n",
      "==== Iter:  4 {'train_mse': 3.8097950233689177, 'train_r2': 0.6544836916930334, 'test_mse': 1.614776013950917, 'test_r2': 0.863556213002271}  ====\n"
     ]
    }
   ],
   "source": [
    "model = build_model()\n",
    "max_iters = 10\n",
    "for i in range (max_iters):\n",
    "    #data_shuffled = data_df\n",
    "    data_shuffled = data_df.sample(frac=1).reset_index(drop=True)\n",
    "    X = data_shuffled.drop('output', axis=1)\n",
    "    y = data_shuffled['output']\n",
    "    X_train, X_test, y_train, y_test = train_test_split(X, y, test_size=0.2, random_state=12)\n",
    "    nn_metrics, nn_y_test_pred = train_model(model, X_train, y_train, 50)\n",
    "    print('==== Iter: ', i, nn_metrics, ' ====')\n",
    "    if nn_metrics['test_r2'] > 0.7:\n",
    "        break"
   ]
  },
  {
   "cell_type": "code",
   "execution_count": 431,
   "id": "b936aaa7",
   "metadata": {},
   "outputs": [
    {
     "name": "stdout",
     "output_type": "stream",
     "text": [
      "\u001b[1m1/1\u001b[0m \u001b[32m━━━━━━━━━━━━━━━━━━━━\u001b[0m\u001b[37m\u001b[0m \u001b[1m0s\u001b[0m 142ms/step - loss: 1.6148\n"
     ]
    },
    {
     "data": {
      "text/plain": [
       "1.6147758960723877"
      ]
     },
     "execution_count": 431,
     "metadata": {},
     "output_type": "execute_result"
    }
   ],
   "source": [
    "model.evaluate(X_test, y_test)"
   ]
  },
  {
   "cell_type": "code",
   "execution_count": 432,
   "id": "7e1f75e6",
   "metadata": {},
   "outputs": [
    {
     "data": {
      "text/html": [
       "<div>\n",
       "<style scoped>\n",
       "    .dataframe tbody tr th:only-of-type {\n",
       "        vertical-align: middle;\n",
       "    }\n",
       "\n",
       "    .dataframe tbody tr th {\n",
       "        vertical-align: top;\n",
       "    }\n",
       "\n",
       "    .dataframe thead th {\n",
       "        text-align: right;\n",
       "    }\n",
       "</style>\n",
       "<table border=\"1\" class=\"dataframe\">\n",
       "  <thead>\n",
       "    <tr style=\"text-align: right;\">\n",
       "      <th></th>\n",
       "      <th>output</th>\n",
       "      <th>pred</th>\n",
       "    </tr>\n",
       "  </thead>\n",
       "  <tbody>\n",
       "    <tr>\n",
       "      <th>40</th>\n",
       "      <td>11.3</td>\n",
       "      <td>11.258956</td>\n",
       "    </tr>\n",
       "    <tr>\n",
       "      <th>147</th>\n",
       "      <td>15.1</td>\n",
       "      <td>14.996629</td>\n",
       "    </tr>\n",
       "    <tr>\n",
       "      <th>38</th>\n",
       "      <td>14.0</td>\n",
       "      <td>12.206337</td>\n",
       "    </tr>\n",
       "    <tr>\n",
       "      <th>132</th>\n",
       "      <td>15.8</td>\n",
       "      <td>15.302635</td>\n",
       "    </tr>\n",
       "    <tr>\n",
       "      <th>144</th>\n",
       "      <td>8.4</td>\n",
       "      <td>10.092397</td>\n",
       "    </tr>\n",
       "    <tr>\n",
       "      <th>99</th>\n",
       "      <td>12.2</td>\n",
       "      <td>11.409852</td>\n",
       "    </tr>\n",
       "    <tr>\n",
       "      <th>83</th>\n",
       "      <td>13.6</td>\n",
       "      <td>13.647299</td>\n",
       "    </tr>\n",
       "    <tr>\n",
       "      <th>39</th>\n",
       "      <td>13.3</td>\n",
       "      <td>13.058636</td>\n",
       "    </tr>\n",
       "    <tr>\n",
       "      <th>136</th>\n",
       "      <td>11.6</td>\n",
       "      <td>11.840621</td>\n",
       "    </tr>\n",
       "    <tr>\n",
       "      <th>23</th>\n",
       "      <td>13.5</td>\n",
       "      <td>14.348142</td>\n",
       "    </tr>\n",
       "  </tbody>\n",
       "</table>\n",
       "</div>"
      ],
      "text/plain": [
       "     output       pred\n",
       "40     11.3  11.258956\n",
       "147    15.1  14.996629\n",
       "38     14.0  12.206337\n",
       "132    15.8  15.302635\n",
       "144     8.4  10.092397\n",
       "99     12.2  11.409852\n",
       "83     13.6  13.647299\n",
       "39     13.3  13.058636\n",
       "136    11.6  11.840621\n",
       "23     13.5  14.348142"
      ]
     },
     "execution_count": 432,
     "metadata": {},
     "output_type": "execute_result"
    }
   ],
   "source": [
    "compare_df = pd.DataFrame(y_test)\n",
    "compare_df['pred'] = nn_y_test_pred\n",
    "compare_df.head(10)"
   ]
  },
  {
   "cell_type": "code",
   "execution_count": 433,
   "id": "f03c4ab9",
   "metadata": {},
   "outputs": [
    {
     "data": {
      "image/png": "[encoded data removed]",
      "text/plain": [
       "<Figure size 1200x600 with 1 Axes>"
      ]
     },
     "metadata": {},
     "output_type": "display_data"
    }
   ],
   "source": [
    "plt.scatter(nn_y_test_pred, y_test,c= 'blue')\n",
    "ax = plt.subplot()\n",
    "ax.axline((0, 0), slope=1)\n",
    "plt.xlabel('y_true')\n",
    "plt.ylabel('y_pred')\n",
    "plt.title('Test data vs predictions')\n",
    "plt.show()"
   ]
  },
  {
   "cell_type": "markdown",
   "id": "ea406a1c",
   "metadata": {},
   "source": [
    "### Observations\n",
    "1. Multiple training rounds help improve the accuracy\n",
    "2. Shuffling the dataset also allow better learning - even with fewer epochs. In this case though, the test dataset is not entirely new to the model. \n",
    "3. A R2 scores of > 70% for both training and test dataset is acheived with this NN. The NN model shows better balance of accuracy compared to Ridge or LassoCV regression models\n",
    "4. Best R2 score seen with NN model\n",
    "```\n",
    "Train Mean Squared Error: 2.874224244599256\n",
    "Train R-squared: 0.7230831100524593\n",
    "Test Mean Squared Error: 3.124005194617189\n",
    "Test R-squared: 0.777090053517122\n",
    "```\n"
   ]
  }
 ],
 "metadata": {
  "kernelspec": {
   "display_name": "py3env",
   "language": "python",
   "name": "python3"
  },
  "language_info": {
   "codemirror_mode": {
    "name": "ipython",
    "version": 3
   },
   "file_extension": ".py",
   "mimetype": "text/x-python",
   "name": "python",
   "nbconvert_exporter": "python",
   "pygments_lexer": "ipython3",
   "version": "3.9.6"
  }
 },
 "nbformat": 4,
 "nbformat_minor": 5
}
