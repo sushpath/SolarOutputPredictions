{
 "cells": [
  {
   "cell_type": "code",
   "execution_count": 1,
   "id": "0b6e57a0",
   "metadata": {},
   "outputs": [],
   "source": [
    "import pandas as pd\n",
    "import numpy as np\n",
    "import matplotlib.pyplot as plt\n",
    "from matplotlib import rcParams\n",
    "# apply some styling\n",
    "plt.style.use(\"ggplot\")\n",
    "rcParams['figure.figsize'] = (12, 6)"
   ]
  },
  {
   "cell_type": "code",
   "execution_count": 3,
   "id": "a05339e6",
   "metadata": {},
   "outputs": [
    {
     "name": "stderr",
     "output_type": "stream",
     "text": [
      "/var/folders/zh/nt4cvtjd1bl_ntm3_d6kztf40000gn/T/ipykernel_75133/720678684.py:12: SettingWithCopyWarning: \n",
      "A value is trying to be set on a copy of a slice from a DataFrame\n",
      "\n",
      "See the caveats in the documentation: https://pandas.pydata.org/pandas-docs/stable/user_guide/indexing.html#returning-a-view-versus-a-copy\n",
      "  data_df.drop(data_df.columns[0], axis=1, inplace=True)\n"
     ]
    }
   ],
   "source": [
    "weather_df = pd.read_csv('cleaned_weather.csv')\n",
    "# read the solar plant generation data\n",
    "solar_df = pd.read_csv('plant_output.csv')\n",
    "# drop unused columns\n",
    "solar_df = solar_df.drop(['Plant', 'Real-time power(kW)', 'Daily feed-in energy(kWh)', 'Energy purchased today(kWh)'], axis=1)\n",
    "\n",
    "# Both weather and solar df are date aligned\n",
    "data_df = weather_df\n",
    "data_df['output'] = solar_df['Daily yield(kWh)']\n",
    "# Remove entries with known 0 output\n",
    "data_df = data_df[~(data_df['output'] == 0)]\n",
    "data_df.drop(data_df.columns[0], axis=1, inplace=True)"
   ]
  },
  {
   "cell_type": "code",
   "execution_count": 4,
   "id": "d3f0082f",
   "metadata": {},
   "outputs": [
    {
     "data": {
      "text/html": [
       "<div>\n",
       "<style scoped>\n",
       "    .dataframe tbody tr th:only-of-type {\n",
       "        vertical-align: middle;\n",
       "    }\n",
       "\n",
       "    .dataframe tbody tr th {\n",
       "        vertical-align: top;\n",
       "    }\n",
       "\n",
       "    .dataframe thead th {\n",
       "        text-align: right;\n",
       "    }\n",
       "</style>\n",
       "<table border=\"1\" class=\"dataframe\">\n",
       "  <thead>\n",
       "    <tr style=\"text-align: right;\">\n",
       "      <th></th>\n",
       "      <th>tempmax</th>\n",
       "      <th>tempmin</th>\n",
       "      <th>temp</th>\n",
       "      <th>dew</th>\n",
       "      <th>humidity</th>\n",
       "      <th>precip</th>\n",
       "      <th>precipprob</th>\n",
       "      <th>precipcover</th>\n",
       "      <th>cloudcover</th>\n",
       "      <th>solarradiation</th>\n",
       "      <th>solarenergy</th>\n",
       "      <th>solartime</th>\n",
       "      <th>output</th>\n",
       "    </tr>\n",
       "  </thead>\n",
       "  <tbody>\n",
       "    <tr>\n",
       "      <th>0</th>\n",
       "      <td>-1.403946</td>\n",
       "      <td>-0.829721</td>\n",
       "      <td>-1.376138</td>\n",
       "      <td>0.242118</td>\n",
       "      <td>1.004365</td>\n",
       "      <td>-0.293308</td>\n",
       "      <td>-0.6003</td>\n",
       "      <td>-0.451987</td>\n",
       "      <td>-0.883851</td>\n",
       "      <td>-0.680943</td>\n",
       "      <td>-0.651917</td>\n",
       "      <td>-1.509529</td>\n",
       "      <td>-0.281256</td>\n",
       "    </tr>\n",
       "    <tr>\n",
       "      <th>1</th>\n",
       "      <td>-0.916350</td>\n",
       "      <td>-1.188969</td>\n",
       "      <td>-1.340224</td>\n",
       "      <td>-0.316047</td>\n",
       "      <td>0.483319</td>\n",
       "      <td>-0.293308</td>\n",
       "      <td>-0.6003</td>\n",
       "      <td>-0.451987</td>\n",
       "      <td>-0.686336</td>\n",
       "      <td>-0.583275</td>\n",
       "      <td>-0.588037</td>\n",
       "      <td>-1.502480</td>\n",
       "      <td>-0.042159</td>\n",
       "    </tr>\n",
       "    <tr>\n",
       "      <th>2</th>\n",
       "      <td>-1.322680</td>\n",
       "      <td>-1.787716</td>\n",
       "      <td>-1.735276</td>\n",
       "      <td>-1.127923</td>\n",
       "      <td>0.024799</td>\n",
       "      <td>-0.293308</td>\n",
       "      <td>-0.6003</td>\n",
       "      <td>-0.451987</td>\n",
       "      <td>0.044818</td>\n",
       "      <td>-0.513248</td>\n",
       "      <td>-0.502863</td>\n",
       "      <td>-1.495189</td>\n",
       "      <td>0.017616</td>\n",
       "    </tr>\n",
       "    <tr>\n",
       "      <th>3</th>\n",
       "      <td>-1.187236</td>\n",
       "      <td>-2.296651</td>\n",
       "      <td>-2.094413</td>\n",
       "      <td>-1.584603</td>\n",
       "      <td>-0.301724</td>\n",
       "      <td>-0.293308</td>\n",
       "      <td>-0.6003</td>\n",
       "      <td>-0.451987</td>\n",
       "      <td>-0.859595</td>\n",
       "      <td>-0.476393</td>\n",
       "      <td>-0.460277</td>\n",
       "      <td>-1.487654</td>\n",
       "      <td>-0.639903</td>\n",
       "    </tr>\n",
       "    <tr>\n",
       "      <th>4</th>\n",
       "      <td>-1.105970</td>\n",
       "      <td>-1.997277</td>\n",
       "      <td>-1.843017</td>\n",
       "      <td>-1.178665</td>\n",
       "      <td>-0.114147</td>\n",
       "      <td>-0.293308</td>\n",
       "      <td>-0.6003</td>\n",
       "      <td>-0.451987</td>\n",
       "      <td>-0.280909</td>\n",
       "      <td>-0.588803</td>\n",
       "      <td>-0.566744</td>\n",
       "      <td>-1.479148</td>\n",
       "      <td>-0.460580</td>\n",
       "    </tr>\n",
       "  </tbody>\n",
       "</table>\n",
       "</div>"
      ],
      "text/plain": [
       "    tempmax   tempmin      temp       dew  humidity    precip  precipprob  \\\n",
       "0 -1.403946 -0.829721 -1.376138  0.242118  1.004365 -0.293308     -0.6003   \n",
       "1 -0.916350 -1.188969 -1.340224 -0.316047  0.483319 -0.293308     -0.6003   \n",
       "2 -1.322680 -1.787716 -1.735276 -1.127923  0.024799 -0.293308     -0.6003   \n",
       "3 -1.187236 -2.296651 -2.094413 -1.584603 -0.301724 -0.293308     -0.6003   \n",
       "4 -1.105970 -1.997277 -1.843017 -1.178665 -0.114147 -0.293308     -0.6003   \n",
       "\n",
       "   precipcover  cloudcover  solarradiation  solarenergy  solartime    output  \n",
       "0    -0.451987   -0.883851       -0.680943    -0.651917  -1.509529 -0.281256  \n",
       "1    -0.451987   -0.686336       -0.583275    -0.588037  -1.502480 -0.042159  \n",
       "2    -0.451987    0.044818       -0.513248    -0.502863  -1.495189  0.017616  \n",
       "3    -0.451987   -0.859595       -0.476393    -0.460277  -1.487654 -0.639903  \n",
       "4    -0.451987   -0.280909       -0.588803    -0.566744  -1.479148 -0.460580  "
      ]
     },
     "execution_count": 4,
     "metadata": {},
     "output_type": "execute_result"
    }
   ],
   "source": [
    "from sklearn.model_selection import train_test_split\n",
    "from sklearn.metrics import mean_squared_error, r2_score\n",
    "from sklearn.preprocessing import StandardScaler\n",
    "scaler = StandardScaler()\n",
    "numeric_cols = data_df.select_dtypes(include=[np.number]).columns\n",
    "data_df = data_df[numeric_cols]\n",
    "data_df = pd.DataFrame(scaler.fit_transform(data_df), columns=data_df.columns)\n",
    "data_df.head(5)"
   ]
  },
  {
   "cell_type": "code",
   "execution_count": 5,
   "id": "16bebae0",
   "metadata": {},
   "outputs": [
    {
     "name": "stdout",
     "output_type": "stream",
     "text": [
      "X  (151, 12)\n",
      "y  (151,)\n",
      "X_train  (120, 12)\n",
      "y_train  (120,)\n"
     ]
    }
   ],
   "source": [
    "# Split data \n",
    "X = data_df.drop('output', axis=1)\n",
    "y = data_df['output']\n",
    "X_train, X_test, y_train, y_test = train_test_split(X, y, test_size=0.2, random_state=12)\n",
    "print( 'X ', X.shape)\n",
    "print( 'y ', y.shape)\n",
    "print( 'X_train ', X_train.shape)\n",
    "print( 'y_train ', y_train.shape)"
   ]
  },
  {
   "cell_type": "code",
   "execution_count": 6,
   "id": "5dc6fe7a",
   "metadata": {},
   "outputs": [],
   "source": [
    "def predict_and_eval(model, X_train, y_train, X_test, y_test):\n",
    "    y_train_pred = model.predict(X_train)\n",
    "    y_test_pred = model.predict(X_test)\n",
    "\n",
    "    tr_mse = mean_squared_error(y_train, y_train_pred)\n",
    "    tr_r2 = r2_score(y_train, y_train_pred)\n",
    "\n",
    "    mse = mean_squared_error(y_test, y_test_pred)\n",
    "    r2 = r2_score(y_test, y_test_pred)\n",
    "\n",
    "    print(f\"Train Mean Squared Error: {tr_mse}\")\n",
    "    print(f\"Train R-squared: {tr_r2}\")\n",
    "\n",
    "    print(f\"Test Mean Squared Error: {mse}\")\n",
    "    print(f\"Test R-squared: {r2}\")\n",
    "\n",
    "    metrics = {\n",
    "        'train_mse' : tr_mse,\n",
    "        'train_r2' : tr_r2,\n",
    "        'test_mse' : mse,\n",
    "        'test_r2' : r2\n",
    "        }\n",
    "\n",
    "    return metrics, y_train_pred, y_test_pred"
   ]
  },
  {
   "cell_type": "code",
   "execution_count": 7,
   "id": "a2ac3e9d",
   "metadata": {},
   "outputs": [
    {
     "name": "stderr",
     "output_type": "stream",
     "text": [
      "2025-07-07 14:57:00.497676: I tensorflow/core/platform/cpu_feature_guard.cc:210] This TensorFlow binary is optimized to use available CPU instructions in performance-critical operations.\n",
      "To enable the following instructions: AVX2 FMA, in other operations, rebuild TensorFlow with the appropriate compiler flags.\n"
     ]
    }
   ],
   "source": [
    "import tensorflow as tf\n",
    "from tensorflow.keras import Input\n",
    "from tensorflow.keras.layers import Dense\n",
    "from tensorflow.keras.models import Sequential\n",
    "from tensorflow.keras.losses import MeanSquaredError"
   ]
  },
  {
   "cell_type": "code",
   "execution_count": null,
   "id": "a2a27e35",
   "metadata": {},
   "outputs": [],
   "source": [
    "def build_model():\n",
    "    tf.random.set_seed(32)\n",
    "    model = Sequential([\n",
    "        Input(shape=(12,)),\n",
    "        tf.keras.layers.Normalization(axis=None),\n",
    "        #tf.keras.layers.Dropout(rate=0.1),\n",
    "        Dense(units=128, activation='relu', name='layer0'),\n",
    "        tf.keras.layers.Dropout(rate=0.1),\n",
    "        Dense(units=64, activation='relu', name='layer1'),\n",
    "        Dense(units=16, activation='relu', name='layer2'),\n",
    "        Dense(units=1, activation='linear', name='output'),\n",
    "        ])\n",
    "    model.summary()\n",
    "    return model\n",
    "\n",
    "def build_reg_model():\n",
    "    tf.random.set_seed(32)\n",
    "    reg_rate = 0.1\n",
    "    model = Sequential([\n",
    "        Input(shape=(12,)),\n",
    "        tf.keras.layers.Normalization(axis=None),\n",
    "        #tf.keras.layers.Dropout(rate=0.1),\n",
    "        Dense(units=128, activation='relu', name='layer0'), # kernel_regularizer=tf.keras.regularizers.l2(reg_rate)),\n",
    "        #tf.keras.layers.Dropout(rate=0.1),\n",
    "        Dense(units=64, activation='relu', name='layer1', kernel_regularizer=tf.keras.regularizers.l2(reg_rate)),\n",
    "        Dense(units=16, activation='relu', name='layer2', kernel_regularizer=tf.keras.regularizers.l2(reg_rate)),\n",
    "        Dense(units=1, activation='linear', name='output'),\n",
    "        ])\n",
    "    model.summary()\n",
    "    return model\n",
    "\n",
    "def train_model(model, X_train, y_train, epcs = 100):\n",
    "    model.compile(optimizer=tf.keras.optimizers.Adam(0.001), loss=MeanSquaredError())\n",
    "    history = model.fit(X_train, y_train, epochs=epcs, verbose=0)\n",
    "    nn_metrics, nn_y_train_pred, nn_y_test_pred = predict_and_eval(model, X_train, y_train, X_test, y_test)\n",
    "    return nn_metrics, nn_y_test_pred\n",
    "\n"
   ]
  },
  {
   "cell_type": "code",
   "execution_count": 16,
   "id": "e87c7eed",
   "metadata": {},
   "outputs": [
    {
     "data": {
      "text/html": [
       "<pre style=\"white-space:pre;overflow-x:auto;line-height:normal;font-family:Menlo,'DejaVu Sans Mono',consolas,'Courier New',monospace\"><span style=\"font-weight: bold\">Model: \"sequential_2\"</span>\n",
       "</pre>\n"
      ],
      "text/plain": [
       "\u001b[1mModel: \"sequential_2\"\u001b[0m\n"
      ]
     },
     "metadata": {},
     "output_type": "display_data"
    },
    {
     "data": {
      "text/html": [
       "<pre style=\"white-space:pre;overflow-x:auto;line-height:normal;font-family:Menlo,'DejaVu Sans Mono',consolas,'Courier New',monospace\">┏━━━━━━━━━━━━━━━━━━━━━━━━━━━━━━━━━┳━━━━━━━━━━━━━━━━━━━━━━━━┳━━━━━━━━━━━━━━━┓\n",
       "┃<span style=\"font-weight: bold\"> Layer (type)                    </span>┃<span style=\"font-weight: bold\"> Output Shape           </span>┃<span style=\"font-weight: bold\">       Param # </span>┃\n",
       "┡━━━━━━━━━━━━━━━━━━━━━━━━━━━━━━━━━╇━━━━━━━━━━━━━━━━━━━━━━━━╇━━━━━━━━━━━━━━━┩\n",
       "│ normalization_2 (<span style=\"color: #0087ff; text-decoration-color: #0087ff\">Normalization</span>) │ (<span style=\"color: #00d7ff; text-decoration-color: #00d7ff\">None</span>, <span style=\"color: #00af00; text-decoration-color: #00af00\">12</span>)             │             <span style=\"color: #00af00; text-decoration-color: #00af00\">3</span> │\n",
       "├─────────────────────────────────┼────────────────────────┼───────────────┤\n",
       "│ layer0 (<span style=\"color: #0087ff; text-decoration-color: #0087ff\">Dense</span>)                  │ (<span style=\"color: #00d7ff; text-decoration-color: #00d7ff\">None</span>, <span style=\"color: #00af00; text-decoration-color: #00af00\">128</span>)            │         <span style=\"color: #00af00; text-decoration-color: #00af00\">1,664</span> │\n",
       "├─────────────────────────────────┼────────────────────────┼───────────────┤\n",
       "│ dropout_2 (<span style=\"color: #0087ff; text-decoration-color: #0087ff\">Dropout</span>)             │ (<span style=\"color: #00d7ff; text-decoration-color: #00d7ff\">None</span>, <span style=\"color: #00af00; text-decoration-color: #00af00\">128</span>)            │             <span style=\"color: #00af00; text-decoration-color: #00af00\">0</span> │\n",
       "├─────────────────────────────────┼────────────────────────┼───────────────┤\n",
       "│ layer1 (<span style=\"color: #0087ff; text-decoration-color: #0087ff\">Dense</span>)                  │ (<span style=\"color: #00d7ff; text-decoration-color: #00d7ff\">None</span>, <span style=\"color: #00af00; text-decoration-color: #00af00\">64</span>)             │         <span style=\"color: #00af00; text-decoration-color: #00af00\">8,256</span> │\n",
       "├─────────────────────────────────┼────────────────────────┼───────────────┤\n",
       "│ layer2 (<span style=\"color: #0087ff; text-decoration-color: #0087ff\">Dense</span>)                  │ (<span style=\"color: #00d7ff; text-decoration-color: #00d7ff\">None</span>, <span style=\"color: #00af00; text-decoration-color: #00af00\">16</span>)             │         <span style=\"color: #00af00; text-decoration-color: #00af00\">1,040</span> │\n",
       "├─────────────────────────────────┼────────────────────────┼───────────────┤\n",
       "│ output (<span style=\"color: #0087ff; text-decoration-color: #0087ff\">Dense</span>)                  │ (<span style=\"color: #00d7ff; text-decoration-color: #00d7ff\">None</span>, <span style=\"color: #00af00; text-decoration-color: #00af00\">1</span>)              │            <span style=\"color: #00af00; text-decoration-color: #00af00\">17</span> │\n",
       "└─────────────────────────────────┴────────────────────────┴───────────────┘\n",
       "</pre>\n"
      ],
      "text/plain": [
       "┏━━━━━━━━━━━━━━━━━━━━━━━━━━━━━━━━━┳━━━━━━━━━━━━━━━━━━━━━━━━┳━━━━━━━━━━━━━━━┓\n",
       "┃\u001b[1m \u001b[0m\u001b[1mLayer (type)                   \u001b[0m\u001b[1m \u001b[0m┃\u001b[1m \u001b[0m\u001b[1mOutput Shape          \u001b[0m\u001b[1m \u001b[0m┃\u001b[1m \u001b[0m\u001b[1m      Param #\u001b[0m\u001b[1m \u001b[0m┃\n",
       "┡━━━━━━━━━━━━━━━━━━━━━━━━━━━━━━━━━╇━━━━━━━━━━━━━━━━━━━━━━━━╇━━━━━━━━━━━━━━━┩\n",
       "│ normalization_2 (\u001b[38;5;33mNormalization\u001b[0m) │ (\u001b[38;5;45mNone\u001b[0m, \u001b[38;5;34m12\u001b[0m)             │             \u001b[38;5;34m3\u001b[0m │\n",
       "├─────────────────────────────────┼────────────────────────┼───────────────┤\n",
       "│ layer0 (\u001b[38;5;33mDense\u001b[0m)                  │ (\u001b[38;5;45mNone\u001b[0m, \u001b[38;5;34m128\u001b[0m)            │         \u001b[38;5;34m1,664\u001b[0m │\n",
       "├─────────────────────────────────┼────────────────────────┼───────────────┤\n",
       "│ dropout_2 (\u001b[38;5;33mDropout\u001b[0m)             │ (\u001b[38;5;45mNone\u001b[0m, \u001b[38;5;34m128\u001b[0m)            │             \u001b[38;5;34m0\u001b[0m │\n",
       "├─────────────────────────────────┼────────────────────────┼───────────────┤\n",
       "│ layer1 (\u001b[38;5;33mDense\u001b[0m)                  │ (\u001b[38;5;45mNone\u001b[0m, \u001b[38;5;34m64\u001b[0m)             │         \u001b[38;5;34m8,256\u001b[0m │\n",
       "├─────────────────────────────────┼────────────────────────┼───────────────┤\n",
       "│ layer2 (\u001b[38;5;33mDense\u001b[0m)                  │ (\u001b[38;5;45mNone\u001b[0m, \u001b[38;5;34m16\u001b[0m)             │         \u001b[38;5;34m1,040\u001b[0m │\n",
       "├─────────────────────────────────┼────────────────────────┼───────────────┤\n",
       "│ output (\u001b[38;5;33mDense\u001b[0m)                  │ (\u001b[38;5;45mNone\u001b[0m, \u001b[38;5;34m1\u001b[0m)              │            \u001b[38;5;34m17\u001b[0m │\n",
       "└─────────────────────────────────┴────────────────────────┴───────────────┘\n"
      ]
     },
     "metadata": {},
     "output_type": "display_data"
    },
    {
     "data": {
      "text/html": [
       "<pre style=\"white-space:pre;overflow-x:auto;line-height:normal;font-family:Menlo,'DejaVu Sans Mono',consolas,'Courier New',monospace\"><span style=\"font-weight: bold\"> Total params: </span><span style=\"color: #00af00; text-decoration-color: #00af00\">10,980</span> (42.89 KB)\n",
       "</pre>\n"
      ],
      "text/plain": [
       "\u001b[1m Total params: \u001b[0m\u001b[38;5;34m10,980\u001b[0m (42.89 KB)\n"
      ]
     },
     "metadata": {},
     "output_type": "display_data"
    },
    {
     "data": {
      "text/html": [
       "<pre style=\"white-space:pre;overflow-x:auto;line-height:normal;font-family:Menlo,'DejaVu Sans Mono',consolas,'Courier New',monospace\"><span style=\"font-weight: bold\"> Trainable params: </span><span style=\"color: #00af00; text-decoration-color: #00af00\">10,977</span> (42.88 KB)\n",
       "</pre>\n"
      ],
      "text/plain": [
       "\u001b[1m Trainable params: \u001b[0m\u001b[38;5;34m10,977\u001b[0m (42.88 KB)\n"
      ]
     },
     "metadata": {},
     "output_type": "display_data"
    },
    {
     "data": {
      "text/html": [
       "<pre style=\"white-space:pre;overflow-x:auto;line-height:normal;font-family:Menlo,'DejaVu Sans Mono',consolas,'Courier New',monospace\"><span style=\"font-weight: bold\"> Non-trainable params: </span><span style=\"color: #00af00; text-decoration-color: #00af00\">3</span> (16.00 B)\n",
       "</pre>\n"
      ],
      "text/plain": [
       "\u001b[1m Non-trainable params: \u001b[0m\u001b[38;5;34m3\u001b[0m (16.00 B)\n"
      ]
     },
     "metadata": {},
     "output_type": "display_data"
    },
    {
     "name": "stdout",
     "output_type": "stream",
     "text": [
      "\u001b[1m4/4\u001b[0m \u001b[32m━━━━━━━━━━━━━━━━━━━━\u001b[0m\u001b[37m\u001b[0m \u001b[1m0s\u001b[0m 22ms/step\n",
      "\u001b[1m1/1\u001b[0m \u001b[32m━━━━━━━━━━━━━━━━━━━━\u001b[0m\u001b[37m\u001b[0m \u001b[1m0s\u001b[0m 37ms/step\n",
      "Train Mean Squared Error: 0.18856481228466032\n",
      "Train R-squared: 0.825794788866084\n",
      "Test Mean Squared Error: 0.534805950421895\n",
      "Test R-squared: 0.21081333743255792\n",
      "==== Iter:  0 {'train_mse': 0.18856481228466032, 'train_r2': 0.825794788866084, 'test_mse': 0.534805950421895, 'test_r2': 0.21081333743255792}  ====\n",
      "\u001b[1m4/4\u001b[0m \u001b[32m━━━━━━━━━━━━━━━━━━━━\u001b[0m\u001b[37m\u001b[0m \u001b[1m0s\u001b[0m 21ms/step\n",
      "\u001b[1m1/1\u001b[0m \u001b[32m━━━━━━━━━━━━━━━━━━━━\u001b[0m\u001b[37m\u001b[0m \u001b[1m0s\u001b[0m 36ms/step\n",
      "Train Mean Squared Error: 0.1513301030811455\n",
      "Train R-squared: 0.8601939978156105\n",
      "Test Mean Squared Error: 0.5127585814471726\n",
      "Test R-squared: 0.24334754825393756\n",
      "==== Iter:  1 {'train_mse': 0.1513301030811455, 'train_r2': 0.8601939978156105, 'test_mse': 0.5127585814471726, 'test_r2': 0.24334754825393756}  ====\n",
      "\u001b[1m4/4\u001b[0m \u001b[32m━━━━━━━━━━━━━━━━━━━━\u001b[0m\u001b[37m\u001b[0m \u001b[1m0s\u001b[0m 28ms/step\n",
      "\u001b[1m1/1\u001b[0m \u001b[32m━━━━━━━━━━━━━━━━━━━━\u001b[0m\u001b[37m\u001b[0m \u001b[1m0s\u001b[0m 45ms/step\n",
      "Train Mean Squared Error: 0.1344049369933245\n",
      "Train R-squared: 0.8758302774378892\n",
      "Test Mean Squared Error: 0.49571742596668716\n",
      "Test R-squared: 0.26849433768163145\n",
      "==== Iter:  2 {'train_mse': 0.1344049369933245, 'train_r2': 0.8758302774378892, 'test_mse': 0.49571742596668716, 'test_r2': 0.26849433768163145}  ====\n",
      "\u001b[1m4/4\u001b[0m \u001b[32m━━━━━━━━━━━━━━━━━━━━\u001b[0m\u001b[37m\u001b[0m \u001b[1m0s\u001b[0m 24ms/step\n",
      "\u001b[1m1/1\u001b[0m \u001b[32m━━━━━━━━━━━━━━━━━━━━\u001b[0m\u001b[37m\u001b[0m \u001b[1m0s\u001b[0m 36ms/step\n",
      "Train Mean Squared Error: 0.1128857468310376\n",
      "Train R-squared: 0.895710736682814\n",
      "Test Mean Squared Error: 0.5247574296178714\n",
      "Test R-squared: 0.22564144207651526\n",
      "==== Iter:  3 {'train_mse': 0.1128857468310376, 'train_r2': 0.895710736682814, 'test_mse': 0.5247574296178714, 'test_r2': 0.22564144207651526}  ====\n",
      "\u001b[1m4/4\u001b[0m \u001b[32m━━━━━━━━━━━━━━━━━━━━\u001b[0m\u001b[37m\u001b[0m \u001b[1m0s\u001b[0m 33ms/step\n",
      "\u001b[1m1/1\u001b[0m \u001b[32m━━━━━━━━━━━━━━━━━━━━\u001b[0m\u001b[37m\u001b[0m \u001b[1m0s\u001b[0m 44ms/step\n",
      "Train Mean Squared Error: 0.09494171062806082\n",
      "Train R-squared: 0.9122882973499401\n",
      "Test Mean Squared Error: 0.5570363210349493\n",
      "Test R-squared: 0.1780090801539812\n",
      "==== Iter:  4 {'train_mse': 0.09494171062806082, 'train_r2': 0.9122882973499401, 'test_mse': 0.5570363210349493, 'test_r2': 0.1780090801539812}  ====\n",
      "\u001b[1m4/4\u001b[0m \u001b[32m━━━━━━━━━━━━━━━━━━━━\u001b[0m\u001b[37m\u001b[0m \u001b[1m0s\u001b[0m 22ms/step\n",
      "\u001b[1m1/1\u001b[0m \u001b[32m━━━━━━━━━━━━━━━━━━━━\u001b[0m\u001b[37m\u001b[0m \u001b[1m0s\u001b[0m 37ms/step\n",
      "Train Mean Squared Error: 0.07523273395496813\n",
      "Train R-squared: 0.9304963946135293\n",
      "Test Mean Squared Error: 0.5920583025621433\n",
      "Test R-squared: 0.12632887596750708\n",
      "==== Iter:  5 {'train_mse': 0.07523273395496813, 'train_r2': 0.9304963946135293, 'test_mse': 0.5920583025621433, 'test_r2': 0.12632887596750708}  ====\n",
      "\u001b[1m4/4\u001b[0m \u001b[32m━━━━━━━━━━━━━━━━━━━━\u001b[0m\u001b[37m\u001b[0m \u001b[1m0s\u001b[0m 21ms/step\n",
      "\u001b[1m1/1\u001b[0m \u001b[32m━━━━━━━━━━━━━━━━━━━━\u001b[0m\u001b[37m\u001b[0m \u001b[1m0s\u001b[0m 40ms/step\n",
      "Train Mean Squared Error: 0.05977770372809574\n",
      "Train R-squared: 0.9447744922667063\n",
      "Test Mean Squared Error: 0.6355245657510251\n",
      "Test R-squared: 0.06218786341285831\n",
      "==== Iter:  6 {'train_mse': 0.05977770372809574, 'train_r2': 0.9447744922667063, 'test_mse': 0.6355245657510251, 'test_r2': 0.06218786341285831}  ====\n",
      "\u001b[1m4/4\u001b[0m \u001b[32m━━━━━━━━━━━━━━━━━━━━\u001b[0m\u001b[37m\u001b[0m \u001b[1m0s\u001b[0m 23ms/step\n",
      "\u001b[1m1/1\u001b[0m \u001b[32m━━━━━━━━━━━━━━━━━━━━\u001b[0m\u001b[37m\u001b[0m \u001b[1m0s\u001b[0m 38ms/step\n",
      "Train Mean Squared Error: 0.04661289713967933\n",
      "Train R-squared: 0.9569367715567051\n",
      "Test Mean Squared Error: 0.6063323780437962\n",
      "Test R-squared: 0.10526532949478207\n",
      "==== Iter:  7 {'train_mse': 0.04661289713967933, 'train_r2': 0.9569367715567051, 'test_mse': 0.6063323780437962, 'test_r2': 0.10526532949478207}  ====\n",
      "\u001b[1m4/4\u001b[0m \u001b[32m━━━━━━━━━━━━━━━━━━━━\u001b[0m\u001b[37m\u001b[0m \u001b[1m0s\u001b[0m 22ms/step\n",
      "\u001b[1m1/1\u001b[0m \u001b[32m━━━━━━━━━━━━━━━━━━━━\u001b[0m\u001b[37m\u001b[0m \u001b[1m0s\u001b[0m 45ms/step\n",
      "Train Mean Squared Error: 0.03595773205535617\n",
      "Train R-squared: 0.966780523742978\n",
      "Test Mean Squared Error: 0.6130401596543299\n",
      "Test R-squared: 0.0953669882772391\n",
      "==== Iter:  8 {'train_mse': 0.03595773205535617, 'train_r2': 0.966780523742978, 'test_mse': 0.6130401596543299, 'test_r2': 0.0953669882772391}  ====\n",
      "\u001b[1m4/4\u001b[0m \u001b[32m━━━━━━━━━━━━━━━━━━━━\u001b[0m\u001b[37m\u001b[0m \u001b[1m0s\u001b[0m 23ms/step\n",
      "\u001b[1m1/1\u001b[0m \u001b[32m━━━━━━━━━━━━━━━━━━━━\u001b[0m\u001b[37m\u001b[0m \u001b[1m0s\u001b[0m 38ms/step\n",
      "Train Mean Squared Error: 0.027686898530390008\n",
      "Train R-squared: 0.9744215161583344\n",
      "Test Mean Squared Error: 0.5993771703842065\n",
      "Test R-squared: 0.11552878508274822\n",
      "==== Iter:  9 {'train_mse': 0.027686898530390008, 'train_r2': 0.9744215161583344, 'test_mse': 0.5993771703842065, 'test_r2': 0.11552878508274822}  ====\n"
     ]
    }
   ],
   "source": [
    "model = build_model()\n",
    "max_iters = 10\n",
    "for i in range (max_iters):\n",
    "    data_shuffled = data_df\n",
    "    #data_shuffled = data_df.sample(frac=1).reset_index(drop=True)\n",
    "    X = data_shuffled.drop('output', axis=1)\n",
    "    y = data_shuffled['output']\n",
    "    X_train, X_test, y_train, y_test = train_test_split(X, y, test_size=0.2, random_state=12)\n",
    "    nn_metrics, nn_y_test_pred = train_model(model, X_train, y_train, 50)\n",
    "    print('==== Iter: ', i, nn_metrics, ' ====')\n",
    "    if nn_metrics['test_r2'] > 0.7:\n",
    "        break"
   ]
  },
  {
   "cell_type": "code",
   "execution_count": null,
   "id": "b936aaa7",
   "metadata": {},
   "outputs": [
    {
     "name": "stdout",
     "output_type": "stream",
     "text": [
      "\u001b[1m1/1\u001b[0m \u001b[32m━━━━━━━━━━━━━━━━━━━━\u001b[0m\u001b[37m\u001b[0m \u001b[1m0s\u001b[0m 43ms/step - loss: 0.5994\n"
     ]
    },
    {
     "data": {
      "text/plain": [
       "0.5993771553039551"
      ]
     },
     "execution_count": 18,
     "metadata": {},
     "output_type": "execute_result"
    }
   ],
   "source": [
    "model.evaluate(X_test, y_test)"
   ]
  },
  {
   "cell_type": "code",
   "execution_count": 19,
   "id": "7e1f75e6",
   "metadata": {},
   "outputs": [
    {
     "data": {
      "text/html": [
       "<div>\n",
       "<style scoped>\n",
       "    .dataframe tbody tr th:only-of-type {\n",
       "        vertical-align: middle;\n",
       "    }\n",
       "\n",
       "    .dataframe tbody tr th {\n",
       "        vertical-align: top;\n",
       "    }\n",
       "\n",
       "    .dataframe thead th {\n",
       "        text-align: right;\n",
       "    }\n",
       "</style>\n",
       "<table border=\"1\" class=\"dataframe\">\n",
       "  <thead>\n",
       "    <tr style=\"text-align: right;\">\n",
       "      <th></th>\n",
       "      <th>output</th>\n",
       "      <th>pred</th>\n",
       "    </tr>\n",
       "  </thead>\n",
       "  <tbody>\n",
       "    <tr>\n",
       "      <th>40</th>\n",
       "      <td>-0.460580</td>\n",
       "      <td>-0.087019</td>\n",
       "    </tr>\n",
       "    <tr>\n",
       "      <th>147</th>\n",
       "      <td>0.615360</td>\n",
       "      <td>-0.584375</td>\n",
       "    </tr>\n",
       "    <tr>\n",
       "      <th>38</th>\n",
       "      <td>-0.550241</td>\n",
       "      <td>-0.547882</td>\n",
       "    </tr>\n",
       "    <tr>\n",
       "      <th>132</th>\n",
       "      <td>-2.492910</td>\n",
       "      <td>-2.123260</td>\n",
       "    </tr>\n",
       "    <tr>\n",
       "      <th>144</th>\n",
       "      <td>-2.044602</td>\n",
       "      <td>-2.754731</td>\n",
       "    </tr>\n",
       "    <tr>\n",
       "      <th>99</th>\n",
       "      <td>0.794683</td>\n",
       "      <td>0.595246</td>\n",
       "    </tr>\n",
       "    <tr>\n",
       "      <th>83</th>\n",
       "      <td>0.555585</td>\n",
       "      <td>0.452864</td>\n",
       "    </tr>\n",
       "    <tr>\n",
       "      <th>39</th>\n",
       "      <td>-0.699677</td>\n",
       "      <td>-0.325339</td>\n",
       "    </tr>\n",
       "    <tr>\n",
       "      <th>136</th>\n",
       "      <td>-0.101933</td>\n",
       "      <td>-1.618158</td>\n",
       "    </tr>\n",
       "    <tr>\n",
       "      <th>23</th>\n",
       "      <td>-0.400805</td>\n",
       "      <td>-0.781052</td>\n",
       "    </tr>\n",
       "  </tbody>\n",
       "</table>\n",
       "</div>"
      ],
      "text/plain": [
       "       output      pred\n",
       "40  -0.460580 -0.087019\n",
       "147  0.615360 -0.584375\n",
       "38  -0.550241 -0.547882\n",
       "132 -2.492910 -2.123260\n",
       "144 -2.044602 -2.754731\n",
       "99   0.794683  0.595246\n",
       "83   0.555585  0.452864\n",
       "39  -0.699677 -0.325339\n",
       "136 -0.101933 -1.618158\n",
       "23  -0.400805 -0.781052"
      ]
     },
     "execution_count": 19,
     "metadata": {},
     "output_type": "execute_result"
    }
   ],
   "source": [
    "compare_df = pd.DataFrame(y_test)\n",
    "compare_df['pred'] = nn_y_test_pred\n",
    "compare_df.head(10)"
   ]
  },
  {
   "cell_type": "code",
   "execution_count": 20,
   "id": "f03c4ab9",
   "metadata": {},
   "outputs": [
    {
     "data": {
      "image/png": "[encoded data removed]",
      "text/plain": [
       "<Figure size 1200x600 with 1 Axes>"
      ]
     },
     "metadata": {},
     "output_type": "display_data"
    }
   ],
   "source": [
    "plt.scatter(nn_y_test_pred, y_test,c= 'blue')\n",
    "ax = plt.subplot()\n",
    "ax.axline((0, 0), slope=1)\n",
    "plt.xlabel('y_true')\n",
    "plt.ylabel('y_pred')\n",
    "plt.title('Test data vs predictions')\n",
    "plt.show()"
   ]
  },
  {
   "cell_type": "markdown",
   "id": "ea406a1c",
   "metadata": {},
   "source": [
    "### Observations\n",
    "1. Multiple training rounds help improve the accuracy\n",
    "2. Shuffling the dataset also allow better learning - even with fewer epochs. In this case though, the test dataset is not entirely new to the model. \n",
    "3. A R2 scores of > 70% for both training and test dataset is acheived with this NN. The NN model shows better balance of accuracy compared to Ridge or LassoCV regression models\n",
    "4. Best R2 score seen with NN model\n",
    "```\n",
    "Train Mean Squared Error: 2.874224244599256\n",
    "Train R-squared: 0.7230831100524593\n",
    "Test Mean Squared Error: 3.124005194617189\n",
    "Test R-squared: 0.777090053517122\n",
    "```\n"
   ]
  },
  {
   "cell_type": "code",
   "execution_count": 63,
   "id": "a728770f",
   "metadata": {},
   "outputs": [
    {
     "data": {
      "text/html": [
       "<pre style=\"white-space:pre;overflow-x:auto;line-height:normal;font-family:Menlo,'DejaVu Sans Mono',consolas,'Courier New',monospace\"><span style=\"font-weight: bold\">Model: \"sequential_12\"</span>\n",
       "</pre>\n"
      ],
      "text/plain": [
       "\u001b[1mModel: \"sequential_12\"\u001b[0m\n"
      ]
     },
     "metadata": {},
     "output_type": "display_data"
    },
    {
     "data": {
      "text/html": [
       "<pre style=\"white-space:pre;overflow-x:auto;line-height:normal;font-family:Menlo,'DejaVu Sans Mono',consolas,'Courier New',monospace\">┏━━━━━━━━━━━━━━━━━━━━━━━━━━━━━━━━━┳━━━━━━━━━━━━━━━━━━━━━━━━┳━━━━━━━━━━━━━━━┓\n",
       "┃<span style=\"font-weight: bold\"> Layer (type)                    </span>┃<span style=\"font-weight: bold\"> Output Shape           </span>┃<span style=\"font-weight: bold\">       Param # </span>┃\n",
       "┡━━━━━━━━━━━━━━━━━━━━━━━━━━━━━━━━━╇━━━━━━━━━━━━━━━━━━━━━━━━╇━━━━━━━━━━━━━━━┩\n",
       "│ normalization_12                │ (<span style=\"color: #00d7ff; text-decoration-color: #00d7ff\">None</span>, <span style=\"color: #00af00; text-decoration-color: #00af00\">12</span>)             │             <span style=\"color: #00af00; text-decoration-color: #00af00\">3</span> │\n",
       "│ (<span style=\"color: #0087ff; text-decoration-color: #0087ff\">Normalization</span>)                 │                        │               │\n",
       "├─────────────────────────────────┼────────────────────────┼───────────────┤\n",
       "│ layer0 (<span style=\"color: #0087ff; text-decoration-color: #0087ff\">Dense</span>)                  │ (<span style=\"color: #00d7ff; text-decoration-color: #00d7ff\">None</span>, <span style=\"color: #00af00; text-decoration-color: #00af00\">128</span>)            │         <span style=\"color: #00af00; text-decoration-color: #00af00\">1,664</span> │\n",
       "├─────────────────────────────────┼────────────────────────┼───────────────┤\n",
       "│ layer1 (<span style=\"color: #0087ff; text-decoration-color: #0087ff\">Dense</span>)                  │ (<span style=\"color: #00d7ff; text-decoration-color: #00d7ff\">None</span>, <span style=\"color: #00af00; text-decoration-color: #00af00\">64</span>)             │         <span style=\"color: #00af00; text-decoration-color: #00af00\">8,256</span> │\n",
       "├─────────────────────────────────┼────────────────────────┼───────────────┤\n",
       "│ layer2 (<span style=\"color: #0087ff; text-decoration-color: #0087ff\">Dense</span>)                  │ (<span style=\"color: #00d7ff; text-decoration-color: #00d7ff\">None</span>, <span style=\"color: #00af00; text-decoration-color: #00af00\">16</span>)             │         <span style=\"color: #00af00; text-decoration-color: #00af00\">1,040</span> │\n",
       "├─────────────────────────────────┼────────────────────────┼───────────────┤\n",
       "│ output (<span style=\"color: #0087ff; text-decoration-color: #0087ff\">Dense</span>)                  │ (<span style=\"color: #00d7ff; text-decoration-color: #00d7ff\">None</span>, <span style=\"color: #00af00; text-decoration-color: #00af00\">1</span>)              │            <span style=\"color: #00af00; text-decoration-color: #00af00\">17</span> │\n",
       "└─────────────────────────────────┴────────────────────────┴───────────────┘\n",
       "</pre>\n"
      ],
      "text/plain": [
       "┏━━━━━━━━━━━━━━━━━━━━━━━━━━━━━━━━━┳━━━━━━━━━━━━━━━━━━━━━━━━┳━━━━━━━━━━━━━━━┓\n",
       "┃\u001b[1m \u001b[0m\u001b[1mLayer (type)                   \u001b[0m\u001b[1m \u001b[0m┃\u001b[1m \u001b[0m\u001b[1mOutput Shape          \u001b[0m\u001b[1m \u001b[0m┃\u001b[1m \u001b[0m\u001b[1m      Param #\u001b[0m\u001b[1m \u001b[0m┃\n",
       "┡━━━━━━━━━━━━━━━━━━━━━━━━━━━━━━━━━╇━━━━━━━━━━━━━━━━━━━━━━━━╇━━━━━━━━━━━━━━━┩\n",
       "│ normalization_12                │ (\u001b[38;5;45mNone\u001b[0m, \u001b[38;5;34m12\u001b[0m)             │             \u001b[38;5;34m3\u001b[0m │\n",
       "│ (\u001b[38;5;33mNormalization\u001b[0m)                 │                        │               │\n",
       "├─────────────────────────────────┼────────────────────────┼───────────────┤\n",
       "│ layer0 (\u001b[38;5;33mDense\u001b[0m)                  │ (\u001b[38;5;45mNone\u001b[0m, \u001b[38;5;34m128\u001b[0m)            │         \u001b[38;5;34m1,664\u001b[0m │\n",
       "├─────────────────────────────────┼────────────────────────┼───────────────┤\n",
       "│ layer1 (\u001b[38;5;33mDense\u001b[0m)                  │ (\u001b[38;5;45mNone\u001b[0m, \u001b[38;5;34m64\u001b[0m)             │         \u001b[38;5;34m8,256\u001b[0m │\n",
       "├─────────────────────────────────┼────────────────────────┼───────────────┤\n",
       "│ layer2 (\u001b[38;5;33mDense\u001b[0m)                  │ (\u001b[38;5;45mNone\u001b[0m, \u001b[38;5;34m16\u001b[0m)             │         \u001b[38;5;34m1,040\u001b[0m │\n",
       "├─────────────────────────────────┼────────────────────────┼───────────────┤\n",
       "│ output (\u001b[38;5;33mDense\u001b[0m)                  │ (\u001b[38;5;45mNone\u001b[0m, \u001b[38;5;34m1\u001b[0m)              │            \u001b[38;5;34m17\u001b[0m │\n",
       "└─────────────────────────────────┴────────────────────────┴───────────────┘\n"
      ]
     },
     "metadata": {},
     "output_type": "display_data"
    },
    {
     "data": {
      "text/html": [
       "<pre style=\"white-space:pre;overflow-x:auto;line-height:normal;font-family:Menlo,'DejaVu Sans Mono',consolas,'Courier New',monospace\"><span style=\"font-weight: bold\"> Total params: </span><span style=\"color: #00af00; text-decoration-color: #00af00\">10,980</span> (42.89 KB)\n",
       "</pre>\n"
      ],
      "text/plain": [
       "\u001b[1m Total params: \u001b[0m\u001b[38;5;34m10,980\u001b[0m (42.89 KB)\n"
      ]
     },
     "metadata": {},
     "output_type": "display_data"
    },
    {
     "data": {
      "text/html": [
       "<pre style=\"white-space:pre;overflow-x:auto;line-height:normal;font-family:Menlo,'DejaVu Sans Mono',consolas,'Courier New',monospace\"><span style=\"font-weight: bold\"> Trainable params: </span><span style=\"color: #00af00; text-decoration-color: #00af00\">10,977</span> (42.88 KB)\n",
       "</pre>\n"
      ],
      "text/plain": [
       "\u001b[1m Trainable params: \u001b[0m\u001b[38;5;34m10,977\u001b[0m (42.88 KB)\n"
      ]
     },
     "metadata": {},
     "output_type": "display_data"
    },
    {
     "data": {
      "text/html": [
       "<pre style=\"white-space:pre;overflow-x:auto;line-height:normal;font-family:Menlo,'DejaVu Sans Mono',consolas,'Courier New',monospace\"><span style=\"font-weight: bold\"> Non-trainable params: </span><span style=\"color: #00af00; text-decoration-color: #00af00\">3</span> (16.00 B)\n",
       "</pre>\n"
      ],
      "text/plain": [
       "\u001b[1m Non-trainable params: \u001b[0m\u001b[38;5;34m3\u001b[0m (16.00 B)\n"
      ]
     },
     "metadata": {},
     "output_type": "display_data"
    },
    {
     "name": "stdout",
     "output_type": "stream",
     "text": [
      "\u001b[1m4/4\u001b[0m \u001b[32m━━━━━━━━━━━━━━━━━━━━\u001b[0m\u001b[37m\u001b[0m \u001b[1m0s\u001b[0m 29ms/step\n",
      "\u001b[1m1/1\u001b[0m \u001b[32m━━━━━━━━━━━━━━━━━━━━\u001b[0m\u001b[37m\u001b[0m \u001b[1m0s\u001b[0m 35ms/step\n",
      "Train Mean Squared Error: 0.33493467045436864\n",
      "Train R-squared: 0.6951054293131292\n",
      "Test Mean Squared Error: 0.18882573633648797\n",
      "Test R-squared: 0.6594151575744416\n",
      "==== Iter:  0 {'train_mse': 0.33493467045436864, 'train_r2': 0.6951054293131292, 'test_mse': 0.18882573633648797, 'test_r2': 0.6594151575744416}  ====\n",
      "\u001b[1m4/4\u001b[0m \u001b[32m━━━━━━━━━━━━━━━━━━━━\u001b[0m\u001b[37m\u001b[0m \u001b[1m0s\u001b[0m 31ms/step\n",
      "\u001b[1m1/1\u001b[0m \u001b[32m━━━━━━━━━━━━━━━━━━━━\u001b[0m\u001b[37m\u001b[0m \u001b[1m0s\u001b[0m 39ms/step\n",
      "Train Mean Squared Error: 0.21170160362433357\n",
      "Train R-squared: 0.7663029647916367\n",
      "Test Mean Squared Error: 0.6307626626569036\n",
      "Test R-squared: 0.498257607706733\n",
      "==== Iter:  1 {'train_mse': 0.21170160362433357, 'train_r2': 0.7663029647916367, 'test_mse': 0.6307626626569036, 'test_r2': 0.498257607706733}  ====\n"
     ]
    }
   ],
   "source": [
    "reg_model = build_reg_model()\n",
    "max_iters = 2\n",
    "for i in range (max_iters):\n",
    "    #data_shuffled = data_df\n",
    "    data_shuffled = data_df.sample(frac=1).reset_index(drop=True)\n",
    "    X = data_shuffled.drop('output', axis=1)\n",
    "    y = data_shuffled['output']\n",
    "    X_train, X_test, y_train, y_test = train_test_split(X, y, test_size=0.2, random_state=12)\n",
    "    nn_metrics, nn_y_test_pred = train_model(reg_model, X_train, y_train, 50)\n",
    "    print('==== Iter: ', i, nn_metrics, ' ====')\n",
    "    if nn_metrics['test_r2'] > 0.7:\n",
    "        break"
   ]
  },
  {
   "cell_type": "code",
   "execution_count": 64,
   "id": "3aa86d44",
   "metadata": {},
   "outputs": [
    {
     "name": "stdout",
     "output_type": "stream",
     "text": [
      "\u001b[1m1/1\u001b[0m \u001b[32m━━━━━━━━━━━━━━━━━━━━\u001b[0m\u001b[37m\u001b[0m \u001b[1m0s\u001b[0m 302ms/step - loss: 0.7242\n"
     ]
    },
    {
     "data": {
      "text/plain": [
       "0.7241790294647217"
      ]
     },
     "execution_count": 64,
     "metadata": {},
     "output_type": "execute_result"
    }
   ],
   "source": [
    "reg_model.evaluate(X_test, y_test)"
   ]
  },
  {
   "cell_type": "code",
   "execution_count": 65,
   "id": "abb4452b",
   "metadata": {},
   "outputs": [
    {
     "data": {
      "text/html": [
       "<div>\n",
       "<style scoped>\n",
       "    .dataframe tbody tr th:only-of-type {\n",
       "        vertical-align: middle;\n",
       "    }\n",
       "\n",
       "    .dataframe tbody tr th {\n",
       "        vertical-align: top;\n",
       "    }\n",
       "\n",
       "    .dataframe thead th {\n",
       "        text-align: right;\n",
       "    }\n",
       "</style>\n",
       "<table border=\"1\" class=\"dataframe\">\n",
       "  <thead>\n",
       "    <tr style=\"text-align: right;\">\n",
       "      <th></th>\n",
       "      <th>output</th>\n",
       "      <th>pred</th>\n",
       "    </tr>\n",
       "  </thead>\n",
       "  <tbody>\n",
       "    <tr>\n",
       "      <th>40</th>\n",
       "      <td>-0.101933</td>\n",
       "      <td>-0.033298</td>\n",
       "    </tr>\n",
       "    <tr>\n",
       "      <th>147</th>\n",
       "      <td>-1.954940</td>\n",
       "      <td>-0.021445</td>\n",
       "    </tr>\n",
       "    <tr>\n",
       "      <th>38</th>\n",
       "      <td>0.465924</td>\n",
       "      <td>0.374514</td>\n",
       "    </tr>\n",
       "    <tr>\n",
       "      <th>132</th>\n",
       "      <td>0.107277</td>\n",
       "      <td>-0.217738</td>\n",
       "    </tr>\n",
       "    <tr>\n",
       "      <th>144</th>\n",
       "      <td>-0.400805</td>\n",
       "      <td>-0.166576</td>\n",
       "    </tr>\n",
       "    <tr>\n",
       "      <th>99</th>\n",
       "      <td>0.495811</td>\n",
       "      <td>0.831876</td>\n",
       "    </tr>\n",
       "    <tr>\n",
       "      <th>83</th>\n",
       "      <td>0.555585</td>\n",
       "      <td>0.276757</td>\n",
       "    </tr>\n",
       "    <tr>\n",
       "      <th>39</th>\n",
       "      <td>-2.313586</td>\n",
       "      <td>-1.389976</td>\n",
       "    </tr>\n",
       "    <tr>\n",
       "      <th>136</th>\n",
       "      <td>-3.090654</td>\n",
       "      <td>-0.168308</td>\n",
       "    </tr>\n",
       "    <tr>\n",
       "      <th>23</th>\n",
       "      <td>0.884345</td>\n",
       "      <td>0.007917</td>\n",
       "    </tr>\n",
       "  </tbody>\n",
       "</table>\n",
       "</div>"
      ],
      "text/plain": [
       "       output      pred\n",
       "40  -0.101933 -0.033298\n",
       "147 -1.954940 -0.021445\n",
       "38   0.465924  0.374514\n",
       "132  0.107277 -0.217738\n",
       "144 -0.400805 -0.166576\n",
       "99   0.495811  0.831876\n",
       "83   0.555585  0.276757\n",
       "39  -2.313586 -1.389976\n",
       "136 -3.090654 -0.168308\n",
       "23   0.884345  0.007917"
      ]
     },
     "execution_count": 65,
     "metadata": {},
     "output_type": "execute_result"
    }
   ],
   "source": [
    "reg_compare_df = pd.DataFrame(y_test)\n",
    "reg_compare_df['pred'] = nn_y_test_pred\n",
    "reg_compare_df.head(10)"
   ]
  },
  {
   "cell_type": "code",
   "execution_count": 66,
   "id": "e7f8cf2a",
   "metadata": {},
   "outputs": [
    {
     "data": {
      "image/png": "[encoded data removed]",
      "text/plain": [
       "<Figure size 1200x600 with 1 Axes>"
      ]
     },
     "metadata": {},
     "output_type": "display_data"
    }
   ],
   "source": [
    "plt.scatter(nn_y_test_pred, y_test,c= 'green')\n",
    "ax = plt.subplot()\n",
    "ax.axline((0, 0), slope=1)\n",
    "plt.xlabel('y_true')\n",
    "plt.ylabel('y_pred')\n",
    "plt.title('Test data vs predictions -  with regularization')\n",
    "plt.show()"
   ]
  },
  {
   "cell_type": "code",
   "execution_count": 134,
   "id": "636fa682",
   "metadata": {},
   "outputs": [
    {
     "name": "stdout",
     "output_type": "stream",
     "text": [
      "X_poly  (151, 78)\n",
      "X_poly_train  (120, 78)\n",
      "X_poly_test  (120, 78)\n"
     ]
    }
   ],
   "source": [
    "# It seems the the RandomForestRegressor model have high bias(underfitting). Let's try adding more features using PolynomialFeatures\n",
    "from sklearn.preprocessing import PolynomialFeatures\n",
    "poly = PolynomialFeatures(degree=2, include_bias=False, interaction_only=True)\n",
    "X_poly  = poly.fit_transform(X)\n",
    "X_poly_train, X_poly_test, y_poly_train, y_poly_test = train_test_split(X_poly, y, test_size=0.2, random_state=32)\n",
    "\n",
    "print( 'X_poly ', X_poly.shape)\n",
    "print( 'X_poly_train ', X_poly_train.shape)\n",
    "print( 'X_poly_test ', X_poly_train.shape)\n",
    "\n",
    "input_shape = X_poly_train.shape[1]"
   ]
  },
  {
   "cell_type": "code",
   "execution_count": 161,
   "id": "4136adfc",
   "metadata": {},
   "outputs": [],
   "source": [
    "def build_poly_model():\n",
    "    tf.random.set_seed(32)\n",
    "    reg_rate = 0.01\n",
    "    model = Sequential([\n",
    "        Input(shape=(input_shape,)),\n",
    "        tf.keras.layers.Normalization(axis=None),\n",
    "        tf.keras.layers.Dropout(rate=0.2),\n",
    "        Dense(units=128, activation='relu', name='layer0'), # kernel_regularizer=tf.keras.regularizers.l2(reg_rate)),\n",
    "        tf.keras.layers.Dropout(rate=0.1),\n",
    "        Dense(units=64, activation='relu', name='layer1',   kernel_regularizer=tf.keras.regularizers.l2(reg_rate)),\n",
    "        #tf.keras.layers.Dropout(rate=0.1),\n",
    "        Dense(units=16, activation='relu', name='layer2', kernel_regularizer=tf.keras.regularizers.l2(reg_rate)),\n",
    "        Dense(units=1, activation='linear', name='output'),\n",
    "        ])\n",
    "    model.summary()\n",
    "    return model"
   ]
  },
  {
   "cell_type": "code",
   "execution_count": 162,
   "id": "6a06ea83",
   "metadata": {},
   "outputs": [
    {
     "data": {
      "text/html": [
       "<pre style=\"white-space:pre;overflow-x:auto;line-height:normal;font-family:Menlo,'DejaVu Sans Mono',consolas,'Courier New',monospace\"><span style=\"font-weight: bold\">Model: \"sequential_64\"</span>\n",
       "</pre>\n"
      ],
      "text/plain": [
       "\u001b[1mModel: \"sequential_64\"\u001b[0m\n"
      ]
     },
     "metadata": {},
     "output_type": "display_data"
    },
    {
     "data": {
      "text/html": [
       "<pre style=\"white-space:pre;overflow-x:auto;line-height:normal;font-family:Menlo,'DejaVu Sans Mono',consolas,'Courier New',monospace\">┏━━━━━━━━━━━━━━━━━━━━━━━━━━━━━━━━━┳━━━━━━━━━━━━━━━━━━━━━━━━┳━━━━━━━━━━━━━━━┓\n",
       "┃<span style=\"font-weight: bold\"> Layer (type)                    </span>┃<span style=\"font-weight: bold\"> Output Shape           </span>┃<span style=\"font-weight: bold\">       Param # </span>┃\n",
       "┡━━━━━━━━━━━━━━━━━━━━━━━━━━━━━━━━━╇━━━━━━━━━━━━━━━━━━━━━━━━╇━━━━━━━━━━━━━━━┩\n",
       "│ normalization_64                │ (<span style=\"color: #00d7ff; text-decoration-color: #00d7ff\">None</span>, <span style=\"color: #00af00; text-decoration-color: #00af00\">78</span>)             │             <span style=\"color: #00af00; text-decoration-color: #00af00\">3</span> │\n",
       "│ (<span style=\"color: #0087ff; text-decoration-color: #0087ff\">Normalization</span>)                 │                        │               │\n",
       "├─────────────────────────────────┼────────────────────────┼───────────────┤\n",
       "│ dropout_52 (<span style=\"color: #0087ff; text-decoration-color: #0087ff\">Dropout</span>)            │ (<span style=\"color: #00d7ff; text-decoration-color: #00d7ff\">None</span>, <span style=\"color: #00af00; text-decoration-color: #00af00\">78</span>)             │             <span style=\"color: #00af00; text-decoration-color: #00af00\">0</span> │\n",
       "├─────────────────────────────────┼────────────────────────┼───────────────┤\n",
       "│ layer0 (<span style=\"color: #0087ff; text-decoration-color: #0087ff\">Dense</span>)                  │ (<span style=\"color: #00d7ff; text-decoration-color: #00d7ff\">None</span>, <span style=\"color: #00af00; text-decoration-color: #00af00\">128</span>)            │        <span style=\"color: #00af00; text-decoration-color: #00af00\">10,112</span> │\n",
       "├─────────────────────────────────┼────────────────────────┼───────────────┤\n",
       "│ dropout_53 (<span style=\"color: #0087ff; text-decoration-color: #0087ff\">Dropout</span>)            │ (<span style=\"color: #00d7ff; text-decoration-color: #00d7ff\">None</span>, <span style=\"color: #00af00; text-decoration-color: #00af00\">128</span>)            │             <span style=\"color: #00af00; text-decoration-color: #00af00\">0</span> │\n",
       "├─────────────────────────────────┼────────────────────────┼───────────────┤\n",
       "│ layer1 (<span style=\"color: #0087ff; text-decoration-color: #0087ff\">Dense</span>)                  │ (<span style=\"color: #00d7ff; text-decoration-color: #00d7ff\">None</span>, <span style=\"color: #00af00; text-decoration-color: #00af00\">64</span>)             │         <span style=\"color: #00af00; text-decoration-color: #00af00\">8,256</span> │\n",
       "├─────────────────────────────────┼────────────────────────┼───────────────┤\n",
       "│ layer2 (<span style=\"color: #0087ff; text-decoration-color: #0087ff\">Dense</span>)                  │ (<span style=\"color: #00d7ff; text-decoration-color: #00d7ff\">None</span>, <span style=\"color: #00af00; text-decoration-color: #00af00\">16</span>)             │         <span style=\"color: #00af00; text-decoration-color: #00af00\">1,040</span> │\n",
       "├─────────────────────────────────┼────────────────────────┼───────────────┤\n",
       "│ output (<span style=\"color: #0087ff; text-decoration-color: #0087ff\">Dense</span>)                  │ (<span style=\"color: #00d7ff; text-decoration-color: #00d7ff\">None</span>, <span style=\"color: #00af00; text-decoration-color: #00af00\">1</span>)              │            <span style=\"color: #00af00; text-decoration-color: #00af00\">17</span> │\n",
       "└─────────────────────────────────┴────────────────────────┴───────────────┘\n",
       "</pre>\n"
      ],
      "text/plain": [
       "┏━━━━━━━━━━━━━━━━━━━━━━━━━━━━━━━━━┳━━━━━━━━━━━━━━━━━━━━━━━━┳━━━━━━━━━━━━━━━┓\n",
       "┃\u001b[1m \u001b[0m\u001b[1mLayer (type)                   \u001b[0m\u001b[1m \u001b[0m┃\u001b[1m \u001b[0m\u001b[1mOutput Shape          \u001b[0m\u001b[1m \u001b[0m┃\u001b[1m \u001b[0m\u001b[1m      Param #\u001b[0m\u001b[1m \u001b[0m┃\n",
       "┡━━━━━━━━━━━━━━━━━━━━━━━━━━━━━━━━━╇━━━━━━━━━━━━━━━━━━━━━━━━╇━━━━━━━━━━━━━━━┩\n",
       "│ normalization_64                │ (\u001b[38;5;45mNone\u001b[0m, \u001b[38;5;34m78\u001b[0m)             │             \u001b[38;5;34m3\u001b[0m │\n",
       "│ (\u001b[38;5;33mNormalization\u001b[0m)                 │                        │               │\n",
       "├─────────────────────────────────┼────────────────────────┼───────────────┤\n",
       "│ dropout_52 (\u001b[38;5;33mDropout\u001b[0m)            │ (\u001b[38;5;45mNone\u001b[0m, \u001b[38;5;34m78\u001b[0m)             │             \u001b[38;5;34m0\u001b[0m │\n",
       "├─────────────────────────────────┼────────────────────────┼───────────────┤\n",
       "│ layer0 (\u001b[38;5;33mDense\u001b[0m)                  │ (\u001b[38;5;45mNone\u001b[0m, \u001b[38;5;34m128\u001b[0m)            │        \u001b[38;5;34m10,112\u001b[0m │\n",
       "├─────────────────────────────────┼────────────────────────┼───────────────┤\n",
       "│ dropout_53 (\u001b[38;5;33mDropout\u001b[0m)            │ (\u001b[38;5;45mNone\u001b[0m, \u001b[38;5;34m128\u001b[0m)            │             \u001b[38;5;34m0\u001b[0m │\n",
       "├─────────────────────────────────┼────────────────────────┼───────────────┤\n",
       "│ layer1 (\u001b[38;5;33mDense\u001b[0m)                  │ (\u001b[38;5;45mNone\u001b[0m, \u001b[38;5;34m64\u001b[0m)             │         \u001b[38;5;34m8,256\u001b[0m │\n",
       "├─────────────────────────────────┼────────────────────────┼───────────────┤\n",
       "│ layer2 (\u001b[38;5;33mDense\u001b[0m)                  │ (\u001b[38;5;45mNone\u001b[0m, \u001b[38;5;34m16\u001b[0m)             │         \u001b[38;5;34m1,040\u001b[0m │\n",
       "├─────────────────────────────────┼────────────────────────┼───────────────┤\n",
       "│ output (\u001b[38;5;33mDense\u001b[0m)                  │ (\u001b[38;5;45mNone\u001b[0m, \u001b[38;5;34m1\u001b[0m)              │            \u001b[38;5;34m17\u001b[0m │\n",
       "└─────────────────────────────────┴────────────────────────┴───────────────┘\n"
      ]
     },
     "metadata": {},
     "output_type": "display_data"
    },
    {
     "data": {
      "text/html": [
       "<pre style=\"white-space:pre;overflow-x:auto;line-height:normal;font-family:Menlo,'DejaVu Sans Mono',consolas,'Courier New',monospace\"><span style=\"font-weight: bold\"> Total params: </span><span style=\"color: #00af00; text-decoration-color: #00af00\">19,428</span> (75.89 KB)\n",
       "</pre>\n"
      ],
      "text/plain": [
       "\u001b[1m Total params: \u001b[0m\u001b[38;5;34m19,428\u001b[0m (75.89 KB)\n"
      ]
     },
     "metadata": {},
     "output_type": "display_data"
    },
    {
     "data": {
      "text/html": [
       "<pre style=\"white-space:pre;overflow-x:auto;line-height:normal;font-family:Menlo,'DejaVu Sans Mono',consolas,'Courier New',monospace\"><span style=\"font-weight: bold\"> Trainable params: </span><span style=\"color: #00af00; text-decoration-color: #00af00\">19,425</span> (75.88 KB)\n",
       "</pre>\n"
      ],
      "text/plain": [
       "\u001b[1m Trainable params: \u001b[0m\u001b[38;5;34m19,425\u001b[0m (75.88 KB)\n"
      ]
     },
     "metadata": {},
     "output_type": "display_data"
    },
    {
     "data": {
      "text/html": [
       "<pre style=\"white-space:pre;overflow-x:auto;line-height:normal;font-family:Menlo,'DejaVu Sans Mono',consolas,'Courier New',monospace\"><span style=\"font-weight: bold\"> Non-trainable params: </span><span style=\"color: #00af00; text-decoration-color: #00af00\">3</span> (16.00 B)\n",
       "</pre>\n"
      ],
      "text/plain": [
       "\u001b[1m Non-trainable params: \u001b[0m\u001b[38;5;34m3\u001b[0m (16.00 B)\n"
      ]
     },
     "metadata": {},
     "output_type": "display_data"
    },
    {
     "name": "stdout",
     "output_type": "stream",
     "text": [
      "\u001b[1m4/4\u001b[0m \u001b[32m━━━━━━━━━━━━━━━━━━━━\u001b[0m\u001b[37m\u001b[0m \u001b[1m0s\u001b[0m 32ms/step\n",
      "\u001b[1m1/1\u001b[0m \u001b[32m━━━━━━━━━━━━━━━━━━━━\u001b[0m\u001b[37m\u001b[0m \u001b[1m0s\u001b[0m 36ms/step\n",
      "Train Mean Squared Error: 0.14538769730552115\n",
      "Train R-squared: 0.8395067716333262\n",
      "Test Mean Squared Error: 2.4013077239632565\n",
      "Test R-squared: -0.9101287273070293\n",
      "==== Metrics:  {'train_mse': 0.14538769730552115, 'train_r2': 0.8395067716333262, 'test_mse': 2.4013077239632565, 'test_r2': -0.9101287273070293}  ====\n"
     ]
    }
   ],
   "source": [
    "poly_model = build_poly_model()\n",
    "poly_model.compile(optimizer=tf.keras.optimizers.Adam(0.01), loss=MeanSquaredError())\n",
    "history = poly_model.fit(X_poly_train, y_train, epochs=500, verbose=0)\n",
    "nn_poly_metrics, nn_poly_y_train_pred, nn_poly_y_test_pred = predict_and_eval(poly_model, X_poly_train, y_train, X_poly_test, y_test)\n",
    "print('==== Metrics: ', nn_poly_metrics, ' ====')"
   ]
  },
  {
   "cell_type": "markdown",
   "id": "5250849e",
   "metadata": {},
   "source": [
    "### Observations after using polynomial features\n",
    "- Adding polynomial features doesn't help with test R2 score. The model exhibits high variance.\n",
    "- Adding regularization to the layers helps lower the training error but it doesn't necessarily improve test error."
   ]
  }
 ],
 "metadata": {
  "kernelspec": {
   "display_name": "py39env",
   "language": "python",
   "name": "python3"
  },
  "language_info": {
   "codemirror_mode": {
    "name": "ipython",
    "version": 3
   },
   "file_extension": ".py",
   "mimetype": "text/x-python",
   "name": "python",
   "nbconvert_exporter": "python",
   "pygments_lexer": "ipython3",
   "version": "3.9.6"
  }
 },
 "nbformat": 4,
 "nbformat_minor": 5
}
