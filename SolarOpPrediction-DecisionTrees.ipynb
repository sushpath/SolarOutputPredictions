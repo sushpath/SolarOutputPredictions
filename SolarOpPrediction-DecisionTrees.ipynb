{
 "cells": [
  {
   "cell_type": "code",
   "execution_count": 30,
   "id": "2754f584",
   "metadata": {},
   "outputs": [],
   "source": [
    "import pandas as pd\n",
    "import numpy as np\n",
    "import matplotlib.pyplot as plt\n",
    "from matplotlib import rcParams\n",
    "# apply some styling\n",
    "plt.style.use(\"ggplot\")\n",
    "rcParams['figure.figsize'] = (12, 6)"
   ]
  },
  {
   "cell_type": "code",
   "execution_count": 31,
   "id": "115390a6",
   "metadata": {},
   "outputs": [
    {
     "name": "stderr",
     "output_type": "stream",
     "text": [
      "/var/folders/zh/nt4cvtjd1bl_ntm3_d6kztf40000gn/T/ipykernel_41202/720678684.py:12: SettingWithCopyWarning: \n",
      "A value is trying to be set on a copy of a slice from a DataFrame\n",
      "\n",
      "See the caveats in the documentation: https://pandas.pydata.org/pandas-docs/stable/user_guide/indexing.html#returning-a-view-versus-a-copy\n",
      "  data_df.drop(data_df.columns[0], axis=1, inplace=True)\n"
     ]
    }
   ],
   "source": [
    "weather_df = pd.read_csv('cleaned_weather.csv')\n",
    "# read the solar plant generation data\n",
    "solar_df = pd.read_csv('plant_output.csv')\n",
    "# drop unused columns\n",
    "solar_df = solar_df.drop(['Plant', 'Real-time power(kW)', 'Daily feed-in energy(kWh)', 'Energy purchased today(kWh)'], axis=1)\n",
    "\n",
    "# Both weather and solar df are date aligned\n",
    "data_df = weather_df\n",
    "data_df['output'] = solar_df['Daily yield(kWh)']\n",
    "# Remove entries with known 0 output\n",
    "data_df = data_df[~(data_df['output'] == 0)]\n",
    "data_df.drop(data_df.columns[0], axis=1, inplace=True)"
   ]
  },
  {
   "cell_type": "code",
   "execution_count": 32,
   "id": "4c87bf97",
   "metadata": {},
   "outputs": [
    {
     "data": {
      "text/html": [
       "<div>\n",
       "<style scoped>\n",
       "    .dataframe tbody tr th:only-of-type {\n",
       "        vertical-align: middle;\n",
       "    }\n",
       "\n",
       "    .dataframe tbody tr th {\n",
       "        vertical-align: top;\n",
       "    }\n",
       "\n",
       "    .dataframe thead th {\n",
       "        text-align: right;\n",
       "    }\n",
       "</style>\n",
       "<table border=\"1\" class=\"dataframe\">\n",
       "  <thead>\n",
       "    <tr style=\"text-align: right;\">\n",
       "      <th></th>\n",
       "      <th>datetime</th>\n",
       "      <th>tempmax</th>\n",
       "      <th>tempmin</th>\n",
       "      <th>temp</th>\n",
       "      <th>dew</th>\n",
       "      <th>humidity</th>\n",
       "      <th>precip</th>\n",
       "      <th>precipprob</th>\n",
       "      <th>precipcover</th>\n",
       "      <th>cloudcover</th>\n",
       "      <th>solarradiation</th>\n",
       "      <th>solarenergy</th>\n",
       "      <th>solartime</th>\n",
       "      <th>output</th>\n",
       "    </tr>\n",
       "  </thead>\n",
       "  <tbody>\n",
       "    <tr>\n",
       "      <th>0</th>\n",
       "      <td>2025-01-01</td>\n",
       "      <td>29.0</td>\n",
       "      <td>16.1</td>\n",
       "      <td>22.0</td>\n",
       "      <td>15.8</td>\n",
       "      <td>70.6</td>\n",
       "      <td>0.0</td>\n",
       "      <td>0</td>\n",
       "      <td>0.0</td>\n",
       "      <td>3.2</td>\n",
       "      <td>212.9</td>\n",
       "      <td>18.5</td>\n",
       "      <td>662.33</td>\n",
       "      <td>11.7</td>\n",
       "    </tr>\n",
       "    <tr>\n",
       "      <th>1</th>\n",
       "      <td>2025-01-02</td>\n",
       "      <td>30.8</td>\n",
       "      <td>14.9</td>\n",
       "      <td>22.1</td>\n",
       "      <td>13.6</td>\n",
       "      <td>63.1</td>\n",
       "      <td>0.0</td>\n",
       "      <td>0</td>\n",
       "      <td>0.0</td>\n",
       "      <td>8.9</td>\n",
       "      <td>218.2</td>\n",
       "      <td>18.8</td>\n",
       "      <td>662.62</td>\n",
       "      <td>12.5</td>\n",
       "    </tr>\n",
       "    <tr>\n",
       "      <th>2</th>\n",
       "      <td>2025-01-03</td>\n",
       "      <td>29.3</td>\n",
       "      <td>12.9</td>\n",
       "      <td>21.0</td>\n",
       "      <td>10.4</td>\n",
       "      <td>56.5</td>\n",
       "      <td>0.0</td>\n",
       "      <td>0</td>\n",
       "      <td>0.0</td>\n",
       "      <td>30.0</td>\n",
       "      <td>222.0</td>\n",
       "      <td>19.2</td>\n",
       "      <td>662.92</td>\n",
       "      <td>12.7</td>\n",
       "    </tr>\n",
       "    <tr>\n",
       "      <th>3</th>\n",
       "      <td>2025-01-04</td>\n",
       "      <td>29.8</td>\n",
       "      <td>11.2</td>\n",
       "      <td>20.0</td>\n",
       "      <td>8.6</td>\n",
       "      <td>51.8</td>\n",
       "      <td>0.0</td>\n",
       "      <td>0</td>\n",
       "      <td>0.0</td>\n",
       "      <td>3.9</td>\n",
       "      <td>224.0</td>\n",
       "      <td>19.4</td>\n",
       "      <td>663.23</td>\n",
       "      <td>10.5</td>\n",
       "    </tr>\n",
       "    <tr>\n",
       "      <th>4</th>\n",
       "      <td>2025-01-05</td>\n",
       "      <td>30.1</td>\n",
       "      <td>12.2</td>\n",
       "      <td>20.7</td>\n",
       "      <td>10.2</td>\n",
       "      <td>54.5</td>\n",
       "      <td>0.0</td>\n",
       "      <td>0</td>\n",
       "      <td>0.0</td>\n",
       "      <td>20.6</td>\n",
       "      <td>217.9</td>\n",
       "      <td>18.9</td>\n",
       "      <td>663.58</td>\n",
       "      <td>11.1</td>\n",
       "    </tr>\n",
       "  </tbody>\n",
       "</table>\n",
       "</div>"
      ],
      "text/plain": [
       "     datetime  tempmax  tempmin  temp   dew  humidity  precip  precipprob  \\\n",
       "0  2025-01-01     29.0     16.1  22.0  15.8      70.6     0.0           0   \n",
       "1  2025-01-02     30.8     14.9  22.1  13.6      63.1     0.0           0   \n",
       "2  2025-01-03     29.3     12.9  21.0  10.4      56.5     0.0           0   \n",
       "3  2025-01-04     29.8     11.2  20.0   8.6      51.8     0.0           0   \n",
       "4  2025-01-05     30.1     12.2  20.7  10.2      54.5     0.0           0   \n",
       "\n",
       "   precipcover  cloudcover  solarradiation  solarenergy  solartime  output  \n",
       "0          0.0         3.2           212.9         18.5     662.33    11.7  \n",
       "1          0.0         8.9           218.2         18.8     662.62    12.5  \n",
       "2          0.0        30.0           222.0         19.2     662.92    12.7  \n",
       "3          0.0         3.9           224.0         19.4     663.23    10.5  \n",
       "4          0.0        20.6           217.9         18.9     663.58    11.1  "
      ]
     },
     "execution_count": 32,
     "metadata": {},
     "output_type": "execute_result"
    }
   ],
   "source": [
    "data_df.head()"
   ]
  },
  {
   "cell_type": "code",
   "execution_count": 33,
   "id": "e385c071",
   "metadata": {},
   "outputs": [
    {
     "data": {
      "text/html": [
       "<div>\n",
       "<style scoped>\n",
       "    .dataframe tbody tr th:only-of-type {\n",
       "        vertical-align: middle;\n",
       "    }\n",
       "\n",
       "    .dataframe tbody tr th {\n",
       "        vertical-align: top;\n",
       "    }\n",
       "\n",
       "    .dataframe thead th {\n",
       "        text-align: right;\n",
       "    }\n",
       "</style>\n",
       "<table border=\"1\" class=\"dataframe\">\n",
       "  <thead>\n",
       "    <tr style=\"text-align: right;\">\n",
       "      <th></th>\n",
       "      <th>tempmax</th>\n",
       "      <th>tempmin</th>\n",
       "      <th>temp</th>\n",
       "      <th>dew</th>\n",
       "      <th>humidity</th>\n",
       "      <th>precip</th>\n",
       "      <th>precipprob</th>\n",
       "      <th>precipcover</th>\n",
       "      <th>cloudcover</th>\n",
       "      <th>solarradiation</th>\n",
       "      <th>solarenergy</th>\n",
       "      <th>solartime</th>\n",
       "      <th>output</th>\n",
       "    </tr>\n",
       "  </thead>\n",
       "  <tbody>\n",
       "    <tr>\n",
       "      <th>0</th>\n",
       "      <td>-1.403946</td>\n",
       "      <td>-0.829721</td>\n",
       "      <td>-1.376138</td>\n",
       "      <td>0.242118</td>\n",
       "      <td>1.004365</td>\n",
       "      <td>-0.293308</td>\n",
       "      <td>-0.6003</td>\n",
       "      <td>-0.451987</td>\n",
       "      <td>-0.883851</td>\n",
       "      <td>-0.680943</td>\n",
       "      <td>-0.651917</td>\n",
       "      <td>-1.509529</td>\n",
       "      <td>-0.281256</td>\n",
       "    </tr>\n",
       "    <tr>\n",
       "      <th>1</th>\n",
       "      <td>-0.916350</td>\n",
       "      <td>-1.188969</td>\n",
       "      <td>-1.340224</td>\n",
       "      <td>-0.316047</td>\n",
       "      <td>0.483319</td>\n",
       "      <td>-0.293308</td>\n",
       "      <td>-0.6003</td>\n",
       "      <td>-0.451987</td>\n",
       "      <td>-0.686336</td>\n",
       "      <td>-0.583275</td>\n",
       "      <td>-0.588037</td>\n",
       "      <td>-1.502480</td>\n",
       "      <td>-0.042159</td>\n",
       "    </tr>\n",
       "    <tr>\n",
       "      <th>2</th>\n",
       "      <td>-1.322680</td>\n",
       "      <td>-1.787716</td>\n",
       "      <td>-1.735276</td>\n",
       "      <td>-1.127923</td>\n",
       "      <td>0.024799</td>\n",
       "      <td>-0.293308</td>\n",
       "      <td>-0.6003</td>\n",
       "      <td>-0.451987</td>\n",
       "      <td>0.044818</td>\n",
       "      <td>-0.513248</td>\n",
       "      <td>-0.502863</td>\n",
       "      <td>-1.495189</td>\n",
       "      <td>0.017616</td>\n",
       "    </tr>\n",
       "    <tr>\n",
       "      <th>3</th>\n",
       "      <td>-1.187236</td>\n",
       "      <td>-2.296651</td>\n",
       "      <td>-2.094413</td>\n",
       "      <td>-1.584603</td>\n",
       "      <td>-0.301724</td>\n",
       "      <td>-0.293308</td>\n",
       "      <td>-0.6003</td>\n",
       "      <td>-0.451987</td>\n",
       "      <td>-0.859595</td>\n",
       "      <td>-0.476393</td>\n",
       "      <td>-0.460277</td>\n",
       "      <td>-1.487654</td>\n",
       "      <td>-0.639903</td>\n",
       "    </tr>\n",
       "    <tr>\n",
       "      <th>4</th>\n",
       "      <td>-1.105970</td>\n",
       "      <td>-1.997277</td>\n",
       "      <td>-1.843017</td>\n",
       "      <td>-1.178665</td>\n",
       "      <td>-0.114147</td>\n",
       "      <td>-0.293308</td>\n",
       "      <td>-0.6003</td>\n",
       "      <td>-0.451987</td>\n",
       "      <td>-0.280909</td>\n",
       "      <td>-0.588803</td>\n",
       "      <td>-0.566744</td>\n",
       "      <td>-1.479148</td>\n",
       "      <td>-0.460580</td>\n",
       "    </tr>\n",
       "  </tbody>\n",
       "</table>\n",
       "</div>"
      ],
      "text/plain": [
       "    tempmax   tempmin      temp       dew  humidity    precip  precipprob  \\\n",
       "0 -1.403946 -0.829721 -1.376138  0.242118  1.004365 -0.293308     -0.6003   \n",
       "1 -0.916350 -1.188969 -1.340224 -0.316047  0.483319 -0.293308     -0.6003   \n",
       "2 -1.322680 -1.787716 -1.735276 -1.127923  0.024799 -0.293308     -0.6003   \n",
       "3 -1.187236 -2.296651 -2.094413 -1.584603 -0.301724 -0.293308     -0.6003   \n",
       "4 -1.105970 -1.997277 -1.843017 -1.178665 -0.114147 -0.293308     -0.6003   \n",
       "\n",
       "   precipcover  cloudcover  solarradiation  solarenergy  solartime    output  \n",
       "0    -0.451987   -0.883851       -0.680943    -0.651917  -1.509529 -0.281256  \n",
       "1    -0.451987   -0.686336       -0.583275    -0.588037  -1.502480 -0.042159  \n",
       "2    -0.451987    0.044818       -0.513248    -0.502863  -1.495189  0.017616  \n",
       "3    -0.451987   -0.859595       -0.476393    -0.460277  -1.487654 -0.639903  \n",
       "4    -0.451987   -0.280909       -0.588803    -0.566744  -1.479148 -0.460580  "
      ]
     },
     "execution_count": 33,
     "metadata": {},
     "output_type": "execute_result"
    }
   ],
   "source": [
    "from sklearn.model_selection import train_test_split\n",
    "from sklearn.tree import DecisionTreeRegressor\n",
    "from sklearn.preprocessing import StandardScaler, PolynomialFeatures\n",
    "scaler = StandardScaler()\n",
    "numeric_cols = data_df.select_dtypes(include=[np.number]).columns\n",
    "data_df = data_df[numeric_cols]\n",
    "data_norm = pd.DataFrame(scaler.fit_transform(data_df), columns=data_df.columns)\n",
    "data_norm.head(5)"
   ]
  },
  {
   "cell_type": "code",
   "execution_count": 34,
   "id": "66f3cc47",
   "metadata": {},
   "outputs": [
    {
     "name": "stdout",
     "output_type": "stream",
     "text": [
      "X  (151, 12)\n",
      "y  (151,)\n",
      "X_train  (120, 12)\n",
      "y_train  (120,)\n"
     ]
    }
   ],
   "source": [
    "# Split data \n",
    "X = data_norm.drop('output', axis=1)\n",
    "y = data_norm['output']\n",
    "X_train, X_test, y_train, y_test = train_test_split(X, y, test_size=0.2, random_state=12)\n",
    "print( 'X ', X.shape)\n",
    "print( 'y ', y.shape)\n",
    "print( 'X_train ', X_train.shape)\n",
    "print( 'y_train ', y_train.shape)"
   ]
  },
  {
   "cell_type": "code",
   "execution_count": 35,
   "id": "6e876bd6",
   "metadata": {},
   "outputs": [],
   "source": [
    "from ParamTester import ParamTester\n",
    "from ParamTester import predict_and_eval"
   ]
  },
  {
   "cell_type": "code",
   "execution_count": 36,
   "id": "9f0206fc",
   "metadata": {},
   "outputs": [
    {
     "name": "stdout",
     "output_type": "stream",
     "text": [
      "Train Mean Squared Error: 0.0\n",
      "Train R-squared: 1.0\n",
      "Test Mean Squared Error: 1.2653249371266673\n",
      "Test R-squared: -0.86717736294183\n"
     ]
    }
   ],
   "source": [
    "dt_reg = DecisionTreeRegressor(random_state=0)\n",
    "dt_reg.fit(X_train, y_train)\n",
    "\n",
    "dt_metrics, dt_y_train_pred, dt_y_test_pred = predict_and_eval(dt_reg, X_train, y_train, X_test, y_test)"
   ]
  },
  {
   "cell_type": "code",
   "execution_count": 37,
   "id": "9ff739e5",
   "metadata": {},
   "outputs": [
    {
     "name": "stdout",
     "output_type": "stream",
     "text": [
      "depth:  12\n",
      "leaves:  113\n",
      "features:  12\n"
     ]
    }
   ],
   "source": [
    "# Tree details\n",
    "print ('depth: ', dt_reg.get_depth())\n",
    "print ('leaves: ',dt_reg.get_n_leaves())\n",
    "print ('features: ',dt_reg.max_features_)"
   ]
  },
  {
   "cell_type": "code",
   "execution_count": 38,
   "id": "2632a64d",
   "metadata": {},
   "outputs": [],
   "source": [
    "# It seems the the curren tree model have high bias(underfitting). Let's try adding more features using PolynomialFeatures\n",
    "poly = PolynomialFeatures(degree=2, include_bias=False, interaction_only=False)\n",
    "X_poly  = poly.fit_transform(X)\n",
    "X_poly_train, X_poly_test, y_poly_train, y_poly_test = train_test_split(X_poly, y, test_size=0.2, random_state=42)"
   ]
  },
  {
   "cell_type": "code",
   "execution_count": 39,
   "id": "b4dfb484",
   "metadata": {},
   "outputs": [
    {
     "name": "stdout",
     "output_type": "stream",
     "text": [
      "Train Mean Squared Error: 0.0\n",
      "Train R-squared: 1.0\n",
      "Test Mean Squared Error: 0.6484959587132004\n",
      "Test R-squared: 0.4247738871620673\n"
     ]
    }
   ],
   "source": [
    "dt_poly_reg = DecisionTreeRegressor(random_state=0)\n",
    "dt_poly_reg.fit(X_poly_train, y_poly_train)\n",
    "\n",
    "dt_poly_metrics, dt_poly_y_train_pred, dt_poly_y_test_pred = predict_and_eval(dt_poly_reg, X_poly_train, y_poly_train, X_poly_test, y_poly_test)"
   ]
  },
  {
   "cell_type": "code",
   "execution_count": 40,
   "id": "0de170ce",
   "metadata": {},
   "outputs": [
    {
     "name": "stdout",
     "output_type": "stream",
     "text": [
      "depth:  11\n",
      "leaves:  104\n",
      "features:  90\n"
     ]
    }
   ],
   "source": [
    "# Tree details\n",
    "print ('depth: ', dt_poly_reg.get_depth())\n",
    "print ('leaves: ',dt_poly_reg.get_n_leaves())\n",
    "print ('features: ',dt_poly_reg.max_features_)"
   ]
  },
  {
   "cell_type": "markdown",
   "id": "a8390631",
   "metadata": {},
   "source": [
    "### Observations\n",
    "1. Polynomial features significantly improved the R2 score \n",
    "2. At the same time, the training R2 score of 1 indicates overfitting\n",
    "\n",
    "To address this following variations with max_features, max_leaf nodes are performed."
   ]
  },
  {
   "cell_type": "code",
   "execution_count": 41,
   "id": "b91ce10e",
   "metadata": {},
   "outputs": [
    {
     "name": "stdout",
     "output_type": "stream",
     "text": [
      "Parameter information:\n",
      "Parameter: max_features, Values: [20, 40, 60, 80, 100, 120], Params: {'random_state': 0}\n",
      "Parameter: max_leaf_nodes, Values: [5, 10, 15, 20, 25, 30, 35, 40, 45, 50], Params: {'random_state': 0}\n",
      "Parameter: max_depth, Values: [4, 8, 12, 16, 20, 24, 28, 32], Params: {'random_state': 0}\n",
      "Parameter: min_samples_leaf, Values: [1, 2, 4, 6, 8, 10, 12, 14, 16, 18, 20], Params: {'random_state': 0}\n",
      "Parameter: min_samples_split, Values: [2, 5, 10, 15, 20], Params: {'random_state': 0}\n"
     ]
    }
   ],
   "source": [
    "param_info = [\n",
    "    {\n",
    "        'name': 'max_features',\n",
    "        'type': 'int',\n",
    "        'params': {'random_state' : 0},\n",
    "        'values': [20, 40, 60, 80, 100, 120]\n",
    "    },\n",
    "    {        \n",
    "        'name': 'max_leaf_nodes',\n",
    "        'type': 'int',\n",
    "        'params': {'random_state' : 0},\n",
    "        'values': [5, 10, 15, 20, 25, 30, 35, 40, 45, 50]\n",
    "    },\n",
    "    {        \n",
    "        'name': 'max_depth',\n",
    "        'type': 'int',\n",
    "        'params': {'random_state' : 0},\n",
    "        'values': [4, 8, 12, 16, 20, 24, 28, 32]\n",
    "    },\n",
    "    {\n",
    "        'name': 'min_samples_leaf',\n",
    "        'type': 'int',\n",
    "        'params': {'random_state' : 0},\n",
    "        'values': [1, 2, 4, 6, 8, 10, 12, 14, 16, 18, 20]\n",
    "    },\n",
    "    {\n",
    "        'name': 'min_samples_split',\n",
    "        'type': 'int',\n",
    "        'params': {'random_state' : 0},\n",
    "        'values': [2, 5, 10, 15, 20]\n",
    "    }\n",
    "]\n",
    "pt = ParamTester(DecisionTreeRegressor, X_poly_train, y_poly_train, X_poly_test, y_poly_test)\n",
    "pt.init_test_params(param_info)\n",
    "pt.get_attr('param_info')"
   ]
  },
  {
   "cell_type": "code",
   "execution_count": 42,
   "id": "7c9dd95b",
   "metadata": {},
   "outputs": [
    {
     "name": "stdout",
     "output_type": "stream",
     "text": [
      "--- Running tests for parameter: max_features ---\n",
      "Updated params: {'random_state': 0}\n",
      "-- Testing max_features with value: 20 with {'random_state': 0, 'max_features': 20}\n",
      "Train Mean Squared Error: 0.0\n",
      "Train R-squared: 1.0\n",
      "Test Mean Squared Error: 1.4804817541404178\n",
      "Test R-squared: -0.31321059617937363\n",
      "-- Testing max_features with value: 40 with {'random_state': 0, 'max_features': 40}\n",
      "Train Mean Squared Error: 0.0\n",
      "Train R-squared: 1.0\n",
      "Test Mean Squared Error: 0.6340599649641862\n",
      "Test R-squared: 0.4375788406203366\n",
      "-- Testing max_features with value: 60 with {'random_state': 0, 'max_features': 60}\n",
      "Train Mean Squared Error: 0.0\n",
      "Train R-squared: 1.0\n",
      "Test Mean Squared Error: 0.5888214216788523\n",
      "Test R-squared: 0.4777061398807805\n",
      "-- Testing max_features with value: 80 with {'random_state': 0, 'max_features': 80}\n",
      "Train Mean Squared Error: 0.0\n",
      "Train R-squared: 1.0\n",
      "Test Mean Squared Error: 0.6101440471763984\n",
      "Test R-squared: 0.4587926357707621\n",
      "-- Testing max_features with value: 100 with {'random_state': 0, 'max_features': 100}\n",
      "Train Mean Squared Error: 0.0\n",
      "Train R-squared: 1.0\n",
      "Test Mean Squared Error: 0.6484959587132004\n",
      "Test R-squared: 0.4247738871620673\n",
      "-- Testing max_features with value: 120 with {'random_state': 0, 'max_features': 120}\n",
      "Train Mean Squared Error: 0.0\n",
      "Train R-squared: 1.0\n",
      "Test Mean Squared Error: 0.6484959587132004\n",
      "Test R-squared: 0.4247738871620673\n",
      "Best max_features value: 60.0 with test R2: 0.4777061398807805\n",
      "Best max_features value: 60.0 with test R2: 0.4777061398807805\n",
      "-------------------------------------\n",
      "Plotting metrics for max_features\n"
     ]
    },
    {
     "data": {
      "image/png": "[encoded data removed]",
      "text/plain": [
       "<Figure size 1200x600 with 1 Axes>"
      ]
     },
     "metadata": {},
     "output_type": "display_data"
    },
    {
     "name": "stdout",
     "output_type": "stream",
     "text": [
      "--- Running tests for parameter: max_leaf_nodes ---\n",
      "Updated params: {'random_state': 0, 'max_features': 60}\n",
      "-- Testing max_leaf_nodes with value: 5 with {'random_state': 0, 'max_features': 60, 'max_leaf_nodes': 5}\n",
      "Train Mean Squared Error: 0.3067269866232405\n",
      "Train R-squared: 0.6808619453734743\n",
      "Test Mean Squared Error: 0.47468411974210906\n",
      "Test R-squared: 0.57894772148317\n",
      "-- Testing max_leaf_nodes with value: 10 with {'random_state': 0, 'max_features': 60, 'max_leaf_nodes': 10}\n",
      "Train Mean Squared Error: 0.13046175841177282\n",
      "Train R-squared: 0.8642593785403352\n",
      "Test Mean Squared Error: 0.45931028364719767\n",
      "Test R-squared: 0.5925845558496189\n",
      "-- Testing max_leaf_nodes with value: 15 with {'random_state': 0, 'max_features': 60, 'max_leaf_nodes': 15}\n",
      "Train Mean Squared Error: 0.07447361269484849\n",
      "Train R-squared: 0.9225129678412117\n",
      "Test Mean Squared Error: 0.5531640475791546\n",
      "Test R-squared: 0.5093347914117428\n",
      "-- Testing max_leaf_nodes with value: 20 with {'random_state': 0, 'max_features': 60, 'max_leaf_nodes': 20}\n",
      "Train Mean Squared Error: 0.04233080728179237\n",
      "Train R-squared: 0.9559563648591657\n",
      "Test Mean Squared Error: 0.5804001919032903\n",
      "Test R-squared: 0.48517590311372916\n",
      "-- Testing max_leaf_nodes with value: 25 with {'random_state': 0, 'max_features': 60, 'max_leaf_nodes': 25}\n",
      "Train Mean Squared Error: 0.02352739502728407\n",
      "Train R-squared: 0.9755206179863787\n",
      "Test Mean Squared Error: 0.6312545513006959\n",
      "Test R-squared: 0.4400672866543782\n",
      "-- Testing max_leaf_nodes with value: 30 with {'random_state': 0, 'max_features': 60, 'max_leaf_nodes': 30}\n",
      "Train Mean Squared Error: 0.014880419621051045\n",
      "Train R-squared: 0.9845174752239138\n",
      "Test Mean Squared Error: 0.6392292905505006\n",
      "Test R-squared: 0.43299356753874374\n",
      "-- Testing max_leaf_nodes with value: 35 with {'random_state': 0, 'max_features': 60, 'max_leaf_nodes': 35}\n",
      "Train Mean Squared Error: 0.00933076211395019\n",
      "Train R-squared: 0.9902916880512811\n",
      "Test Mean Squared Error: 0.6496376052251926\n",
      "Test R-squared: 0.42376122875378464\n",
      "-- Testing max_leaf_nodes with value: 40 with {'random_state': 0, 'max_features': 60, 'max_leaf_nodes': 40}\n",
      "Train Mean Squared Error: 0.006347428195302059\n",
      "Train R-squared: 0.9933957363568453\n",
      "Test Mean Squared Error: 0.6759451999217211\n",
      "Test R-squared: 0.4004259785767016\n",
      "-- Testing max_leaf_nodes with value: 45 with {'random_state': 0, 'max_features': 60, 'max_leaf_nodes': 45}\n",
      "Train Mean Squared Error: 0.004721039732884185\n",
      "Train R-squared: 0.9950879332374564\n",
      "Test Mean Squared Error: 0.6794398773905131\n",
      "Test R-squared: 0.3973261447088323\n",
      "-- Testing max_leaf_nodes with value: 50 with {'random_state': 0, 'max_features': 60, 'max_leaf_nodes': 50}\n",
      "Train Mean Squared Error: 0.003272928109437632\n",
      "Train R-squared: 0.9965946396785054\n",
      "Test Mean Squared Error: 0.6708723079965973\n",
      "Test R-squared: 0.40492571348441964\n",
      "Best max_leaf_nodes value: 10.0 with test R2: 0.5925845558496189\n",
      "Best max_leaf_nodes value: 10.0 with test R2: 0.5925845558496189\n",
      "-------------------------------------\n",
      "Plotting metrics for max_leaf_nodes\n"
     ]
    },
    {
     "data": {
      "image/png": "[encoded data removed]",
      "text/plain": [
       "<Figure size 1200x600 with 1 Axes>"
      ]
     },
     "metadata": {},
     "output_type": "display_data"
    },
    {
     "name": "stdout",
     "output_type": "stream",
     "text": [
      "--- Running tests for parameter: max_depth ---\n",
      "Updated params: {'random_state': 0, 'max_features': 60, 'max_leaf_nodes': 10}\n",
      "-- Testing max_depth with value: 4 with {'random_state': 0, 'max_features': 60, 'max_leaf_nodes': 10, 'max_depth': 4}\n",
      "Train Mean Squared Error: 0.19923535067061773\n",
      "Train R-squared: 0.7927030062602359\n",
      "Test Mean Squared Error: 0.7044576736005124\n",
      "Test R-squared: 0.3751349660711041\n",
      "-- Testing max_depth with value: 8 with {'random_state': 0, 'max_features': 60, 'max_leaf_nodes': 10, 'max_depth': 8}\n",
      "Train Mean Squared Error: 0.13046175841177282\n",
      "Train R-squared: 0.8642593785403352\n",
      "Test Mean Squared Error: 0.45931028364719767\n",
      "Test R-squared: 0.5925845558496189\n",
      "-- Testing max_depth with value: 12 with {'random_state': 0, 'max_features': 60, 'max_leaf_nodes': 10, 'max_depth': 12}\n",
      "Train Mean Squared Error: 0.13046175841177282\n",
      "Train R-squared: 0.8642593785403352\n",
      "Test Mean Squared Error: 0.45931028364719767\n",
      "Test R-squared: 0.5925845558496189\n",
      "-- Testing max_depth with value: 16 with {'random_state': 0, 'max_features': 60, 'max_leaf_nodes': 10, 'max_depth': 16}\n",
      "Train Mean Squared Error: 0.13046175841177282\n",
      "Train R-squared: 0.8642593785403352\n",
      "Test Mean Squared Error: 0.45931028364719767\n",
      "Test R-squared: 0.5925845558496189\n",
      "-- Testing max_depth with value: 20 with {'random_state': 0, 'max_features': 60, 'max_leaf_nodes': 10, 'max_depth': 20}\n",
      "Train Mean Squared Error: 0.13046175841177282\n",
      "Train R-squared: 0.8642593785403352\n",
      "Test Mean Squared Error: 0.45931028364719767\n",
      "Test R-squared: 0.5925845558496189\n",
      "-- Testing max_depth with value: 24 with {'random_state': 0, 'max_features': 60, 'max_leaf_nodes': 10, 'max_depth': 24}\n",
      "Train Mean Squared Error: 0.13046175841177282\n",
      "Train R-squared: 0.8642593785403352\n",
      "Test Mean Squared Error: 0.45931028364719767\n",
      "Test R-squared: 0.5925845558496189\n",
      "-- Testing max_depth with value: 28 with {'random_state': 0, 'max_features': 60, 'max_leaf_nodes': 10, 'max_depth': 28}\n",
      "Train Mean Squared Error: 0.13046175841177282\n",
      "Train R-squared: 0.8642593785403352\n",
      "Test Mean Squared Error: 0.45931028364719767\n",
      "Test R-squared: 0.5925845558496189\n",
      "-- Testing max_depth with value: 32 with {'random_state': 0, 'max_features': 60, 'max_leaf_nodes': 10, 'max_depth': 32}\n",
      "Train Mean Squared Error: 0.13046175841177282\n",
      "Train R-squared: 0.8642593785403352\n",
      "Test Mean Squared Error: 0.45931028364719767\n",
      "Test R-squared: 0.5925845558496189\n",
      "Best max_depth value: 8.0 with test R2: 0.5925845558496189\n",
      "Best max_depth value: 8.0 with test R2: 0.5925845558496189\n",
      "-------------------------------------\n",
      "Plotting metrics for max_depth\n"
     ]
    },
    {
     "data": {
      "image/png": "[encoded data removed]",
      "text/plain": [
       "<Figure size 1200x600 with 1 Axes>"
      ]
     },
     "metadata": {},
     "output_type": "display_data"
    },
    {
     "name": "stdout",
     "output_type": "stream",
     "text": [
      "--- Running tests for parameter: min_samples_leaf ---\n",
      "Updated params: {'random_state': 0, 'max_features': 60, 'max_leaf_nodes': 10, 'max_depth': 8}\n",
      "-- Testing min_samples_leaf with value: 1 with {'random_state': 0, 'max_features': 60, 'max_leaf_nodes': 10, 'max_depth': 8, 'min_samples_leaf': 1}\n",
      "Train Mean Squared Error: 0.13046175841177282\n",
      "Train R-squared: 0.8642593785403352\n",
      "Test Mean Squared Error: 0.45931028364719767\n",
      "Test R-squared: 0.5925845558496189\n",
      "-- Testing min_samples_leaf with value: 2 with {'random_state': 0, 'max_features': 60, 'max_leaf_nodes': 10, 'max_depth': 8, 'min_samples_leaf': 2}\n",
      "Train Mean Squared Error: 0.14412092371805604\n",
      "Train R-squared: 0.8500475235886097\n",
      "Test Mean Squared Error: 1.0391502136662585\n",
      "Test R-squared: 0.07825742006465708\n",
      "-- Testing min_samples_leaf with value: 4 with {'random_state': 0, 'max_features': 60, 'max_leaf_nodes': 10, 'max_depth': 8, 'min_samples_leaf': 4}\n",
      "Train Mean Squared Error: 0.16828551682684517\n",
      "Train R-squared: 0.8249051606016413\n",
      "Test Mean Squared Error: 0.5580032957693092\n",
      "Test R-squared: 0.5050423021709398\n",
      "-- Testing min_samples_leaf with value: 6 with {'random_state': 0, 'max_features': 60, 'max_leaf_nodes': 10, 'max_depth': 8, 'min_samples_leaf': 6}\n",
      "Train Mean Squared Error: 0.22742193692027027\n",
      "Train R-squared: 0.7633759085656135\n",
      "Test Mean Squared Error: 0.7089244574630033\n",
      "Test R-squared: 0.37117285854586013\n",
      "-- Testing min_samples_leaf with value: 8 with {'random_state': 0, 'max_features': 60, 'max_leaf_nodes': 10, 'max_depth': 8, 'min_samples_leaf': 8}\n",
      "Train Mean Squared Error: 0.3029166064524248\n",
      "Train R-squared: 0.6848265046334501\n",
      "Test Mean Squared Error: 0.7134206269288356\n",
      "Test R-squared: 0.36718468552837014\n",
      "-- Testing min_samples_leaf with value: 10 with {'random_state': 0, 'max_features': 60, 'max_leaf_nodes': 10, 'max_depth': 8, 'min_samples_leaf': 10}\n",
      "Train Mean Squared Error: 0.3101692771332771\n",
      "Train R-squared: 0.6772803697549528\n",
      "Test Mean Squared Error: 0.5952249483647514\n",
      "Test R-squared: 0.47202611101630965\n",
      "-- Testing min_samples_leaf with value: 12 with {'random_state': 0, 'max_features': 60, 'max_leaf_nodes': 10, 'max_depth': 8, 'min_samples_leaf': 12}\n",
      "Train Mean Squared Error: 0.37764617462697825\n",
      "Train R-squared: 0.6070731602901249\n",
      "Test Mean Squared Error: 0.5433785656017285\n",
      "Test R-squared: 0.5180146678003169\n",
      "-- Testing min_samples_leaf with value: 14 with {'random_state': 0, 'max_features': 60, 'max_leaf_nodes': 10, 'max_depth': 8, 'min_samples_leaf': 14}\n",
      "Train Mean Squared Error: 0.38616915957047376\n",
      "Train R-squared: 0.5982053105308882\n",
      "Test Mean Squared Error: 0.6767886558147049\n",
      "Test R-squared: 0.39967781993646256\n",
      "-- Testing min_samples_leaf with value: 16 with {'random_state': 0, 'max_features': 60, 'max_leaf_nodes': 10, 'max_depth': 8, 'min_samples_leaf': 16}\n",
      "Train Mean Squared Error: 0.3924697542357258\n",
      "Train R-squared: 0.5916497754389314\n",
      "Test Mean Squared Error: 0.5923078865222285\n",
      "Test R-squared: 0.4746135907407968\n",
      "-- Testing min_samples_leaf with value: 18 with {'random_state': 0, 'max_features': 60, 'max_leaf_nodes': 10, 'max_depth': 8, 'min_samples_leaf': 18}\n",
      "Train Mean Squared Error: 0.42087656092714537\n",
      "Train R-squared: 0.5620935465415146\n",
      "Test Mean Squared Error: 0.48975675669993496\n",
      "Test R-squared: 0.5655780554876075\n",
      "-- Testing min_samples_leaf with value: 20 with {'random_state': 0, 'max_features': 60, 'max_leaf_nodes': 10, 'max_depth': 8, 'min_samples_leaf': 20}\n",
      "Train Mean Squared Error: 0.4409573466486299\n",
      "Train R-squared: 0.541200233693244\n",
      "Test Mean Squared Error: 0.4790790102185998\n",
      "Test R-squared: 0.5750493845218163\n",
      "Best min_samples_leaf value: 1.0 with test R2: 0.5925845558496189\n",
      "Best min_samples_leaf value: 1.0 with test R2: 0.5925845558496189\n",
      "-------------------------------------\n",
      "Plotting metrics for min_samples_leaf\n"
     ]
    },
    {
     "data": {
      "image/png": "[encoded data removed]",
      "text/plain": [
       "<Figure size 1200x600 with 1 Axes>"
      ]
     },
     "metadata": {},
     "output_type": "display_data"
    },
    {
     "name": "stdout",
     "output_type": "stream",
     "text": [
      "--- Running tests for parameter: min_samples_split ---\n",
      "Updated params: {'random_state': 0, 'max_features': 60, 'max_leaf_nodes': 10, 'max_depth': 8, 'min_samples_leaf': 1}\n",
      "-- Testing min_samples_split with value: 2 with {'random_state': 0, 'max_features': 60, 'max_leaf_nodes': 10, 'max_depth': 8, 'min_samples_leaf': 1, 'min_samples_split': 2}\n",
      "Train Mean Squared Error: 0.13046175841177282\n",
      "Train R-squared: 0.8642593785403352\n",
      "Test Mean Squared Error: 0.45931028364719767\n",
      "Test R-squared: 0.5925845558496189\n",
      "-- Testing min_samples_split with value: 5 with {'random_state': 0, 'max_features': 60, 'max_leaf_nodes': 10, 'max_depth': 8, 'min_samples_leaf': 1, 'min_samples_split': 5}\n",
      "Train Mean Squared Error: 0.1304617584117728\n",
      "Train R-squared: 0.8642593785403353\n",
      "Test Mean Squared Error: 0.45931028364719767\n",
      "Test R-squared: 0.5925845558496189\n",
      "-- Testing min_samples_split with value: 10 with {'random_state': 0, 'max_features': 60, 'max_leaf_nodes': 10, 'max_depth': 8, 'min_samples_leaf': 1, 'min_samples_split': 10}\n",
      "Train Mean Squared Error: 0.1304617584117728\n",
      "Train R-squared: 0.8642593785403353\n",
      "Test Mean Squared Error: 0.45931028364719767\n",
      "Test R-squared: 0.5925845558496189\n",
      "-- Testing min_samples_split with value: 15 with {'random_state': 0, 'max_features': 60, 'max_leaf_nodes': 10, 'max_depth': 8, 'min_samples_leaf': 1, 'min_samples_split': 15}\n",
      "Train Mean Squared Error: 0.1764425849252553\n",
      "Train R-squared: 0.816418033749708\n",
      "Test Mean Squared Error: 0.5333313476252106\n",
      "Test R-squared: 0.5269267081358278\n",
      "-- Testing min_samples_split with value: 20 with {'random_state': 0, 'max_features': 60, 'max_leaf_nodes': 10, 'max_depth': 8, 'min_samples_leaf': 1, 'min_samples_split': 20}\n",
      "Train Mean Squared Error: 0.1764425849252553\n",
      "Train R-squared: 0.816418033749708\n",
      "Test Mean Squared Error: 0.5333313476252106\n",
      "Test R-squared: 0.5269267081358278\n",
      "Best min_samples_split value: 2.0 with test R2: 0.5925845558496189\n",
      "Best min_samples_split value: 2.0 with test R2: 0.5925845558496189\n",
      "-------------------------------------\n",
      "Plotting metrics for min_samples_split\n"
     ]
    },
    {
     "data": {
      "image/png": "[encoded data removed]",
      "text/plain": [
       "<Figure size 1200x600 with 1 Axes>"
      ]
     },
     "metadata": {},
     "output_type": "display_data"
    },
    {
     "name": "stdout",
     "output_type": "stream",
     "text": [
      "Current best parameters:\n",
      "max_features: 60\n",
      "max_leaf_nodes: 10\n",
      "max_depth: 8\n",
      "min_samples_leaf: 1\n",
      "min_samples_split: 2\n"
     ]
    }
   ],
   "source": [
    "pt.run_param_tests()\n",
    "pt.get_attr('best_params')"
   ]
  },
  {
   "cell_type": "markdown",
   "id": "de5c1054",
   "metadata": {},
   "source": [
    "- In all variations training R2 score is close to 0.9 which indicates overfitting\n",
    "- The test R2 score however peaks around 0.47 (`max_features` = 60) before delicing with increasing number of features\n",
    "- The test R2 score however peaks around 0.59 (`max_depth` = 8) and stagnates with increasing number of max_depth\n",
    "- The model with `max_leaf_nodes` = 10 could be more generalized as it shows training R2 = 0.86 and testing R2 = 0.6. The test R2 score however peaks at 0.6 (max_leaf_nodes = 10) and declines gradually towards 0.5\n",
    "- Any `min_samples_leaf` count > 1 shows reduced R2 score for both training and test data. Hence changing the default value of 1 doesn't improve the accuracy."
   ]
  },
  {
   "cell_type": "code",
   "execution_count": 43,
   "id": "7d0ba09c",
   "metadata": {},
   "outputs": [
    {
     "name": "stdout",
     "output_type": "stream",
     "text": [
      "Train Mean Squared Error: 0.13046175841177282\n",
      "Train R-squared: 0.8642593785403352\n",
      "Test Mean Squared Error: 0.45931028364719767\n",
      "Test R-squared: 0.5925845558496189\n"
     ]
    }
   ],
   "source": [
    "# A final DT regressor test with optimal hyper parameters\n",
    "dt_poly_reg_ = DecisionTreeRegressor(random_state=0, max_features=60, max_depth=8, max_leaf_nodes=10, min_samples_split=2, min_samples_leaf=1)\n",
    "dt_poly_reg_.fit(X_poly_train, y_poly_train)\n",
    "\n",
    "dt_poly_metrics_, dt_poly_y_train_pred, dt_poly_y_test_pred = predict_and_eval(dt_poly_reg_, X_poly_train, y_poly_train, X_poly_test, y_poly_test)"
   ]
  },
  {
   "cell_type": "code",
   "execution_count": 44,
   "id": "1e24c8b1",
   "metadata": {},
   "outputs": [
    {
     "name": "stdout",
     "output_type": "stream",
     "text": [
      "depth:  6\n",
      "leaves:  10\n",
      "features:  60\n"
     ]
    }
   ],
   "source": [
    "# Tree details\n",
    "print ('depth: ', dt_poly_reg_.get_depth())\n",
    "print ('leaves: ',dt_poly_reg_.get_n_leaves())\n",
    "print ('features: ',dt_poly_reg_.max_features_)"
   ]
  }
 ],
 "metadata": {
  "kernelspec": {
   "display_name": "py3env",
   "language": "python",
   "name": "python3"
  },
  "language_info": {
   "codemirror_mode": {
    "name": "ipython",
    "version": 3
   },
   "file_extension": ".py",
   "mimetype": "text/x-python",
   "name": "python",
   "nbconvert_exporter": "python",
   "pygments_lexer": "ipython3",
   "version": "3.9.6"
  }
 },
 "nbformat": 4,
 "nbformat_minor": 5
}
