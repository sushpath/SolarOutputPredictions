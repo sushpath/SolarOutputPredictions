{
 "cells": [
  {
   "cell_type": "code",
   "execution_count": 1,
   "id": "2754f584",
   "metadata": {},
   "outputs": [],
   "source": [
    "import pandas as pd\n",
    "import numpy as np\n",
    "import matplotlib.pyplot as plt\n",
    "from matplotlib import rcParams\n",
    "# apply some styling\n",
    "plt.style.use(\"ggplot\")\n",
    "rcParams['figure.figsize'] = (12, 6)"
   ]
  },
  {
   "cell_type": "code",
   "execution_count": 6,
   "id": "115390a6",
   "metadata": {},
   "outputs": [
    {
     "name": "stderr",
     "output_type": "stream",
     "text": [
      "/var/folders/zh/nt4cvtjd1bl_ntm3_d6kztf40000gn/T/ipykernel_24692/720678684.py:12: SettingWithCopyWarning: \n",
      "A value is trying to be set on a copy of a slice from a DataFrame\n",
      "\n",
      "See the caveats in the documentation: https://pandas.pydata.org/pandas-docs/stable/user_guide/indexing.html#returning-a-view-versus-a-copy\n",
      "  data_df.drop(data_df.columns[0], axis=1, inplace=True)\n"
     ]
    }
   ],
   "source": [
    "weather_df = pd.read_csv('cleaned_weather.csv')\n",
    "# read the solar plant generation data\n",
    "solar_df = pd.read_csv('plant_output.csv')\n",
    "# drop unused columns\n",
    "solar_df = solar_df.drop(['Plant', 'Real-time power(kW)', 'Daily feed-in energy(kWh)', 'Energy purchased today(kWh)'], axis=1)\n",
    "\n",
    "# Both weather and solar df are date aligned\n",
    "data_df = weather_df\n",
    "data_df['output'] = solar_df['Daily yield(kWh)']\n",
    "# Remove entries with known 0 output\n",
    "data_df = data_df[~(data_df['output'] == 0)]\n",
    "data_df.drop(data_df.columns[0], axis=1, inplace=True)"
   ]
  },
  {
   "cell_type": "code",
   "execution_count": 7,
   "id": "4c87bf97",
   "metadata": {},
   "outputs": [
    {
     "data": {
      "text/html": [
       "<div>\n",
       "<style scoped>\n",
       "    .dataframe tbody tr th:only-of-type {\n",
       "        vertical-align: middle;\n",
       "    }\n",
       "\n",
       "    .dataframe tbody tr th {\n",
       "        vertical-align: top;\n",
       "    }\n",
       "\n",
       "    .dataframe thead th {\n",
       "        text-align: right;\n",
       "    }\n",
       "</style>\n",
       "<table border=\"1\" class=\"dataframe\">\n",
       "  <thead>\n",
       "    <tr style=\"text-align: right;\">\n",
       "      <th></th>\n",
       "      <th>datetime</th>\n",
       "      <th>tempmax</th>\n",
       "      <th>tempmin</th>\n",
       "      <th>temp</th>\n",
       "      <th>dew</th>\n",
       "      <th>humidity</th>\n",
       "      <th>precip</th>\n",
       "      <th>precipprob</th>\n",
       "      <th>precipcover</th>\n",
       "      <th>cloudcover</th>\n",
       "      <th>solarradiation</th>\n",
       "      <th>solarenergy</th>\n",
       "      <th>solartime</th>\n",
       "      <th>output</th>\n",
       "    </tr>\n",
       "  </thead>\n",
       "  <tbody>\n",
       "    <tr>\n",
       "      <th>0</th>\n",
       "      <td>2025-01-01</td>\n",
       "      <td>29.0</td>\n",
       "      <td>16.1</td>\n",
       "      <td>22.0</td>\n",
       "      <td>15.8</td>\n",
       "      <td>70.6</td>\n",
       "      <td>0.0</td>\n",
       "      <td>0</td>\n",
       "      <td>0.0</td>\n",
       "      <td>3.2</td>\n",
       "      <td>212.9</td>\n",
       "      <td>18.5</td>\n",
       "      <td>662.33</td>\n",
       "      <td>11.7</td>\n",
       "    </tr>\n",
       "    <tr>\n",
       "      <th>1</th>\n",
       "      <td>2025-01-02</td>\n",
       "      <td>30.8</td>\n",
       "      <td>14.9</td>\n",
       "      <td>22.1</td>\n",
       "      <td>13.6</td>\n",
       "      <td>63.1</td>\n",
       "      <td>0.0</td>\n",
       "      <td>0</td>\n",
       "      <td>0.0</td>\n",
       "      <td>8.9</td>\n",
       "      <td>218.2</td>\n",
       "      <td>18.8</td>\n",
       "      <td>662.62</td>\n",
       "      <td>12.5</td>\n",
       "    </tr>\n",
       "    <tr>\n",
       "      <th>2</th>\n",
       "      <td>2025-01-03</td>\n",
       "      <td>29.3</td>\n",
       "      <td>12.9</td>\n",
       "      <td>21.0</td>\n",
       "      <td>10.4</td>\n",
       "      <td>56.5</td>\n",
       "      <td>0.0</td>\n",
       "      <td>0</td>\n",
       "      <td>0.0</td>\n",
       "      <td>30.0</td>\n",
       "      <td>222.0</td>\n",
       "      <td>19.2</td>\n",
       "      <td>662.92</td>\n",
       "      <td>12.7</td>\n",
       "    </tr>\n",
       "    <tr>\n",
       "      <th>3</th>\n",
       "      <td>2025-01-04</td>\n",
       "      <td>29.8</td>\n",
       "      <td>11.2</td>\n",
       "      <td>20.0</td>\n",
       "      <td>8.6</td>\n",
       "      <td>51.8</td>\n",
       "      <td>0.0</td>\n",
       "      <td>0</td>\n",
       "      <td>0.0</td>\n",
       "      <td>3.9</td>\n",
       "      <td>224.0</td>\n",
       "      <td>19.4</td>\n",
       "      <td>663.23</td>\n",
       "      <td>10.5</td>\n",
       "    </tr>\n",
       "    <tr>\n",
       "      <th>4</th>\n",
       "      <td>2025-01-05</td>\n",
       "      <td>30.1</td>\n",
       "      <td>12.2</td>\n",
       "      <td>20.7</td>\n",
       "      <td>10.2</td>\n",
       "      <td>54.5</td>\n",
       "      <td>0.0</td>\n",
       "      <td>0</td>\n",
       "      <td>0.0</td>\n",
       "      <td>20.6</td>\n",
       "      <td>217.9</td>\n",
       "      <td>18.9</td>\n",
       "      <td>663.58</td>\n",
       "      <td>11.1</td>\n",
       "    </tr>\n",
       "  </tbody>\n",
       "</table>\n",
       "</div>"
      ],
      "text/plain": [
       "     datetime  tempmax  tempmin  temp   dew  humidity  precip  precipprob  \\\n",
       "0  2025-01-01     29.0     16.1  22.0  15.8      70.6     0.0           0   \n",
       "1  2025-01-02     30.8     14.9  22.1  13.6      63.1     0.0           0   \n",
       "2  2025-01-03     29.3     12.9  21.0  10.4      56.5     0.0           0   \n",
       "3  2025-01-04     29.8     11.2  20.0   8.6      51.8     0.0           0   \n",
       "4  2025-01-05     30.1     12.2  20.7  10.2      54.5     0.0           0   \n",
       "\n",
       "   precipcover  cloudcover  solarradiation  solarenergy  solartime  output  \n",
       "0          0.0         3.2           212.9         18.5     662.33    11.7  \n",
       "1          0.0         8.9           218.2         18.8     662.62    12.5  \n",
       "2          0.0        30.0           222.0         19.2     662.92    12.7  \n",
       "3          0.0         3.9           224.0         19.4     663.23    10.5  \n",
       "4          0.0        20.6           217.9         18.9     663.58    11.1  "
      ]
     },
     "execution_count": 7,
     "metadata": {},
     "output_type": "execute_result"
    }
   ],
   "source": [
    "data_df.head()"
   ]
  },
  {
   "cell_type": "code",
   "execution_count": 36,
   "id": "e385c071",
   "metadata": {},
   "outputs": [
    {
     "data": {
      "text/html": [
       "<div>\n",
       "<style scoped>\n",
       "    .dataframe tbody tr th:only-of-type {\n",
       "        vertical-align: middle;\n",
       "    }\n",
       "\n",
       "    .dataframe tbody tr th {\n",
       "        vertical-align: top;\n",
       "    }\n",
       "\n",
       "    .dataframe thead th {\n",
       "        text-align: right;\n",
       "    }\n",
       "</style>\n",
       "<table border=\"1\" class=\"dataframe\">\n",
       "  <thead>\n",
       "    <tr style=\"text-align: right;\">\n",
       "      <th></th>\n",
       "      <th>tempmax</th>\n",
       "      <th>tempmin</th>\n",
       "      <th>temp</th>\n",
       "      <th>dew</th>\n",
       "      <th>humidity</th>\n",
       "      <th>precip</th>\n",
       "      <th>precipprob</th>\n",
       "      <th>precipcover</th>\n",
       "      <th>cloudcover</th>\n",
       "      <th>solarradiation</th>\n",
       "      <th>solarenergy</th>\n",
       "      <th>solartime</th>\n",
       "      <th>output</th>\n",
       "    </tr>\n",
       "  </thead>\n",
       "  <tbody>\n",
       "    <tr>\n",
       "      <th>0</th>\n",
       "      <td>-1.403946</td>\n",
       "      <td>-0.829721</td>\n",
       "      <td>-1.376138</td>\n",
       "      <td>0.242118</td>\n",
       "      <td>1.004365</td>\n",
       "      <td>-0.293308</td>\n",
       "      <td>-0.6003</td>\n",
       "      <td>-0.451987</td>\n",
       "      <td>-0.883851</td>\n",
       "      <td>-0.680943</td>\n",
       "      <td>-0.651917</td>\n",
       "      <td>-1.509529</td>\n",
       "      <td>-0.281256</td>\n",
       "    </tr>\n",
       "    <tr>\n",
       "      <th>1</th>\n",
       "      <td>-0.916350</td>\n",
       "      <td>-1.188969</td>\n",
       "      <td>-1.340224</td>\n",
       "      <td>-0.316047</td>\n",
       "      <td>0.483319</td>\n",
       "      <td>-0.293308</td>\n",
       "      <td>-0.6003</td>\n",
       "      <td>-0.451987</td>\n",
       "      <td>-0.686336</td>\n",
       "      <td>-0.583275</td>\n",
       "      <td>-0.588037</td>\n",
       "      <td>-1.502480</td>\n",
       "      <td>-0.042159</td>\n",
       "    </tr>\n",
       "    <tr>\n",
       "      <th>2</th>\n",
       "      <td>-1.322680</td>\n",
       "      <td>-1.787716</td>\n",
       "      <td>-1.735276</td>\n",
       "      <td>-1.127923</td>\n",
       "      <td>0.024799</td>\n",
       "      <td>-0.293308</td>\n",
       "      <td>-0.6003</td>\n",
       "      <td>-0.451987</td>\n",
       "      <td>0.044818</td>\n",
       "      <td>-0.513248</td>\n",
       "      <td>-0.502863</td>\n",
       "      <td>-1.495189</td>\n",
       "      <td>0.017616</td>\n",
       "    </tr>\n",
       "    <tr>\n",
       "      <th>3</th>\n",
       "      <td>-1.187236</td>\n",
       "      <td>-2.296651</td>\n",
       "      <td>-2.094413</td>\n",
       "      <td>-1.584603</td>\n",
       "      <td>-0.301724</td>\n",
       "      <td>-0.293308</td>\n",
       "      <td>-0.6003</td>\n",
       "      <td>-0.451987</td>\n",
       "      <td>-0.859595</td>\n",
       "      <td>-0.476393</td>\n",
       "      <td>-0.460277</td>\n",
       "      <td>-1.487654</td>\n",
       "      <td>-0.639903</td>\n",
       "    </tr>\n",
       "    <tr>\n",
       "      <th>4</th>\n",
       "      <td>-1.105970</td>\n",
       "      <td>-1.997277</td>\n",
       "      <td>-1.843017</td>\n",
       "      <td>-1.178665</td>\n",
       "      <td>-0.114147</td>\n",
       "      <td>-0.293308</td>\n",
       "      <td>-0.6003</td>\n",
       "      <td>-0.451987</td>\n",
       "      <td>-0.280909</td>\n",
       "      <td>-0.588803</td>\n",
       "      <td>-0.566744</td>\n",
       "      <td>-1.479148</td>\n",
       "      <td>-0.460580</td>\n",
       "    </tr>\n",
       "  </tbody>\n",
       "</table>\n",
       "</div>"
      ],
      "text/plain": [
       "    tempmax   tempmin      temp       dew  humidity    precip  precipprob  \\\n",
       "0 -1.403946 -0.829721 -1.376138  0.242118  1.004365 -0.293308     -0.6003   \n",
       "1 -0.916350 -1.188969 -1.340224 -0.316047  0.483319 -0.293308     -0.6003   \n",
       "2 -1.322680 -1.787716 -1.735276 -1.127923  0.024799 -0.293308     -0.6003   \n",
       "3 -1.187236 -2.296651 -2.094413 -1.584603 -0.301724 -0.293308     -0.6003   \n",
       "4 -1.105970 -1.997277 -1.843017 -1.178665 -0.114147 -0.293308     -0.6003   \n",
       "\n",
       "   precipcover  cloudcover  solarradiation  solarenergy  solartime    output  \n",
       "0    -0.451987   -0.883851       -0.680943    -0.651917  -1.509529 -0.281256  \n",
       "1    -0.451987   -0.686336       -0.583275    -0.588037  -1.502480 -0.042159  \n",
       "2    -0.451987    0.044818       -0.513248    -0.502863  -1.495189  0.017616  \n",
       "3    -0.451987   -0.859595       -0.476393    -0.460277  -1.487654 -0.639903  \n",
       "4    -0.451987   -0.280909       -0.588803    -0.566744  -1.479148 -0.460580  "
      ]
     },
     "execution_count": 36,
     "metadata": {},
     "output_type": "execute_result"
    }
   ],
   "source": [
    "from sklearn.model_selection import train_test_split\n",
    "from sklearn.metrics import mean_squared_error, r2_score\n",
    "from sklearn.tree import DecisionTreeRegressor\n",
    "from sklearn.preprocessing import StandardScaler, PolynomialFeatures\n",
    "scaler = StandardScaler()\n",
    "numeric_cols = data_df.select_dtypes(include=[np.number]).columns\n",
    "data_df = data_df[numeric_cols]\n",
    "data_norm = pd.DataFrame(scaler.fit_transform(data_df), columns=data_df.columns)\n",
    "data_norm.head(5)"
   ]
  },
  {
   "cell_type": "code",
   "execution_count": 37,
   "id": "66f3cc47",
   "metadata": {},
   "outputs": [
    {
     "name": "stdout",
     "output_type": "stream",
     "text": [
      "X  (151, 12)\n",
      "y  (151,)\n",
      "X_train  (120, 12)\n",
      "y_train  (120,)\n"
     ]
    }
   ],
   "source": [
    "# Split data \n",
    "X = data_norm.drop('output', axis=1)\n",
    "y = data_norm['output']\n",
    "X_train, X_test, y_train, y_test = train_test_split(X, y, test_size=0.2, random_state=12)\n",
    "print( 'X ', X.shape)\n",
    "print( 'y ', y.shape)\n",
    "print( 'X_train ', X_train.shape)\n",
    "print( 'y_train ', y_train.shape)"
   ]
  },
  {
   "cell_type": "code",
   "execution_count": 38,
   "id": "6e876bd6",
   "metadata": {},
   "outputs": [],
   "source": [
    "def predict_and_eval(model, X_train, y_train, X_test, y_test):\n",
    "    y_train_pred = model.predict(X_train)\n",
    "    y_test_pred = model.predict(X_test)\n",
    "\n",
    "    tr_mse = mean_squared_error(y_train, y_train_pred)\n",
    "    tr_r2 = r2_score(y_train, y_train_pred)\n",
    "\n",
    "    mse = mean_squared_error(y_test, y_test_pred)\n",
    "    r2 = r2_score(y_test, y_test_pred)\n",
    "\n",
    "    print(f\"Train Mean Squared Error: {tr_mse}\")\n",
    "    print(f\"Train R-squared: {tr_r2}\")\n",
    "\n",
    "    print(f\"Test Mean Squared Error: {mse}\")\n",
    "    print(f\"Test R-squared: {r2}\")\n",
    "\n",
    "    metrics = {\n",
    "        'train_mse' : tr_mse,\n",
    "        'train_r2' : tr_r2,\n",
    "        'test_mse' : mse,\n",
    "        'test_r2' : r2\n",
    "        }\n",
    "\n",
    "    return metrics, y_train_pred, y_test_pred"
   ]
  },
  {
   "cell_type": "code",
   "execution_count": 39,
   "id": "9f0206fc",
   "metadata": {},
   "outputs": [
    {
     "name": "stdout",
     "output_type": "stream",
     "text": [
      "Train Mean Squared Error: 0.0\n",
      "Train R-squared: 1.0\n",
      "Test Mean Squared Error: 1.2653249371266673\n",
      "Test R-squared: -0.86717736294183\n"
     ]
    }
   ],
   "source": [
    "dt_reg = DecisionTreeRegressor(random_state=0)\n",
    "dt_reg.fit(X_train, y_train)\n",
    "\n",
    "dt_metrics, dt_y_train_pred, dt_y_test_pred = predict_and_eval(dt_reg, X_train, y_train, X_test, y_test)"
   ]
  },
  {
   "cell_type": "code",
   "execution_count": null,
   "id": "9ff739e5",
   "metadata": {},
   "outputs": [
    {
     "name": "stdout",
     "output_type": "stream",
     "text": [
      "depth:  12\n",
      "leaves:  113\n",
      "features:  12\n"
     ]
    }
   ],
   "source": [
    "# Tree details\n",
    "print ('depth: ', dt_reg.get_depth())\n",
    "print ('leaves: ',dt_reg.get_n_leaves())\n",
    "print ('features: ',dt_reg.max_features_)"
   ]
  },
  {
   "cell_type": "code",
   "execution_count": 42,
   "id": "2632a64d",
   "metadata": {},
   "outputs": [],
   "source": [
    "# It seems the the curren tree model have high bias(underfitting). Let's try adding more features using PolynomialFeatures\n",
    "poly = PolynomialFeatures(degree=2, include_bias=False, interaction_only=False)\n",
    "X_poly  = poly.fit_transform(X)\n",
    "X_poly_train, X_poly_test, y_poly_train, y_poly_test = train_test_split(X_poly, y, test_size=0.2, random_state=42)"
   ]
  },
  {
   "cell_type": "code",
   "execution_count": 46,
   "id": "b4dfb484",
   "metadata": {},
   "outputs": [
    {
     "name": "stdout",
     "output_type": "stream",
     "text": [
      "Train Mean Squared Error: 0.0\n",
      "Train R-squared: 1.0\n",
      "Test Mean Squared Error: 0.6484959587132004\n",
      "Test R-squared: 0.4247738871620673\n"
     ]
    }
   ],
   "source": [
    "dt_poly_reg = DecisionTreeRegressor(random_state=0)\n",
    "dt_poly_reg.fit(X_poly_train, y_poly_train)\n",
    "\n",
    "dt_poly_metrics, dt_poly_y_train_pred, dt_poly_y_test_pred = predict_and_eval(dt_poly_reg, X_poly_train, y_poly_train, X_poly_test, y_poly_test)"
   ]
  },
  {
   "cell_type": "code",
   "execution_count": 47,
   "id": "0de170ce",
   "metadata": {},
   "outputs": [
    {
     "name": "stdout",
     "output_type": "stream",
     "text": [
      "depth:  11\n",
      "leaves:  104\n",
      "features:  90\n"
     ]
    }
   ],
   "source": [
    "# Tree details\n",
    "print ('depth: ', dt_poly_reg.get_depth())\n",
    "print ('leaves: ',dt_poly_reg.get_n_leaves())\n",
    "print ('features: ',dt_poly_reg.max_features_)"
   ]
  },
  {
   "cell_type": "markdown",
   "id": "a8390631",
   "metadata": {},
   "source": [
    "### Observations\n",
    "1. Polynomial features significantly improved the R2 score \n",
    "2. At the same time, the training R2 score of 1 indicates overfitting\n",
    "\n",
    "To address this following variations with max_features, max_leaf nodes are performed."
   ]
  },
  {
   "cell_type": "code",
   "execution_count": 59,
   "id": "20bcf7c5",
   "metadata": {},
   "outputs": [
    {
     "name": "stdout",
     "output_type": "stream",
     "text": [
      "-- Decisions tree with max features :  20\n",
      "Train Mean Squared Error: 0.0\n",
      "Train R-squared: 1.0\n",
      "Test Mean Squared Error: 1.4804817541404178\n",
      "Test R-squared: -0.31321059617937363\n",
      "-- Decisions tree with max features :  40\n",
      "Train Mean Squared Error: 0.0\n",
      "Train R-squared: 1.0\n",
      "Test Mean Squared Error: 0.6340599649641862\n",
      "Test R-squared: 0.4375788406203366\n",
      "-- Decisions tree with max features :  60\n",
      "Train Mean Squared Error: 0.0\n",
      "Train R-squared: 1.0\n",
      "Test Mean Squared Error: 0.5888214216788523\n",
      "Test R-squared: 0.4777061398807805\n",
      "-- Decisions tree with max features :  80\n",
      "Train Mean Squared Error: 0.0\n",
      "Train R-squared: 1.0\n",
      "Test Mean Squared Error: 0.6101440471763984\n",
      "Test R-squared: 0.4587926357707621\n",
      "-- Decisions tree with max features :  100\n",
      "Train Mean Squared Error: 0.0\n",
      "Train R-squared: 1.0\n",
      "Test Mean Squared Error: 0.6484959587132004\n",
      "Test R-squared: 0.4247738871620673\n",
      "-- Decisions tree with max features :  120\n",
      "Train Mean Squared Error: 0.0\n",
      "Train R-squared: 1.0\n",
      "Test Mean Squared Error: 0.6484959587132004\n",
      "Test R-squared: 0.4247738871620673\n"
     ]
    }
   ],
   "source": [
    "feature_cnts = [20, 40, 60, 80, 100, 120]\n",
    "dt_f_metrics = []\n",
    "for fcnt in feature_cnts:\n",
    "    print('-- Decisions tree with max features : ', fcnt)\n",
    "    dt_poly_reg_f = DecisionTreeRegressor(random_state=0, max_features=fcnt)\n",
    "    dt_poly_reg_f.fit(X_poly_train, y_poly_train)\n",
    "\n",
    "    dt_poly_metrics_f, dt_poly_y_train_pred_f, dt_poly_y_test_pred_f = predict_and_eval(dt_poly_reg_f, X_poly_train, y_poly_train, X_poly_test, y_poly_test)\n",
    "    dt_poly_metrics_f['features'] = fcnt\n",
    "    dt_f_metrics.append(dt_poly_metrics_f)"
   ]
  },
  {
   "cell_type": "code",
   "execution_count": 60,
   "id": "1f1315ff",
   "metadata": {},
   "outputs": [
    {
     "data": {
      "text/html": [
       "<div>\n",
       "<style scoped>\n",
       "    .dataframe tbody tr th:only-of-type {\n",
       "        vertical-align: middle;\n",
       "    }\n",
       "\n",
       "    .dataframe tbody tr th {\n",
       "        vertical-align: top;\n",
       "    }\n",
       "\n",
       "    .dataframe thead th {\n",
       "        text-align: right;\n",
       "    }\n",
       "</style>\n",
       "<table border=\"1\" class=\"dataframe\">\n",
       "  <thead>\n",
       "    <tr style=\"text-align: right;\">\n",
       "      <th></th>\n",
       "      <th>train_mse</th>\n",
       "      <th>train_r2</th>\n",
       "      <th>test_mse</th>\n",
       "      <th>test_r2</th>\n",
       "      <th>features</th>\n",
       "    </tr>\n",
       "  </thead>\n",
       "  <tbody>\n",
       "    <tr>\n",
       "      <th>0</th>\n",
       "      <td>0.0</td>\n",
       "      <td>1.0</td>\n",
       "      <td>1.480482</td>\n",
       "      <td>-0.313211</td>\n",
       "      <td>20</td>\n",
       "    </tr>\n",
       "    <tr>\n",
       "      <th>1</th>\n",
       "      <td>0.0</td>\n",
       "      <td>1.0</td>\n",
       "      <td>0.634060</td>\n",
       "      <td>0.437579</td>\n",
       "      <td>40</td>\n",
       "    </tr>\n",
       "    <tr>\n",
       "      <th>2</th>\n",
       "      <td>0.0</td>\n",
       "      <td>1.0</td>\n",
       "      <td>0.588821</td>\n",
       "      <td>0.477706</td>\n",
       "      <td>60</td>\n",
       "    </tr>\n",
       "    <tr>\n",
       "      <th>3</th>\n",
       "      <td>0.0</td>\n",
       "      <td>1.0</td>\n",
       "      <td>0.610144</td>\n",
       "      <td>0.458793</td>\n",
       "      <td>80</td>\n",
       "    </tr>\n",
       "    <tr>\n",
       "      <th>4</th>\n",
       "      <td>0.0</td>\n",
       "      <td>1.0</td>\n",
       "      <td>0.648496</td>\n",
       "      <td>0.424774</td>\n",
       "      <td>100</td>\n",
       "    </tr>\n",
       "  </tbody>\n",
       "</table>\n",
       "</div>"
      ],
      "text/plain": [
       "   train_mse  train_r2  test_mse   test_r2  features\n",
       "0        0.0       1.0  1.480482 -0.313211        20\n",
       "1        0.0       1.0  0.634060  0.437579        40\n",
       "2        0.0       1.0  0.588821  0.477706        60\n",
       "3        0.0       1.0  0.610144  0.458793        80\n",
       "4        0.0       1.0  0.648496  0.424774       100"
      ]
     },
     "execution_count": 60,
     "metadata": {},
     "output_type": "execute_result"
    }
   ],
   "source": [
    "f_metrics_df = pd.DataFrame(dt_f_metrics)\n",
    "f_metrics_df.head()"
   ]
  },
  {
   "cell_type": "code",
   "execution_count": 61,
   "id": "2a77163b",
   "metadata": {},
   "outputs": [
    {
     "data": {
      "image/png": "[encoded data removed]",
      "text/plain": [
       "<Figure size 1200x600 with 1 Axes>"
      ]
     },
     "metadata": {},
     "output_type": "display_data"
    }
   ],
   "source": [
    "# Scatter plot of R2 scores for training and test datasets as alpha varies\n",
    "plt.scatter(x=f_metrics_df['features'], y=f_metrics_df['train_r2'], c='blue')\n",
    "plt.scatter(x=f_metrics_df['features'], y=f_metrics_df['test_r2'], c='green')\n",
    "plt.xticks(rotation=90)\n",
    "plt.title('R2 scores vs Decision Tree max_features - Training R2(blue) and Test R2(green)')\n",
    "plt.show()"
   ]
  },
  {
   "cell_type": "markdown",
   "id": "de5c1054",
   "metadata": {},
   "source": [
    "- In all variations training R2 score indicates overfitting\n",
    "- The test R2 score however peaks around 0.47 (`max_features` = 60) before delicing with increasing number of features\n",
    "\n",
    "Let's try other tuning another hyper parameters namely `max_depth`"
   ]
  },
  {
   "cell_type": "code",
   "execution_count": 63,
   "id": "2cabb3fd",
   "metadata": {},
   "outputs": [
    {
     "name": "stdout",
     "output_type": "stream",
     "text": [
      "-- Decisions tree with max depth :  4\n",
      "Train Mean Squared Error: 0.12874804985762398\n",
      "Train R-squared: 0.8660424287381311\n",
      "Test Mean Squared Error: 0.8782328805119833\n",
      "Test R-squared: 0.22099362496291597\n",
      "-- Decisions tree with max depth :  8\n",
      "Train Mean Squared Error: 0.006988703755944185\n",
      "Train R-squared: 0.9927285129176693\n",
      "Test Mean Squared Error: 0.6979897091485975\n",
      "Test R-squared: 0.380872152247301\n",
      "-- Decisions tree with max depth :  12\n",
      "Train Mean Squared Error: 1.9849891604322215e-05\n",
      "Train R-squared: 0.999979346923918\n",
      "Test Mean Squared Error: 0.6217162138221759\n",
      "Test R-squared: 0.44852794198612855\n",
      "-- Decisions tree with max depth :  16\n",
      "Train Mean Squared Error: 0.0\n",
      "Train R-squared: 1.0\n",
      "Test Mean Squared Error: 0.5888214216788523\n",
      "Test R-squared: 0.4777061398807805\n",
      "-- Decisions tree with max depth :  20\n",
      "Train Mean Squared Error: 0.0\n",
      "Train R-squared: 1.0\n",
      "Test Mean Squared Error: 0.5888214216788523\n",
      "Test R-squared: 0.4777061398807805\n",
      "-- Decisions tree with max depth :  24\n",
      "Train Mean Squared Error: 0.0\n",
      "Train R-squared: 1.0\n",
      "Test Mean Squared Error: 0.5888214216788523\n",
      "Test R-squared: 0.4777061398807805\n",
      "-- Decisions tree with max depth :  28\n",
      "Train Mean Squared Error: 0.0\n",
      "Train R-squared: 1.0\n",
      "Test Mean Squared Error: 0.5888214216788523\n",
      "Test R-squared: 0.4777061398807805\n",
      "-- Decisions tree with max depth :  32\n",
      "Train Mean Squared Error: 0.0\n",
      "Train R-squared: 1.0\n",
      "Test Mean Squared Error: 0.5888214216788523\n",
      "Test R-squared: 0.4777061398807805\n"
     ]
    }
   ],
   "source": [
    "depth_cnts = [4, 8, 12, 16, 20, 24, 28, 32]\n",
    "dt_d_metrics = []\n",
    "for fcnt in depth_cnts:\n",
    "    print('-- Decisions tree with max depth : ', fcnt)\n",
    "    dt_poly_reg_f = DecisionTreeRegressor(random_state=0, max_features=60, max_depth=fcnt)\n",
    "    dt_poly_reg_f.fit(X_poly_train, y_poly_train)\n",
    "\n",
    "    dt_poly_metrics_f, dt_poly_y_train_pred_f, dt_poly_y_test_pred_f = predict_and_eval(dt_poly_reg_f, X_poly_train, y_poly_train, X_poly_test, y_poly_test)\n",
    "    dt_poly_metrics_f['max_depth'] = fcnt\n",
    "    dt_d_metrics.append(dt_poly_metrics_f)"
   ]
  },
  {
   "cell_type": "code",
   "execution_count": 64,
   "id": "0ca2cb8d",
   "metadata": {},
   "outputs": [
    {
     "data": {
      "text/html": [
       "<div>\n",
       "<style scoped>\n",
       "    .dataframe tbody tr th:only-of-type {\n",
       "        vertical-align: middle;\n",
       "    }\n",
       "\n",
       "    .dataframe tbody tr th {\n",
       "        vertical-align: top;\n",
       "    }\n",
       "\n",
       "    .dataframe thead th {\n",
       "        text-align: right;\n",
       "    }\n",
       "</style>\n",
       "<table border=\"1\" class=\"dataframe\">\n",
       "  <thead>\n",
       "    <tr style=\"text-align: right;\">\n",
       "      <th></th>\n",
       "      <th>train_mse</th>\n",
       "      <th>train_r2</th>\n",
       "      <th>test_mse</th>\n",
       "      <th>test_r2</th>\n",
       "      <th>max_depth</th>\n",
       "    </tr>\n",
       "  </thead>\n",
       "  <tbody>\n",
       "    <tr>\n",
       "      <th>0</th>\n",
       "      <td>0.128748</td>\n",
       "      <td>0.866042</td>\n",
       "      <td>0.878233</td>\n",
       "      <td>0.220994</td>\n",
       "      <td>4</td>\n",
       "    </tr>\n",
       "    <tr>\n",
       "      <th>1</th>\n",
       "      <td>0.006989</td>\n",
       "      <td>0.992729</td>\n",
       "      <td>0.697990</td>\n",
       "      <td>0.380872</td>\n",
       "      <td>8</td>\n",
       "    </tr>\n",
       "    <tr>\n",
       "      <th>2</th>\n",
       "      <td>0.000020</td>\n",
       "      <td>0.999979</td>\n",
       "      <td>0.621716</td>\n",
       "      <td>0.448528</td>\n",
       "      <td>12</td>\n",
       "    </tr>\n",
       "    <tr>\n",
       "      <th>3</th>\n",
       "      <td>0.000000</td>\n",
       "      <td>1.000000</td>\n",
       "      <td>0.588821</td>\n",
       "      <td>0.477706</td>\n",
       "      <td>16</td>\n",
       "    </tr>\n",
       "    <tr>\n",
       "      <th>4</th>\n",
       "      <td>0.000000</td>\n",
       "      <td>1.000000</td>\n",
       "      <td>0.588821</td>\n",
       "      <td>0.477706</td>\n",
       "      <td>20</td>\n",
       "    </tr>\n",
       "  </tbody>\n",
       "</table>\n",
       "</div>"
      ],
      "text/plain": [
       "   train_mse  train_r2  test_mse   test_r2  max_depth\n",
       "0   0.128748  0.866042  0.878233  0.220994          4\n",
       "1   0.006989  0.992729  0.697990  0.380872          8\n",
       "2   0.000020  0.999979  0.621716  0.448528         12\n",
       "3   0.000000  1.000000  0.588821  0.477706         16\n",
       "4   0.000000  1.000000  0.588821  0.477706         20"
      ]
     },
     "execution_count": 64,
     "metadata": {},
     "output_type": "execute_result"
    }
   ],
   "source": [
    "d_metrics_df = pd.DataFrame(dt_d_metrics)\n",
    "d_metrics_df.head()"
   ]
  },
  {
   "cell_type": "code",
   "execution_count": 65,
   "id": "c7f3c73a",
   "metadata": {},
   "outputs": [
    {
     "data": {
      "image/png": "[encoded data removed]",
      "text/plain": [
       "<Figure size 1200x600 with 1 Axes>"
      ]
     },
     "metadata": {},
     "output_type": "display_data"
    }
   ],
   "source": [
    "# Scatter plot of R2 scores for training and test datasets as alpha varies\n",
    "plt.scatter(x=d_metrics_df['max_depth'], y=d_metrics_df['train_r2'], c='blue')\n",
    "plt.scatter(x=d_metrics_df['max_depth'], y=d_metrics_df['test_r2'], c='green')\n",
    "plt.xticks(rotation=90)\n",
    "plt.title('R2 scores vs Decision Tree max_depth - Training R2(blue) and Test R2(green)')\n",
    "plt.show()"
   ]
  },
  {
   "cell_type": "markdown",
   "id": "b203aa6b",
   "metadata": {},
   "source": [
    "- In the variatiions once `max_depth` reaches 8, training R2 score indicates overfitting\n",
    "- The test R2 score however peaks around 0.47 (max_depth >= 14) and stagnates with increasing number of max_depth\n",
    "\n",
    "Let's try varying number of leaf nodes"
   ]
  },
  {
   "cell_type": "code",
   "execution_count": 72,
   "id": "83bc956f",
   "metadata": {},
   "outputs": [
    {
     "name": "stdout",
     "output_type": "stream",
     "text": [
      "-- Decisions tree with max leaf nodes :  5\n",
      "Train Mean Squared Error: 0.3067269866232405\n",
      "Train R-squared: 0.6808619453734743\n",
      "Test Mean Squared Error: 0.47468411974210906\n",
      "Test R-squared: 0.57894772148317\n",
      "-- Decisions tree with max leaf nodes :  10\n",
      "Train Mean Squared Error: 0.13046175841177282\n",
      "Train R-squared: 0.8642593785403352\n",
      "Test Mean Squared Error: 0.45931028364719767\n",
      "Test R-squared: 0.5925845558496189\n",
      "-- Decisions tree with max leaf nodes :  15\n",
      "Train Mean Squared Error: 0.07447361269484849\n",
      "Train R-squared: 0.9225129678412117\n",
      "Test Mean Squared Error: 0.5531640475791546\n",
      "Test R-squared: 0.5093347914117428\n",
      "-- Decisions tree with max leaf nodes :  20\n",
      "Train Mean Squared Error: 0.04233080728179237\n",
      "Train R-squared: 0.9559563648591657\n",
      "Test Mean Squared Error: 0.5804001919032903\n",
      "Test R-squared: 0.48517590311372916\n",
      "-- Decisions tree with max leaf nodes :  25\n",
      "Train Mean Squared Error: 0.02352739502728407\n",
      "Train R-squared: 0.9755206179863787\n",
      "Test Mean Squared Error: 0.6312545513006959\n",
      "Test R-squared: 0.4400672866543782\n",
      "-- Decisions tree with max leaf nodes :  30\n",
      "Train Mean Squared Error: 0.014880419621051045\n",
      "Train R-squared: 0.9845174752239138\n",
      "Test Mean Squared Error: 0.6392292905505006\n",
      "Test R-squared: 0.43299356753874374\n",
      "-- Decisions tree with max leaf nodes :  35\n",
      "Train Mean Squared Error: 0.00933076211395019\n",
      "Train R-squared: 0.9902916880512811\n",
      "Test Mean Squared Error: 0.6496376052251926\n",
      "Test R-squared: 0.42376122875378464\n",
      "-- Decisions tree with max leaf nodes :  40\n",
      "Train Mean Squared Error: 0.006347428195302059\n",
      "Train R-squared: 0.9933957363568453\n",
      "Test Mean Squared Error: 0.6759451999217211\n",
      "Test R-squared: 0.4004259785767016\n",
      "-- Decisions tree with max leaf nodes :  45\n",
      "Train Mean Squared Error: 0.004721039732884185\n",
      "Train R-squared: 0.9950879332374564\n",
      "Test Mean Squared Error: 0.6794398773905131\n",
      "Test R-squared: 0.3973261447088323\n",
      "-- Decisions tree with max leaf nodes :  50\n",
      "Train Mean Squared Error: 0.003272928109437632\n",
      "Train R-squared: 0.9965946396785054\n",
      "Test Mean Squared Error: 0.6708723079965973\n",
      "Test R-squared: 0.40492571348441964\n"
     ]
    }
   ],
   "source": [
    "ln_cnts = [5, 10, 15, 20, 25, 30, 35, 40, 45, 50]\n",
    "dt_ln_metrics = []\n",
    "for fcnt in ln_cnts:\n",
    "    print('-- Decisions tree with max leaf nodes : ', fcnt)\n",
    "    dt_poly_reg_f = DecisionTreeRegressor(random_state=0, max_features=60, max_depth=16, max_leaf_nodes=fcnt)\n",
    "    dt_poly_reg_f.fit(X_poly_train, y_poly_train)\n",
    "\n",
    "    dt_poly_metrics_f, dt_poly_y_train_pred_f, dt_poly_y_test_pred_f = predict_and_eval(dt_poly_reg_f, X_poly_train, y_poly_train, X_poly_test, y_poly_test)\n",
    "    dt_poly_metrics_f['max_ln'] = fcnt\n",
    "    dt_ln_metrics.append(dt_poly_metrics_f)"
   ]
  },
  {
   "cell_type": "code",
   "execution_count": 73,
   "id": "b795e790",
   "metadata": {},
   "outputs": [
    {
     "data": {
      "text/html": [
       "<div>\n",
       "<style scoped>\n",
       "    .dataframe tbody tr th:only-of-type {\n",
       "        vertical-align: middle;\n",
       "    }\n",
       "\n",
       "    .dataframe tbody tr th {\n",
       "        vertical-align: top;\n",
       "    }\n",
       "\n",
       "    .dataframe thead th {\n",
       "        text-align: right;\n",
       "    }\n",
       "</style>\n",
       "<table border=\"1\" class=\"dataframe\">\n",
       "  <thead>\n",
       "    <tr style=\"text-align: right;\">\n",
       "      <th></th>\n",
       "      <th>train_mse</th>\n",
       "      <th>train_r2</th>\n",
       "      <th>test_mse</th>\n",
       "      <th>test_r2</th>\n",
       "      <th>max_ln</th>\n",
       "    </tr>\n",
       "  </thead>\n",
       "  <tbody>\n",
       "    <tr>\n",
       "      <th>0</th>\n",
       "      <td>0.306727</td>\n",
       "      <td>0.680862</td>\n",
       "      <td>0.474684</td>\n",
       "      <td>0.578948</td>\n",
       "      <td>5</td>\n",
       "    </tr>\n",
       "    <tr>\n",
       "      <th>1</th>\n",
       "      <td>0.130462</td>\n",
       "      <td>0.864259</td>\n",
       "      <td>0.459310</td>\n",
       "      <td>0.592585</td>\n",
       "      <td>10</td>\n",
       "    </tr>\n",
       "    <tr>\n",
       "      <th>2</th>\n",
       "      <td>0.074474</td>\n",
       "      <td>0.922513</td>\n",
       "      <td>0.553164</td>\n",
       "      <td>0.509335</td>\n",
       "      <td>15</td>\n",
       "    </tr>\n",
       "    <tr>\n",
       "      <th>3</th>\n",
       "      <td>0.042331</td>\n",
       "      <td>0.955956</td>\n",
       "      <td>0.580400</td>\n",
       "      <td>0.485176</td>\n",
       "      <td>20</td>\n",
       "    </tr>\n",
       "    <tr>\n",
       "      <th>4</th>\n",
       "      <td>0.023527</td>\n",
       "      <td>0.975521</td>\n",
       "      <td>0.631255</td>\n",
       "      <td>0.440067</td>\n",
       "      <td>25</td>\n",
       "    </tr>\n",
       "  </tbody>\n",
       "</table>\n",
       "</div>"
      ],
      "text/plain": [
       "   train_mse  train_r2  test_mse   test_r2  max_ln\n",
       "0   0.306727  0.680862  0.474684  0.578948       5\n",
       "1   0.130462  0.864259  0.459310  0.592585      10\n",
       "2   0.074474  0.922513  0.553164  0.509335      15\n",
       "3   0.042331  0.955956  0.580400  0.485176      20\n",
       "4   0.023527  0.975521  0.631255  0.440067      25"
      ]
     },
     "execution_count": 73,
     "metadata": {},
     "output_type": "execute_result"
    }
   ],
   "source": [
    "ln_metrics_df = pd.DataFrame(dt_ln_metrics)\n",
    "ln_metrics_df.head()"
   ]
  },
  {
   "cell_type": "code",
   "execution_count": 74,
   "id": "a11823b3",
   "metadata": {},
   "outputs": [
    {
     "data": {
      "image/png": "[encoded data removed]",
      "text/plain": [
       "<Figure size 1200x600 with 1 Axes>"
      ]
     },
     "metadata": {},
     "output_type": "display_data"
    }
   ],
   "source": [
    "# Scatter plot of R2 scores for training and test datasets as alpha varies\n",
    "plt.scatter(x=ln_metrics_df['max_ln'], y=ln_metrics_df['train_r2'], c='blue')\n",
    "plt.scatter(x=ln_metrics_df['max_ln'], y=ln_metrics_df['test_r2'], c='green')\n",
    "plt.xticks(rotation=90)\n",
    "plt.title('R2 scores vs Decision Tree max_leaf_nodes - Training R2(blue) and Test R2(green)')\n",
    "plt.show()"
   ]
  },
  {
   "cell_type": "markdown",
   "id": "914a4cf7",
   "metadata": {},
   "source": [
    "- In the variations, once `max_leaf_nodes` crosses 25, training R2 score indicates overfitting\n",
    "- The model with `max_leaf_count` = 10 could be more generalized as it shows training R2 = 0.86 and testing R2 = 0.6\n",
    "- The test R2 score however peaks at 0.6 (max_leaf_nodes = 10) and declines gradually towards 0.5\n"
   ]
  },
  {
   "cell_type": "code",
   "execution_count": 84,
   "id": "34a94072",
   "metadata": {},
   "outputs": [
    {
     "name": "stdout",
     "output_type": "stream",
     "text": [
      "-- Decisions tree with min samples leaf nodes :  1\n",
      "Train Mean Squared Error: 0.13046175841177282\n",
      "Train R-squared: 0.8642593785403352\n",
      "Test Mean Squared Error: 0.45931028364719767\n",
      "Test R-squared: 0.5925845558496189\n",
      "-- Decisions tree with min samples leaf nodes :  2\n",
      "Train Mean Squared Error: 0.14412092371805604\n",
      "Train R-squared: 0.8500475235886097\n",
      "Test Mean Squared Error: 1.0391502136662585\n",
      "Test R-squared: 0.07825742006465708\n",
      "-- Decisions tree with min samples leaf nodes :  3\n",
      "Train Mean Squared Error: 0.15819812048076526\n",
      "Train R-squared: 0.8354007224091485\n",
      "Test Mean Squared Error: 0.49657104387425377\n",
      "Test R-squared: 0.559533675610788\n",
      "-- Decisions tree with min samples leaf nodes :  4\n",
      "Train Mean Squared Error: 0.16828551682684517\n",
      "Train R-squared: 0.8249051606016413\n",
      "Test Mean Squared Error: 0.5580032957693092\n",
      "Test R-squared: 0.5050423021709398\n",
      "-- Decisions tree with min samples leaf nodes :  5\n",
      "Train Mean Squared Error: 0.1912190556906387\n",
      "Train R-squared: 0.8010436639030057\n",
      "Test Mean Squared Error: 0.7148532029337664\n",
      "Test R-squared: 0.3659139680850473\n",
      "-- Decisions tree with min samples leaf nodes :  6\n",
      "Train Mean Squared Error: 0.22742193692027027\n",
      "Train R-squared: 0.7633759085656135\n",
      "Test Mean Squared Error: 0.7089244574630033\n",
      "Test R-squared: 0.37117285854586013\n",
      "-- Decisions tree with min samples leaf nodes :  7\n",
      "Train Mean Squared Error: 0.2685426591354367\n",
      "Train R-squared: 0.7205913220606595\n",
      "Test Mean Squared Error: 0.9164625747070447\n",
      "Test R-squared: 0.1870832850581865\n",
      "-- Decisions tree with min samples leaf nodes :  8\n",
      "Train Mean Squared Error: 0.3029166064524248\n",
      "Train R-squared: 0.6848265046334501\n",
      "Test Mean Squared Error: 0.7134206269288356\n",
      "Test R-squared: 0.36718468552837014\n",
      "-- Decisions tree with min samples leaf nodes :  9\n",
      "Train Mean Squared Error: 0.28829335242677084\n",
      "Train R-squared: 0.7000414581444989\n",
      "Test Mean Squared Error: 0.5941368129861032\n",
      "Test R-squared: 0.47299130420786517\n"
     ]
    }
   ],
   "source": [
    "# min_samples_leaf\n",
    "msl_cnts = [2, 4, 6, 8, 10, 12]\n",
    "dt_msl_metrics = []\n",
    "for fcnt in range(1, 10, 1):\n",
    "    print('-- Decisions tree with min samples leaf nodes : ', fcnt)\n",
    "    dt_poly_reg_f = DecisionTreeRegressor(random_state=0, max_features=60, max_depth=16, max_leaf_nodes=10, min_samples_leaf=fcnt)\n",
    "    dt_poly_reg_f.fit(X_poly_train, y_poly_train)\n",
    "\n",
    "    dt_poly_metrics_f, dt_poly_y_train_pred_f, dt_poly_y_test_pred_f = predict_and_eval(dt_poly_reg_f, X_poly_train, y_poly_train, X_poly_test, y_poly_test)\n",
    "    dt_poly_metrics_f['min_sl'] = fcnt\n",
    "    dt_msl_metrics.append(dt_poly_metrics_f)"
   ]
  },
  {
   "cell_type": "code",
   "execution_count": 85,
   "id": "e213627f",
   "metadata": {},
   "outputs": [
    {
     "data": {
      "text/html": [
       "<div>\n",
       "<style scoped>\n",
       "    .dataframe tbody tr th:only-of-type {\n",
       "        vertical-align: middle;\n",
       "    }\n",
       "\n",
       "    .dataframe tbody tr th {\n",
       "        vertical-align: top;\n",
       "    }\n",
       "\n",
       "    .dataframe thead th {\n",
       "        text-align: right;\n",
       "    }\n",
       "</style>\n",
       "<table border=\"1\" class=\"dataframe\">\n",
       "  <thead>\n",
       "    <tr style=\"text-align: right;\">\n",
       "      <th></th>\n",
       "      <th>train_mse</th>\n",
       "      <th>train_r2</th>\n",
       "      <th>test_mse</th>\n",
       "      <th>test_r2</th>\n",
       "      <th>min_sl</th>\n",
       "    </tr>\n",
       "  </thead>\n",
       "  <tbody>\n",
       "    <tr>\n",
       "      <th>0</th>\n",
       "      <td>0.130462</td>\n",
       "      <td>0.864259</td>\n",
       "      <td>0.459310</td>\n",
       "      <td>0.592585</td>\n",
       "      <td>1</td>\n",
       "    </tr>\n",
       "    <tr>\n",
       "      <th>1</th>\n",
       "      <td>0.144121</td>\n",
       "      <td>0.850048</td>\n",
       "      <td>1.039150</td>\n",
       "      <td>0.078257</td>\n",
       "      <td>2</td>\n",
       "    </tr>\n",
       "    <tr>\n",
       "      <th>2</th>\n",
       "      <td>0.158198</td>\n",
       "      <td>0.835401</td>\n",
       "      <td>0.496571</td>\n",
       "      <td>0.559534</td>\n",
       "      <td>3</td>\n",
       "    </tr>\n",
       "    <tr>\n",
       "      <th>3</th>\n",
       "      <td>0.168286</td>\n",
       "      <td>0.824905</td>\n",
       "      <td>0.558003</td>\n",
       "      <td>0.505042</td>\n",
       "      <td>4</td>\n",
       "    </tr>\n",
       "    <tr>\n",
       "      <th>4</th>\n",
       "      <td>0.191219</td>\n",
       "      <td>0.801044</td>\n",
       "      <td>0.714853</td>\n",
       "      <td>0.365914</td>\n",
       "      <td>5</td>\n",
       "    </tr>\n",
       "  </tbody>\n",
       "</table>\n",
       "</div>"
      ],
      "text/plain": [
       "   train_mse  train_r2  test_mse   test_r2  min_sl\n",
       "0   0.130462  0.864259  0.459310  0.592585       1\n",
       "1   0.144121  0.850048  1.039150  0.078257       2\n",
       "2   0.158198  0.835401  0.496571  0.559534       3\n",
       "3   0.168286  0.824905  0.558003  0.505042       4\n",
       "4   0.191219  0.801044  0.714853  0.365914       5"
      ]
     },
     "execution_count": 85,
     "metadata": {},
     "output_type": "execute_result"
    }
   ],
   "source": [
    "msl_metrics_df = pd.DataFrame(dt_msl_metrics)\n",
    "msl_metrics_df.head()"
   ]
  },
  {
   "cell_type": "code",
   "execution_count": 86,
   "id": "d18d6248",
   "metadata": {},
   "outputs": [
    {
     "data": {
      "image/png": "[encoded data removed]",
      "text/plain": [
       "<Figure size 1200x600 with 1 Axes>"
      ]
     },
     "metadata": {},
     "output_type": "display_data"
    }
   ],
   "source": [
    "# Scatter plot of R2 scores for training and test datasets as alpha varies\n",
    "plt.scatter(x=msl_metrics_df['min_sl'], y=msl_metrics_df['train_r2'], c='blue')\n",
    "plt.scatter(x=msl_metrics_df['min_sl'], y=msl_metrics_df['test_r2'], c='green')\n",
    "plt.xticks(rotation=90)\n",
    "plt.title('R2 scores vs Decision Tree min_samples_leaf - Training R2(blue) and Test R2(green)')\n",
    "plt.show()"
   ]
  },
  {
   "cell_type": "markdown",
   "id": "228669f0",
   "metadata": {},
   "source": [
    "- Any `max_leaf_nodes` count > 1 shows reduced R2 score for both training and test data. Hence changing the default value of 1 doesn't improve the accuracy."
   ]
  },
  {
   "cell_type": "code",
   "execution_count": 87,
   "id": "7d0ba09c",
   "metadata": {},
   "outputs": [
    {
     "name": "stdout",
     "output_type": "stream",
     "text": [
      "Train Mean Squared Error: 0.13046175841177282\n",
      "Train R-squared: 0.8642593785403352\n",
      "Test Mean Squared Error: 0.45931028364719767\n",
      "Test R-squared: 0.5925845558496189\n"
     ]
    }
   ],
   "source": [
    "# A final DT regressor test with optimal hyper parameters\n",
    "dt_poly_reg_ = DecisionTreeRegressor(random_state=0, max_features=60, max_depth=16, max_leaf_nodes=10)\n",
    "dt_poly_reg_.fit(X_poly_train, y_poly_train)\n",
    "\n",
    "dt_poly_metrics_, dt_poly_y_train_pred, dt_poly_y_test_pred = predict_and_eval(dt_poly_reg_, X_poly_train, y_poly_train, X_poly_test, y_poly_test)"
   ]
  },
  {
   "cell_type": "code",
   "execution_count": 88,
   "id": "1e24c8b1",
   "metadata": {},
   "outputs": [
    {
     "name": "stdout",
     "output_type": "stream",
     "text": [
      "depth:  6\n",
      "leaves:  10\n",
      "features:  60\n"
     ]
    }
   ],
   "source": [
    "# Tree details\n",
    "print ('depth: ', dt_poly_reg_.get_depth())\n",
    "print ('leaves: ',dt_poly_reg_.get_n_leaves())\n",
    "print ('features: ',dt_poly_reg_.max_features_)"
   ]
  }
 ],
 "metadata": {
  "kernelspec": {
   "display_name": "py3env",
   "language": "python",
   "name": "python3"
  },
  "language_info": {
   "codemirror_mode": {
    "name": "ipython",
    "version": 3
   },
   "file_extension": ".py",
   "mimetype": "text/x-python",
   "name": "python",
   "nbconvert_exporter": "python",
   "pygments_lexer": "ipython3",
   "version": "3.9.6"
  }
 },
 "nbformat": 4,
 "nbformat_minor": 5
}
