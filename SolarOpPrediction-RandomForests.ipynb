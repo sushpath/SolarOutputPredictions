{
 "cells": [
  {
   "cell_type": "code",
   "execution_count": 1,
   "id": "c31a83b2",
   "metadata": {},
   "outputs": [],
   "source": [
    "import pandas as pd\n",
    "import numpy as np\n",
    "import matplotlib.pyplot as plt\n",
    "from matplotlib import rcParams\n",
    "# apply some styling\n",
    "plt.style.use(\"ggplot\")\n",
    "rcParams['figure.figsize'] = (12, 6)"
   ]
  },
  {
   "cell_type": "code",
   "execution_count": 2,
   "id": "842a9fb0",
   "metadata": {},
   "outputs": [
    {
     "name": "stderr",
     "output_type": "stream",
     "text": [
      "/var/folders/zh/nt4cvtjd1bl_ntm3_d6kztf40000gn/T/ipykernel_44386/720678684.py:12: SettingWithCopyWarning: \n",
      "A value is trying to be set on a copy of a slice from a DataFrame\n",
      "\n",
      "See the caveats in the documentation: https://pandas.pydata.org/pandas-docs/stable/user_guide/indexing.html#returning-a-view-versus-a-copy\n",
      "  data_df.drop(data_df.columns[0], axis=1, inplace=True)\n"
     ]
    }
   ],
   "source": [
    "weather_df = pd.read_csv('cleaned_weather.csv')\n",
    "# read the solar plant generation data\n",
    "solar_df = pd.read_csv('plant_output.csv')\n",
    "# drop unused columns\n",
    "solar_df = solar_df.drop(['Plant', 'Real-time power(kW)', 'Daily feed-in energy(kWh)', 'Energy purchased today(kWh)'], axis=1)\n",
    "\n",
    "# Both weather and solar df are date aligned\n",
    "data_df = weather_df\n",
    "data_df['output'] = solar_df['Daily yield(kWh)']\n",
    "# Remove entries with known 0 output\n",
    "data_df = data_df[~(data_df['output'] == 0)]\n",
    "data_df.drop(data_df.columns[0], axis=1, inplace=True)"
   ]
  },
  {
   "cell_type": "code",
   "execution_count": 3,
   "id": "19d38ea3",
   "metadata": {},
   "outputs": [
    {
     "data": {
      "text/html": [
       "<div>\n",
       "<style scoped>\n",
       "    .dataframe tbody tr th:only-of-type {\n",
       "        vertical-align: middle;\n",
       "    }\n",
       "\n",
       "    .dataframe tbody tr th {\n",
       "        vertical-align: top;\n",
       "    }\n",
       "\n",
       "    .dataframe thead th {\n",
       "        text-align: right;\n",
       "    }\n",
       "</style>\n",
       "<table border=\"1\" class=\"dataframe\">\n",
       "  <thead>\n",
       "    <tr style=\"text-align: right;\">\n",
       "      <th></th>\n",
       "      <th>tempmax</th>\n",
       "      <th>tempmin</th>\n",
       "      <th>temp</th>\n",
       "      <th>dew</th>\n",
       "      <th>humidity</th>\n",
       "      <th>precip</th>\n",
       "      <th>precipprob</th>\n",
       "      <th>precipcover</th>\n",
       "      <th>cloudcover</th>\n",
       "      <th>solarradiation</th>\n",
       "      <th>solarenergy</th>\n",
       "      <th>solartime</th>\n",
       "      <th>output</th>\n",
       "    </tr>\n",
       "  </thead>\n",
       "  <tbody>\n",
       "    <tr>\n",
       "      <th>0</th>\n",
       "      <td>-1.403946</td>\n",
       "      <td>-0.829721</td>\n",
       "      <td>-1.376138</td>\n",
       "      <td>0.242118</td>\n",
       "      <td>1.004365</td>\n",
       "      <td>-0.293308</td>\n",
       "      <td>-0.6003</td>\n",
       "      <td>-0.451987</td>\n",
       "      <td>-0.883851</td>\n",
       "      <td>-0.680943</td>\n",
       "      <td>-0.651917</td>\n",
       "      <td>-1.509529</td>\n",
       "      <td>-0.281256</td>\n",
       "    </tr>\n",
       "    <tr>\n",
       "      <th>1</th>\n",
       "      <td>-0.916350</td>\n",
       "      <td>-1.188969</td>\n",
       "      <td>-1.340224</td>\n",
       "      <td>-0.316047</td>\n",
       "      <td>0.483319</td>\n",
       "      <td>-0.293308</td>\n",
       "      <td>-0.6003</td>\n",
       "      <td>-0.451987</td>\n",
       "      <td>-0.686336</td>\n",
       "      <td>-0.583275</td>\n",
       "      <td>-0.588037</td>\n",
       "      <td>-1.502480</td>\n",
       "      <td>-0.042159</td>\n",
       "    </tr>\n",
       "    <tr>\n",
       "      <th>2</th>\n",
       "      <td>-1.322680</td>\n",
       "      <td>-1.787716</td>\n",
       "      <td>-1.735276</td>\n",
       "      <td>-1.127923</td>\n",
       "      <td>0.024799</td>\n",
       "      <td>-0.293308</td>\n",
       "      <td>-0.6003</td>\n",
       "      <td>-0.451987</td>\n",
       "      <td>0.044818</td>\n",
       "      <td>-0.513248</td>\n",
       "      <td>-0.502863</td>\n",
       "      <td>-1.495189</td>\n",
       "      <td>0.017616</td>\n",
       "    </tr>\n",
       "    <tr>\n",
       "      <th>3</th>\n",
       "      <td>-1.187236</td>\n",
       "      <td>-2.296651</td>\n",
       "      <td>-2.094413</td>\n",
       "      <td>-1.584603</td>\n",
       "      <td>-0.301724</td>\n",
       "      <td>-0.293308</td>\n",
       "      <td>-0.6003</td>\n",
       "      <td>-0.451987</td>\n",
       "      <td>-0.859595</td>\n",
       "      <td>-0.476393</td>\n",
       "      <td>-0.460277</td>\n",
       "      <td>-1.487654</td>\n",
       "      <td>-0.639903</td>\n",
       "    </tr>\n",
       "    <tr>\n",
       "      <th>4</th>\n",
       "      <td>-1.105970</td>\n",
       "      <td>-1.997277</td>\n",
       "      <td>-1.843017</td>\n",
       "      <td>-1.178665</td>\n",
       "      <td>-0.114147</td>\n",
       "      <td>-0.293308</td>\n",
       "      <td>-0.6003</td>\n",
       "      <td>-0.451987</td>\n",
       "      <td>-0.280909</td>\n",
       "      <td>-0.588803</td>\n",
       "      <td>-0.566744</td>\n",
       "      <td>-1.479148</td>\n",
       "      <td>-0.460580</td>\n",
       "    </tr>\n",
       "  </tbody>\n",
       "</table>\n",
       "</div>"
      ],
      "text/plain": [
       "    tempmax   tempmin      temp       dew  humidity    precip  precipprob  \\\n",
       "0 -1.403946 -0.829721 -1.376138  0.242118  1.004365 -0.293308     -0.6003   \n",
       "1 -0.916350 -1.188969 -1.340224 -0.316047  0.483319 -0.293308     -0.6003   \n",
       "2 -1.322680 -1.787716 -1.735276 -1.127923  0.024799 -0.293308     -0.6003   \n",
       "3 -1.187236 -2.296651 -2.094413 -1.584603 -0.301724 -0.293308     -0.6003   \n",
       "4 -1.105970 -1.997277 -1.843017 -1.178665 -0.114147 -0.293308     -0.6003   \n",
       "\n",
       "   precipcover  cloudcover  solarradiation  solarenergy  solartime    output  \n",
       "0    -0.451987   -0.883851       -0.680943    -0.651917  -1.509529 -0.281256  \n",
       "1    -0.451987   -0.686336       -0.583275    -0.588037  -1.502480 -0.042159  \n",
       "2    -0.451987    0.044818       -0.513248    -0.502863  -1.495189  0.017616  \n",
       "3    -0.451987   -0.859595       -0.476393    -0.460277  -1.487654 -0.639903  \n",
       "4    -0.451987   -0.280909       -0.588803    -0.566744  -1.479148 -0.460580  "
      ]
     },
     "execution_count": 3,
     "metadata": {},
     "output_type": "execute_result"
    }
   ],
   "source": [
    "from sklearn.model_selection import train_test_split\n",
    "from sklearn.metrics import mean_squared_error, r2_score\n",
    "from sklearn.ensemble import RandomForestRegressor\n",
    "from sklearn.preprocessing import StandardScaler, PolynomialFeatures\n",
    "scaler = StandardScaler()\n",
    "numeric_cols = data_df.select_dtypes(include=[np.number]).columns\n",
    "data_df = data_df[numeric_cols]\n",
    "data_norm = pd.DataFrame(scaler.fit_transform(data_df), columns=data_df.columns)\n",
    "data_norm.head(5)"
   ]
  },
  {
   "cell_type": "code",
   "execution_count": 4,
   "id": "68c7bc5b",
   "metadata": {},
   "outputs": [
    {
     "name": "stdout",
     "output_type": "stream",
     "text": [
      "X  (151, 12)\n",
      "y  (151,)\n",
      "X_train  (120, 12)\n",
      "y_train  (120,)\n"
     ]
    }
   ],
   "source": [
    "# Split data \n",
    "X = data_norm.drop('output', axis=1)\n",
    "y = data_norm['output']\n",
    "X_train, X_test, y_train, y_test = train_test_split(X, y, test_size=0.2, random_state=12)\n",
    "print( 'X ', X.shape)\n",
    "print( 'y ', y.shape)\n",
    "print( 'X_train ', X_train.shape)\n",
    "print( 'y_train ', y_train.shape)"
   ]
  },
  {
   "cell_type": "code",
   "execution_count": 5,
   "id": "fec8ba4a",
   "metadata": {},
   "outputs": [],
   "source": [
    "from ParamTester import ParamTester\n",
    "from ParamTester import predict_and_eval"
   ]
  },
  {
   "cell_type": "code",
   "execution_count": 6,
   "id": "dfc5c56b",
   "metadata": {},
   "outputs": [
    {
     "name": "stdout",
     "output_type": "stream",
     "text": [
      "Train Mean Squared Error: 0.06659938118489624\n",
      "Train R-squared: 0.938472299682358\n",
      "Test Mean Squared Error: 0.6681589174850939\n",
      "Test R-squared: 0.014030966299532155\n"
     ]
    }
   ],
   "source": [
    "rf_reg = RandomForestRegressor(random_state=0)\n",
    "rf_reg.fit(X_train, y_train)\n",
    "\n",
    "rf_metrics, rf_y_train_pred, rf_y_test_pred = predict_and_eval(rf_reg, X_train, y_train, X_test, y_test)"
   ]
  },
  {
   "cell_type": "code",
   "execution_count": 7,
   "id": "3c3bb9c3",
   "metadata": {},
   "outputs": [
    {
     "name": "stdout",
     "output_type": "stream",
     "text": [
      "features:  12\n",
      "params:  {'bootstrap': True, 'ccp_alpha': 0.0, 'criterion': 'squared_error', 'max_depth': None, 'max_features': 1.0, 'max_leaf_nodes': None, 'max_samples': None, 'min_impurity_decrease': 0.0, 'min_samples_leaf': 1, 'min_samples_split': 2, 'min_weight_fraction_leaf': 0.0, 'monotonic_cst': None, 'n_estimators': 100, 'n_jobs': None, 'oob_score': False, 'random_state': 0, 'verbose': 0, 'warm_start': False}\n"
     ]
    }
   ],
   "source": [
    "print ('features: ',rf_reg.n_features_in_)\n",
    "print ('params: ',rf_reg.get_params())"
   ]
  },
  {
   "cell_type": "code",
   "execution_count": 8,
   "id": "427186d2",
   "metadata": {},
   "outputs": [],
   "source": [
    "# It seems the the RandomForestRegressor model have high bias(underfitting). Let's try adding more features using PolynomialFeatures\n",
    "poly = PolynomialFeatures(degree=2, include_bias=False, interaction_only=False)\n",
    "X_poly  = poly.fit_transform(X)\n",
    "X_poly_train, X_poly_test, y_poly_train, y_poly_test = train_test_split(X_poly, y, test_size=0.2, random_state=42)"
   ]
  },
  {
   "cell_type": "code",
   "execution_count": 9,
   "id": "30aae638",
   "metadata": {},
   "outputs": [
    {
     "name": "stdout",
     "output_type": "stream",
     "text": [
      "Train Mean Squared Error: 0.06844087671953901\n",
      "Train R-squared: 0.9287898058998093\n",
      "Test Mean Squared Error: 0.6769804363071698\n",
      "Test R-squared: 0.3995077076239393\n"
     ]
    }
   ],
   "source": [
    "rf_poly_reg = RandomForestRegressor(random_state=0)\n",
    "rf_poly_reg.fit(X_poly_train, y_poly_train)\n",
    "\n",
    "rf_poly_metrics, rf_poly_y_train_pred, rf_poly_y_test_pred = predict_and_eval(rf_poly_reg, X_poly_train, y_poly_train, X_poly_test, y_poly_test)"
   ]
  },
  {
   "cell_type": "code",
   "execution_count": 10,
   "id": "81be8d20",
   "metadata": {},
   "outputs": [
    {
     "name": "stdout",
     "output_type": "stream",
     "text": [
      "features:  90\n",
      "params:  {'bootstrap': True, 'ccp_alpha': 0.0, 'criterion': 'squared_error', 'max_depth': None, 'max_features': 1.0, 'max_leaf_nodes': None, 'max_samples': None, 'min_impurity_decrease': 0.0, 'min_samples_leaf': 1, 'min_samples_split': 2, 'min_weight_fraction_leaf': 0.0, 'monotonic_cst': None, 'n_estimators': 100, 'n_jobs': None, 'oob_score': False, 'random_state': 0, 'verbose': 0, 'warm_start': False}\n"
     ]
    }
   ],
   "source": [
    "print ('features: ',rf_poly_reg.n_features_in_)\n",
    "print ('params: ',rf_poly_reg.get_params())"
   ]
  },
  {
   "cell_type": "markdown",
   "id": "e791a50c",
   "metadata": {},
   "source": [
    "### Observations\n",
    "1. Polynomial features significantly improved the R2 score \n",
    "2. At the same time, the training R2 score of 0.92 indicates overfitting\n",
    "\n",
    "To address this, following variations with n_estimators, max_features, etc are performed."
   ]
  },
  {
   "cell_type": "code",
   "execution_count": 11,
   "id": "f9e7a6dd",
   "metadata": {},
   "outputs": [
    {
     "name": "stdout",
     "output_type": "stream",
     "text": [
      "Parameter information:\n",
      "Parameter: max_features, Values: [10, 20, 30, 40, 50, 60, 70, 80], Params: {'random_state': 0}\n",
      "Parameter: n_estimators, Values: [10, 20, 30, 40, 50, 60, 70, 80, 90, 100, 110, 120, 130, 140], Params: {'random_state': 0}\n",
      "Parameter: max_depth, Values: [4, 8, 12, 16, 20, 24, 28, 32], Params: {'random_state': 0}\n",
      "Current best parameters:\n"
     ]
    }
   ],
   "source": [
    "param_info = [\n",
    "    {\n",
    "        'name': 'max_features',\n",
    "        'type': 'int',\n",
    "        'params': {'random_state' : 0},\n",
    "        'values': [10, 20, 30, 40, 50, 60, 70, 80]\n",
    "    },\n",
    "    {        \n",
    "        'name': 'n_estimators',\n",
    "        'type': 'int',\n",
    "        'params': {'random_state' : 0},\n",
    "        'values': [10, 20, 30, 40, 50, 60, 70, 80, 90, 100, 110, 120, 130, 140]\n",
    "    },\n",
    "    {        \n",
    "        'name': 'max_depth',\n",
    "        'type': 'int',\n",
    "        'params': {'random_state' : 0},\n",
    "        'values': [4, 8, 12, 16, 20, 24, 28, 32]\n",
    "    }\n",
    "]\n",
    "pt = ParamTester(RandomForestRegressor, X_poly_train, y_poly_train, X_poly_test, y_poly_test)\n",
    "pt.init_test_params(param_info)\n",
    "pt.get_attr('param_info')\n",
    "pt.get_attr('best_params')"
   ]
  },
  {
   "cell_type": "code",
   "execution_count": 12,
   "id": "78f3ea01",
   "metadata": {},
   "outputs": [
    {
     "name": "stdout",
     "output_type": "stream",
     "text": [
      "--- Running tests for parameter: max_features ---\n",
      "Updated params: {'random_state': 0}\n",
      "-- Testing max_features with value: 10 with {'random_state': 0, 'max_features': 10}\n",
      "Train Mean Squared Error: 0.06592921882137324\n",
      "Train R-squared: 0.9314030927981433\n",
      "Test Mean Squared Error: 0.6145786259771222\n",
      "Test R-squared: 0.45485909464172325\n",
      "-- Testing max_features with value: 20 with {'random_state': 0, 'max_features': 20}\n",
      "Train Mean Squared Error: 0.06869116400277789\n",
      "Train R-squared: 0.9285293912634907\n",
      "Test Mean Squared Error: 0.6459348434174087\n",
      "Test R-squared: 0.4270456367024211\n",
      "-- Testing max_features with value: 30 with {'random_state': 0, 'max_features': 30}\n",
      "Train Mean Squared Error: 0.06662064116317538\n",
      "Train R-squared: 0.9306836934928611\n",
      "Test Mean Squared Error: 0.6270915551840001\n",
      "Test R-squared: 0.443759929672105\n",
      "-- Testing max_features with value: 40 with {'random_state': 0, 'max_features': 40}\n",
      "Train Mean Squared Error: 0.06993984326902852\n",
      "Train R-squared: 0.927230186794165\n",
      "Test Mean Squared Error: 0.6723351121677614\n",
      "Test R-squared: 0.4036281831823164\n",
      "-- Testing max_features with value: 50 with {'random_state': 0, 'max_features': 50}\n",
      "Train Mean Squared Error: 0.06834109007382581\n",
      "Train R-squared: 0.9288936302040911\n",
      "Test Mean Squared Error: 0.6800773027386388\n",
      "Test R-squared: 0.3967607384016685\n",
      "-- Testing max_features with value: 60 with {'random_state': 0, 'max_features': 60}\n",
      "Train Mean Squared Error: 0.06809663940308953\n",
      "Train R-squared: 0.9291479720615513\n",
      "Test Mean Squared Error: 0.6783524982735271\n",
      "Test R-squared: 0.3982906670844013\n",
      "-- Testing max_features with value: 70 with {'random_state': 0, 'max_features': 70}\n",
      "Train Mean Squared Error: 0.06530939156485688\n",
      "Train R-squared: 0.9320480000722857\n",
      "Test Mean Squared Error: 0.6335650178419783\n",
      "Test R-squared: 0.43801786650067176\n",
      "-- Testing max_features with value: 80 with {'random_state': 0, 'max_features': 80}\n",
      "Train Mean Squared Error: 0.06576991004257172\n",
      "Train R-squared: 0.9315688476745282\n",
      "Test Mean Squared Error: 0.6515450567006834\n",
      "Test R-squared: 0.4220692893007606\n",
      "Best max_features value: 10.0 with test R2: 0.45485909464172325\n",
      "Best max_features value: 10.0 with test R2: 0.45485909464172325\n",
      "-------------------------------------\n",
      "Plotting metrics for max_features\n"
     ]
    },
    {
     "data": {
      "image/png": "[encoded data removed]",
      "text/plain": [
       "<Figure size 1200x600 with 1 Axes>"
      ]
     },
     "metadata": {},
     "output_type": "display_data"
    },
    {
     "name": "stdout",
     "output_type": "stream",
     "text": [
      "--- Running tests for parameter: n_estimators ---\n",
      "Updated params: {'random_state': 0, 'max_features': 10}\n",
      "-- Testing n_estimators with value: 10 with {'random_state': 0, 'max_features': 10, 'n_estimators': 10}\n",
      "Train Mean Squared Error: 0.09626562231564843\n",
      "Train R-squared: 0.899839189986356\n",
      "Test Mean Squared Error: 0.5945819882862435\n",
      "Test R-squared: 0.47259642671635493\n",
      "-- Testing n_estimators with value: 20 with {'random_state': 0, 'max_features': 10, 'n_estimators': 20}\n",
      "Train Mean Squared Error: 0.08345529626988316\n",
      "Train R-squared: 0.9131678591666742\n",
      "Test Mean Squared Error: 0.5422223364078015\n",
      "Test R-squared: 0.5190402612767853\n",
      "-- Testing n_estimators with value: 30 with {'random_state': 0, 'max_features': 10, 'n_estimators': 30}\n",
      "Train Mean Squared Error: 0.07689660260622927\n",
      "Train R-squared: 0.9199919366948797\n",
      "Test Mean Squared Error: 0.5567114686368\n",
      "Test R-squared: 0.5061881731511789\n",
      "-- Testing n_estimators with value: 40 with {'random_state': 0, 'max_features': 10, 'n_estimators': 40}\n",
      "Train Mean Squared Error: 0.07787177918986912\n",
      "Train R-squared: 0.9189773016239772\n",
      "Test Mean Squared Error: 0.5390805808071476\n",
      "Test R-squared: 0.5218270478979956\n",
      "-- Testing n_estimators with value: 50 with {'random_state': 0, 'max_features': 10, 'n_estimators': 50}\n",
      "Train Mean Squared Error: 0.07508790000230353\n",
      "Train R-squared: 0.9218738246786188\n",
      "Test Mean Squared Error: 0.524581065083843\n",
      "Test R-squared: 0.5346883463463298\n",
      "-- Testing n_estimators with value: 60 with {'random_state': 0, 'max_features': 10, 'n_estimators': 60}\n",
      "Train Mean Squared Error: 0.07066314528111813\n",
      "Train R-squared: 0.9264776178742047\n",
      "Test Mean Squared Error: 0.5547273759230856\n",
      "Test R-squared: 0.5079480945876744\n",
      "-- Testing n_estimators with value: 70 with {'random_state': 0, 'max_features': 10, 'n_estimators': 70}\n",
      "Train Mean Squared Error: 0.07134227564843675\n",
      "Train R-squared: 0.9257710079125254\n",
      "Test Mean Squared Error: 0.5481843844787243\n",
      "Test R-squared: 0.5137518308859546\n",
      "-- Testing n_estimators with value: 80 with {'random_state': 0, 'max_features': 10, 'n_estimators': 80}\n",
      "Train Mean Squared Error: 0.06896285706795287\n",
      "Train R-squared: 0.9282467047048998\n",
      "Test Mean Squared Error: 0.5622376454429907\n",
      "Test R-squared: 0.5012863674261474\n",
      "-- Testing n_estimators with value: 90 with {'random_state': 0, 'max_features': 10, 'n_estimators': 90}\n",
      "Train Mean Squared Error: 0.06528540759330466\n",
      "Train R-squared: 0.9320729545052414\n",
      "Test Mean Squared Error: 0.6024256302657526\n",
      "Test R-squared: 0.465638992940949\n",
      "-- Testing n_estimators with value: 100 with {'random_state': 0, 'max_features': 10, 'n_estimators': 100}\n",
      "Train Mean Squared Error: 0.06592921882137324\n",
      "Train R-squared: 0.9314030927981433\n",
      "Test Mean Squared Error: 0.6145786259771222\n",
      "Test R-squared: 0.45485909464172325\n",
      "-- Testing n_estimators with value: 110 with {'random_state': 0, 'max_features': 10, 'n_estimators': 110}\n",
      "Train Mean Squared Error: 0.06530072464489671\n",
      "Train R-squared: 0.9320570176810921\n",
      "Test Mean Squared Error: 0.6154805592952676\n",
      "Test R-squared: 0.4540590656058211\n",
      "-- Testing n_estimators with value: 120 with {'random_state': 0, 'max_features': 10, 'n_estimators': 120}\n",
      "Train Mean Squared Error: 0.06325612721350973\n",
      "Train R-squared: 0.9341843454846567\n",
      "Test Mean Squared Error: 0.6331074583107666\n",
      "Test R-squared: 0.4384237289998817\n",
      "-- Testing n_estimators with value: 130 with {'random_state': 0, 'max_features': 10, 'n_estimators': 130}\n",
      "Train Mean Squared Error: 0.0631359262462863\n",
      "Train R-squared: 0.9343094101334058\n",
      "Test Mean Squared Error: 0.6338570300387729\n",
      "Test R-squared: 0.437758847090286\n",
      "-- Testing n_estimators with value: 140 with {'random_state': 0, 'max_features': 10, 'n_estimators': 140}\n",
      "Train Mean Squared Error: 0.06299085303424093\n",
      "Train R-squared: 0.9344603534305063\n",
      "Test Mean Squared Error: 0.6299046727466211\n",
      "Test R-squared: 0.4412646501583922\n",
      "Best n_estimators value: 50.0 with test R2: 0.5346883463463298\n",
      "Best n_estimators value: 50.0 with test R2: 0.5346883463463298\n",
      "-------------------------------------\n",
      "Plotting metrics for n_estimators\n"
     ]
    },
    {
     "data": {
      "image/png": "[encoded data removed]",
      "text/plain": [
       "<Figure size 1200x600 with 1 Axes>"
      ]
     },
     "metadata": {},
     "output_type": "display_data"
    },
    {
     "name": "stdout",
     "output_type": "stream",
     "text": [
      "--- Running tests for parameter: max_depth ---\n",
      "Updated params: {'random_state': 0, 'max_features': 10, 'n_estimators': 50}\n",
      "-- Testing max_depth with value: 4 with {'random_state': 0, 'max_features': 10, 'n_estimators': 50, 'max_depth': 4}\n",
      "Train Mean Squared Error: 0.16552516502885986\n",
      "Train R-squared: 0.8277772042799367\n",
      "Test Mean Squared Error: 0.5606354081525323\n",
      "Test R-squared: 0.5027075770976204\n",
      "-- Testing max_depth with value: 8 with {'random_state': 0, 'max_features': 10, 'n_estimators': 50, 'max_depth': 8}\n",
      "Train Mean Squared Error: 0.07885720363654426\n",
      "Train R-squared: 0.917952004031628\n",
      "Test Mean Squared Error: 0.5498211472597802\n",
      "Test R-squared: 0.5122999965614157\n",
      "-- Testing max_depth with value: 12 with {'random_state': 0, 'max_features': 10, 'n_estimators': 50, 'max_depth': 12}\n",
      "Train Mean Squared Error: 0.07500125954552388\n",
      "Train R-squared: 0.921963970860841\n",
      "Test Mean Squared Error: 0.5333742180141452\n",
      "Test R-squared: 0.5268886814267151\n",
      "-- Testing max_depth with value: 16 with {'random_state': 0, 'max_features': 10, 'n_estimators': 50, 'max_depth': 16}\n",
      "Train Mean Squared Error: 0.07527025003903205\n",
      "Train R-squared: 0.9216840962278448\n",
      "Test Mean Squared Error: 0.5246853845883718\n",
      "Test R-squared: 0.534595813305411\n",
      "-- Testing max_depth with value: 20 with {'random_state': 0, 'max_features': 10, 'n_estimators': 50, 'max_depth': 20}\n",
      "Train Mean Squared Error: 0.07508790000230353\n",
      "Train R-squared: 0.9218738246786188\n",
      "Test Mean Squared Error: 0.524581065083843\n",
      "Test R-squared: 0.5346883463463298\n",
      "-- Testing max_depth with value: 24 with {'random_state': 0, 'max_features': 10, 'n_estimators': 50, 'max_depth': 24}\n",
      "Train Mean Squared Error: 0.07508790000230353\n",
      "Train R-squared: 0.9218738246786188\n",
      "Test Mean Squared Error: 0.524581065083843\n",
      "Test R-squared: 0.5346883463463298\n",
      "-- Testing max_depth with value: 28 with {'random_state': 0, 'max_features': 10, 'n_estimators': 50, 'max_depth': 28}\n",
      "Train Mean Squared Error: 0.07508790000230353\n",
      "Train R-squared: 0.9218738246786188\n",
      "Test Mean Squared Error: 0.524581065083843\n",
      "Test R-squared: 0.5346883463463298\n",
      "-- Testing max_depth with value: 32 with {'random_state': 0, 'max_features': 10, 'n_estimators': 50, 'max_depth': 32}\n",
      "Train Mean Squared Error: 0.07508790000230353\n",
      "Train R-squared: 0.9218738246786188\n",
      "Test Mean Squared Error: 0.524581065083843\n",
      "Test R-squared: 0.5346883463463298\n",
      "Best max_depth value: 20.0 with test R2: 0.5346883463463298\n",
      "Best max_depth value: 20.0 with test R2: 0.5346883463463298\n",
      "-------------------------------------\n",
      "Plotting metrics for max_depth\n"
     ]
    },
    {
     "data": {
      "image/png": "[encoded data removed]",
      "text/plain": [
       "<Figure size 1200x600 with 1 Axes>"
      ]
     },
     "metadata": {},
     "output_type": "display_data"
    }
   ],
   "source": [
    "pt.run_param_tests()"
   ]
  },
  {
   "cell_type": "code",
   "execution_count": 13,
   "id": "bd3e3c2b",
   "metadata": {},
   "outputs": [
    {
     "name": "stdout",
     "output_type": "stream",
     "text": [
      "Current best parameters:\n",
      "max_features: 10\n",
      "n_estimators: 50\n",
      "max_depth: 20\n"
     ]
    }
   ],
   "source": [
    "pt.get_attr('best_params')"
   ]
  },
  {
   "cell_type": "markdown",
   "id": "b4ffb10c",
   "metadata": {},
   "source": [
    "### Observations\n",
    "- In almost all parameter variations, training R2 score indicates overfitting\n",
    "- The test R2 score however peaks around 0.45 (`max_features` = 60) before stagnating between 0.4 to 0.44\n",
    "- R2 score for test data peaks around `n_estimators` =50, while training R2 score being always > 90% indicates overfitting\n",
    "- R2 score for test data reaches max of 0.53 at `max_depth`=20 and stays stagnant with increasing `max_depth`. At the same time, training R2 score being always > 90% indicates overfitting\n",
    "- The test R2 score of 0.53 shows no improvement over previously tuned parameters - namely `n_estimators` and `max_features`"
   ]
  }
 ],
 "metadata": {
  "kernelspec": {
   "display_name": "py3env",
   "language": "python",
   "name": "python3"
  },
  "language_info": {
   "codemirror_mode": {
    "name": "ipython",
    "version": 3
   },
   "file_extension": ".py",
   "mimetype": "text/x-python",
   "name": "python",
   "nbconvert_exporter": "python",
   "pygments_lexer": "ipython3",
   "version": "3.9.6"
  }
 },
 "nbformat": 4,
 "nbformat_minor": 5
}
